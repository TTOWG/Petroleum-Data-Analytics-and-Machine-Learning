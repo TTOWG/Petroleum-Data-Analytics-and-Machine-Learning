{
 "cells": [
  {
   "cell_type": "code",
   "execution_count": 1,
   "metadata": {},
   "outputs": [],
   "source": [
    "import numpy as np"
   ]
  },
  {
   "cell_type": "code",
   "execution_count": 3,
   "metadata": {},
   "outputs": [],
   "source": [
    "a = np.array(42)"
   ]
  },
  {
   "cell_type": "code",
   "execution_count": 4,
   "metadata": {},
   "outputs": [
    {
     "data": {
      "text/plain": [
       "0"
      ]
     },
     "execution_count": 4,
     "metadata": {},
     "output_type": "execute_result"
    }
   ],
   "source": [
    "a.ndim"
   ]
  },
  {
   "cell_type": "markdown",
   "metadata": {},
   "source": [
    "# 1d array"
   ]
  },
  {
   "cell_type": "code",
   "execution_count": 5,
   "metadata": {},
   "outputs": [],
   "source": [
    "arr = np.array([42,23])\n"
   ]
  },
  {
   "cell_type": "code",
   "execution_count": 6,
   "metadata": {},
   "outputs": [
    {
     "data": {
      "text/plain": [
       "array([42, 23])"
      ]
     },
     "execution_count": 6,
     "metadata": {},
     "output_type": "execute_result"
    }
   ],
   "source": [
    "arr"
   ]
  },
  {
   "cell_type": "code",
   "execution_count": 7,
   "metadata": {},
   "outputs": [
    {
     "data": {
      "text/plain": [
       "1"
      ]
     },
     "execution_count": 7,
     "metadata": {},
     "output_type": "execute_result"
    }
   ],
   "source": [
    "arr.ndim"
   ]
  },
  {
   "cell_type": "code",
   "execution_count": 8,
   "metadata": {},
   "outputs": [],
   "source": []
  },
  {
   "cell_type": "code",
   "execution_count": 9,
   "metadata": {},
   "outputs": [
    {
     "data": {
      "text/plain": [
       "5"
      ]
     },
     "execution_count": 9,
     "metadata": {},
     "output_type": "execute_result"
    }
   ],
   "source": [
    "arr.ndim"
   ]
  },
  {
   "cell_type": "markdown",
   "metadata": {},
   "source": [
    "# 2d arrasy"
   ]
  },
  {
   "cell_type": "code",
   "execution_count": 10,
   "metadata": {},
   "outputs": [],
   "source": [
    "arr = np.array([[1, 2, 3], [4, 5, 6]])"
   ]
  },
  {
   "cell_type": "code",
   "execution_count": 11,
   "metadata": {},
   "outputs": [
    {
     "data": {
      "text/plain": [
       "2"
      ]
     },
     "execution_count": 11,
     "metadata": {},
     "output_type": "execute_result"
    }
   ],
   "source": [
    "arr.ndim"
   ]
  },
  {
   "cell_type": "code",
   "execution_count": 12,
   "metadata": {},
   "outputs": [
    {
     "data": {
      "text/plain": [
       "array([[1, 2, 3],\n",
       "       [4, 5, 6]])"
      ]
     },
     "execution_count": 12,
     "metadata": {},
     "output_type": "execute_result"
    }
   ],
   "source": [
    "arr"
   ]
  },
  {
   "cell_type": "code",
   "execution_count": 21,
   "metadata": {},
   "outputs": [],
   "source": [
    "mat = np.mat(np.array([[1, 2,3],[4,5,6]]))"
   ]
  },
  {
   "cell_type": "code",
   "execution_count": 22,
   "metadata": {},
   "outputs": [
    {
     "data": {
      "text/plain": [
       "matrix([[1, 2, 3],\n",
       "        [4, 5, 6]])"
      ]
     },
     "execution_count": 22,
     "metadata": {},
     "output_type": "execute_result"
    }
   ],
   "source": [
    "mat"
   ]
  },
  {
   "cell_type": "code",
   "execution_count": 23,
   "metadata": {},
   "outputs": [
    {
     "data": {
      "text/plain": [
       "numpy.matrix"
      ]
     },
     "execution_count": 23,
     "metadata": {},
     "output_type": "execute_result"
    }
   ],
   "source": [
    "type(mat)"
   ]
  },
  {
   "cell_type": "code",
   "execution_count": 24,
   "metadata": {},
   "outputs": [
    {
     "data": {
      "text/plain": [
       "2"
      ]
     },
     "execution_count": 24,
     "metadata": {},
     "output_type": "execute_result"
    }
   ],
   "source": [
    "mat.ndim"
   ]
  },
  {
   "cell_type": "code",
   "execution_count": 25,
   "metadata": {},
   "outputs": [
    {
     "data": {
      "text/plain": [
       "matrix([[1, 2],\n",
       "        [3, 4]])"
      ]
     },
     "execution_count": 25,
     "metadata": {},
     "output_type": "execute_result"
    }
   ],
   "source": [
    "np.mat('1 2; 3 4')"
   ]
  },
  {
   "cell_type": "markdown",
   "metadata": {},
   "source": [
    "# 3d array"
   ]
  },
  {
   "cell_type": "code",
   "execution_count": 13,
   "metadata": {},
   "outputs": [],
   "source": [
    "arr = np.array([[[1, 2, 3], [4, 5, 6]], [[1, 2, 3], [4, 5, 6]]])"
   ]
  },
  {
   "cell_type": "code",
   "execution_count": null,
   "metadata": {},
   "outputs": [],
   "source": []
  },
  {
   "cell_type": "code",
   "execution_count": null,
   "metadata": {},
   "outputs": [],
   "source": []
  },
  {
   "cell_type": "markdown",
   "metadata": {},
   "source": [
    "# High order"
   ]
  },
  {
   "cell_type": "code",
   "execution_count": 14,
   "metadata": {},
   "outputs": [],
   "source": [
    "arr = np.array([1, 2, 3], ndmin=5)\n"
   ]
  },
  {
   "cell_type": "code",
   "execution_count": 15,
   "metadata": {},
   "outputs": [
    {
     "data": {
      "text/plain": [
       "array([[[[[1, 2, 3]]]]])"
      ]
     },
     "execution_count": 15,
     "metadata": {},
     "output_type": "execute_result"
    }
   ],
   "source": [
    "arr"
   ]
  },
  {
   "cell_type": "code",
   "execution_count": 17,
   "metadata": {},
   "outputs": [
    {
     "data": {
      "text/plain": [
       "5"
      ]
     },
     "execution_count": 17,
     "metadata": {},
     "output_type": "execute_result"
    }
   ],
   "source": [
    "arr.ndim"
   ]
  },
  {
   "cell_type": "code",
   "execution_count": null,
   "metadata": {},
   "outputs": [],
   "source": []
  },
  {
   "cell_type": "code",
   "execution_count": null,
   "metadata": {},
   "outputs": [],
   "source": []
  },
  {
   "cell_type": "markdown",
   "metadata": {},
   "source": [
    "# arange"
   ]
  },
  {
   "cell_type": "code",
   "execution_count": 26,
   "metadata": {},
   "outputs": [],
   "source": [
    "Pressures =  np.arange(0,5500,500)"
   ]
  },
  {
   "cell_type": "code",
   "execution_count": 31,
   "metadata": {},
   "outputs": [],
   "source": [
    "l = list(range(0,5500,500))"
   ]
  },
  {
   "cell_type": "code",
   "execution_count": 32,
   "metadata": {},
   "outputs": [
    {
     "data": {
      "text/plain": [
       "[0, 500, 1000, 1500, 2000, 2500, 3000, 3500, 4000, 4500, 5000]"
      ]
     },
     "execution_count": 32,
     "metadata": {},
     "output_type": "execute_result"
    }
   ],
   "source": [
    "l"
   ]
  },
  {
   "cell_type": "code",
   "execution_count": 33,
   "metadata": {},
   "outputs": [
    {
     "data": {
      "text/plain": [
       "array([0.   , 0.005, 0.01 , 0.015, 0.02 , 0.025, 0.03 , 0.035, 0.04 ,\n",
       "       0.045, 0.05 , 0.055, 0.06 , 0.065, 0.07 , 0.075, 0.08 , 0.085,\n",
       "       0.09 , 0.095, 0.1  , 0.105, 0.11 , 0.115, 0.12 , 0.125, 0.13 ,\n",
       "       0.135, 0.14 , 0.145, 0.15 , 0.155, 0.16 , 0.165, 0.17 , 0.175,\n",
       "       0.18 , 0.185, 0.19 , 0.195, 0.2  , 0.205, 0.21 , 0.215, 0.22 ,\n",
       "       0.225, 0.23 , 0.235, 0.24 , 0.245, 0.25 , 0.255, 0.26 , 0.265,\n",
       "       0.27 , 0.275, 0.28 , 0.285, 0.29 , 0.295, 0.3  , 0.305, 0.31 ,\n",
       "       0.315, 0.32 , 0.325, 0.33 , 0.335, 0.34 , 0.345, 0.35 , 0.355,\n",
       "       0.36 , 0.365, 0.37 , 0.375, 0.38 , 0.385, 0.39 , 0.395, 0.4  ,\n",
       "       0.405, 0.41 , 0.415, 0.42 , 0.425, 0.43 , 0.435, 0.44 , 0.445,\n",
       "       0.45 , 0.455, 0.46 , 0.465, 0.47 , 0.475, 0.48 , 0.485, 0.49 ,\n",
       "       0.495, 0.5  , 0.505, 0.51 , 0.515, 0.52 , 0.525, 0.53 , 0.535,\n",
       "       0.54 , 0.545, 0.55 , 0.555, 0.56 , 0.565, 0.57 , 0.575, 0.58 ,\n",
       "       0.585, 0.59 , 0.595, 0.6  , 0.605, 0.61 , 0.615, 0.62 , 0.625,\n",
       "       0.63 , 0.635, 0.64 , 0.645, 0.65 , 0.655, 0.66 , 0.665, 0.67 ,\n",
       "       0.675, 0.68 , 0.685, 0.69 , 0.695, 0.7  , 0.705, 0.71 , 0.715,\n",
       "       0.72 , 0.725, 0.73 , 0.735, 0.74 , 0.745, 0.75 , 0.755, 0.76 ,\n",
       "       0.765, 0.77 , 0.775, 0.78 , 0.785, 0.79 , 0.795, 0.8  , 0.805,\n",
       "       0.81 , 0.815, 0.82 , 0.825, 0.83 , 0.835, 0.84 , 0.845, 0.85 ,\n",
       "       0.855, 0.86 , 0.865, 0.87 , 0.875, 0.88 , 0.885, 0.89 , 0.895,\n",
       "       0.9  , 0.905, 0.91 , 0.915, 0.92 , 0.925, 0.93 , 0.935, 0.94 ,\n",
       "       0.945, 0.95 , 0.955, 0.96 , 0.965, 0.97 , 0.975, 0.98 , 0.985,\n",
       "       0.99 , 0.995])"
      ]
     },
     "execution_count": 33,
     "metadata": {},
     "output_type": "execute_result"
    }
   ],
   "source": [
    "Sw = np.arange(start=0 , stop = 1, step = 0.005)\n",
    "\n",
    "Sw"
   ]
  },
  {
   "cell_type": "markdown",
   "metadata": {},
   "source": [
    "# linspace"
   ]
  },
  {
   "cell_type": "code",
   "execution_count": 34,
   "metadata": {},
   "outputs": [
    {
     "data": {
      "text/plain": [
       "array([0.        , 0.01010101, 0.02020202, 0.03030303, 0.04040404,\n",
       "       0.05050505, 0.06060606, 0.07070707, 0.08080808, 0.09090909,\n",
       "       0.1010101 , 0.11111111, 0.12121212, 0.13131313, 0.14141414,\n",
       "       0.15151515, 0.16161616, 0.17171717, 0.18181818, 0.19191919,\n",
       "       0.2020202 , 0.21212121, 0.22222222, 0.23232323, 0.24242424,\n",
       "       0.25252525, 0.26262626, 0.27272727, 0.28282828, 0.29292929,\n",
       "       0.3030303 , 0.31313131, 0.32323232, 0.33333333, 0.34343434,\n",
       "       0.35353535, 0.36363636, 0.37373737, 0.38383838, 0.39393939,\n",
       "       0.4040404 , 0.41414141, 0.42424242, 0.43434343, 0.44444444,\n",
       "       0.45454545, 0.46464646, 0.47474747, 0.48484848, 0.49494949,\n",
       "       0.50505051, 0.51515152, 0.52525253, 0.53535354, 0.54545455,\n",
       "       0.55555556, 0.56565657, 0.57575758, 0.58585859, 0.5959596 ,\n",
       "       0.60606061, 0.61616162, 0.62626263, 0.63636364, 0.64646465,\n",
       "       0.65656566, 0.66666667, 0.67676768, 0.68686869, 0.6969697 ,\n",
       "       0.70707071, 0.71717172, 0.72727273, 0.73737374, 0.74747475,\n",
       "       0.75757576, 0.76767677, 0.77777778, 0.78787879, 0.7979798 ,\n",
       "       0.80808081, 0.81818182, 0.82828283, 0.83838384, 0.84848485,\n",
       "       0.85858586, 0.86868687, 0.87878788, 0.88888889, 0.8989899 ,\n",
       "       0.90909091, 0.91919192, 0.92929293, 0.93939394, 0.94949495,\n",
       "       0.95959596, 0.96969697, 0.97979798, 0.98989899, 1.        ])"
      ]
     },
     "execution_count": 34,
     "metadata": {},
     "output_type": "execute_result"
    }
   ],
   "source": [
    "saturations = np.linspace(0,1,100)\n",
    "\n",
    "#Both start and stop values are included as the first and last values of the array.\n",
    "#Creates saturation array with 100 values: starting from 0-100\n",
    "\n",
    "saturations"
   ]
  },
  {
   "cell_type": "markdown",
   "metadata": {},
   "source": [
    "# zeroes"
   ]
  },
  {
   "cell_type": "code",
   "execution_count": 40,
   "metadata": {},
   "outputs": [],
   "source": [
    "pl = np.zeros((100,100))"
   ]
  },
  {
   "cell_type": "code",
   "execution_count": 41,
   "metadata": {},
   "outputs": [
    {
     "data": {
      "text/plain": [
       "array([[0., 0., 0., ..., 0., 0., 0.],\n",
       "       [0., 0., 0., ..., 0., 0., 0.],\n",
       "       [0., 0., 0., ..., 0., 0., 0.],\n",
       "       ...,\n",
       "       [0., 0., 0., ..., 0., 0., 0.],\n",
       "       [0., 0., 0., ..., 0., 0., 0.],\n",
       "       [0., 0., 0., ..., 0., 0., 0.]])"
      ]
     },
     "execution_count": 41,
     "metadata": {},
     "output_type": "execute_result"
    }
   ],
   "source": [
    "pl"
   ]
  },
  {
   "cell_type": "code",
   "execution_count": 42,
   "metadata": {},
   "outputs": [],
   "source": [
    "p =  np.ones((50,50))"
   ]
  },
  {
   "cell_type": "code",
   "execution_count": 43,
   "metadata": {},
   "outputs": [
    {
     "data": {
      "text/plain": [
       "array([[1., 1., 1., ..., 1., 1., 1.],\n",
       "       [1., 1., 1., ..., 1., 1., 1.],\n",
       "       [1., 1., 1., ..., 1., 1., 1.],\n",
       "       ...,\n",
       "       [1., 1., 1., ..., 1., 1., 1.],\n",
       "       [1., 1., 1., ..., 1., 1., 1.],\n",
       "       [1., 1., 1., ..., 1., 1., 1.]])"
      ]
     },
     "execution_count": 43,
     "metadata": {},
     "output_type": "execute_result"
    }
   ],
   "source": [
    "p"
   ]
  },
  {
   "cell_type": "code",
   "execution_count": 44,
   "metadata": {},
   "outputs": [],
   "source": [
    "pi = 5000"
   ]
  },
  {
   "cell_type": "code",
   "execution_count": 45,
   "metadata": {},
   "outputs": [
    {
     "data": {
      "text/plain": [
       "array([[5000., 5000., 5000., ..., 5000., 5000., 5000.],\n",
       "       [5000., 5000., 5000., ..., 5000., 5000., 5000.],\n",
       "       [5000., 5000., 5000., ..., 5000., 5000., 5000.],\n",
       "       ...,\n",
       "       [5000., 5000., 5000., ..., 5000., 5000., 5000.],\n",
       "       [5000., 5000., 5000., ..., 5000., 5000., 5000.],\n",
       "       [5000., 5000., 5000., ..., 5000., 5000., 5000.]])"
      ]
     },
     "execution_count": 45,
     "metadata": {},
     "output_type": "execute_result"
    }
   ],
   "source": [
    "pi*p"
   ]
  },
  {
   "cell_type": "code",
   "execution_count": 46,
   "metadata": {},
   "outputs": [
    {
     "data": {
      "text/plain": [
       "array([[1., 0., 0.],\n",
       "       [0., 1., 0.],\n",
       "       [0., 0., 1.]])"
      ]
     },
     "execution_count": 46,
     "metadata": {},
     "output_type": "execute_result"
    }
   ],
   "source": [
    "e = np.eye(3)\n",
    "e"
   ]
  },
  {
   "cell_type": "code",
   "execution_count": 48,
   "metadata": {},
   "outputs": [
    {
     "data": {
      "text/plain": [
       "1"
      ]
     },
     "execution_count": 48,
     "metadata": {},
     "output_type": "execute_result"
    }
   ],
   "source": [
    "saturations.ndim"
   ]
  },
  {
   "cell_type": "code",
   "execution_count": 49,
   "metadata": {},
   "outputs": [
    {
     "data": {
      "text/plain": [
       "0.0"
      ]
     },
     "execution_count": 49,
     "metadata": {},
     "output_type": "execute_result"
    }
   ],
   "source": [
    "saturations[0]"
   ]
  },
  {
   "cell_type": "code",
   "execution_count": 51,
   "metadata": {},
   "outputs": [
    {
     "data": {
      "text/plain": [
       "array([0.11111111, 0.12121212, 0.13131313, 0.14141414])"
      ]
     },
     "execution_count": 51,
     "metadata": {},
     "output_type": "execute_result"
    }
   ],
   "source": [
    "saturations[11:15]"
   ]
  },
  {
   "cell_type": "markdown",
   "metadata": {},
   "source": [
    "# Indexing"
   ]
  },
  {
   "cell_type": "code",
   "execution_count": 2,
   "metadata": {},
   "outputs": [],
   "source": [
    "import numpy as np"
   ]
  },
  {
   "cell_type": "code",
   "execution_count": 3,
   "metadata": {},
   "outputs": [],
   "source": [
    "arr = np.array([1,23,34,45,32,65])"
   ]
  },
  {
   "cell_type": "code",
   "execution_count": 4,
   "metadata": {},
   "outputs": [
    {
     "data": {
      "text/plain": [
       "1"
      ]
     },
     "execution_count": 4,
     "metadata": {},
     "output_type": "execute_result"
    }
   ],
   "source": [
    "arr[0]"
   ]
  },
  {
   "cell_type": "code",
   "execution_count": 5,
   "metadata": {},
   "outputs": [
    {
     "data": {
      "text/plain": [
       "23"
      ]
     },
     "execution_count": 5,
     "metadata": {},
     "output_type": "execute_result"
    }
   ],
   "source": [
    "arr[1]"
   ]
  },
  {
   "cell_type": "code",
   "execution_count": 9,
   "metadata": {},
   "outputs": [],
   "source": [
    "a = arr[1]"
   ]
  },
  {
   "cell_type": "code",
   "execution_count": 10,
   "metadata": {},
   "outputs": [
    {
     "data": {
      "text/plain": [
       "23"
      ]
     },
     "execution_count": 10,
     "metadata": {},
     "output_type": "execute_result"
    }
   ],
   "source": [
    "a"
   ]
  },
  {
   "cell_type": "code",
   "execution_count": 33,
   "metadata": {},
   "outputs": [
    {
     "data": {
      "text/plain": [
       "'43'"
      ]
     },
     "execution_count": 33,
     "metadata": {},
     "output_type": "execute_result"
    }
   ],
   "source": [
    "#Use negative indexing to access an array from the end.\n",
    "arr[-1]"
   ]
  },
  {
   "cell_type": "code",
   "execution_count": 8,
   "metadata": {},
   "outputs": [
    {
     "data": {
      "text/plain": [
       "57"
      ]
     },
     "execution_count": 8,
     "metadata": {},
     "output_type": "execute_result"
    }
   ],
   "source": [
    "arr[1] + arr[2]"
   ]
  },
  {
   "cell_type": "markdown",
   "metadata": {},
   "source": [
    "# Accesing multiple elements"
   ]
  },
  {
   "cell_type": "code",
   "execution_count": 15,
   "metadata": {},
   "outputs": [],
   "source": [
    "arr = np.array([1,2,3,45,'jaiyesh',12,34,'pfs',67,45,43])"
   ]
  },
  {
   "cell_type": "code",
   "execution_count": 17,
   "metadata": {},
   "outputs": [
    {
     "data": {
      "text/plain": [
       "array(['2', '3', '43'], dtype='<U11')"
      ]
     },
     "execution_count": 17,
     "metadata": {},
     "output_type": "execute_result"
    }
   ],
   "source": [
    "#only certain index\n",
    "arr[[1,2,-1]]"
   ]
  },
  {
   "cell_type": "code",
   "execution_count": 18,
   "metadata": {},
   "outputs": [
    {
     "data": {
      "text/plain": [
       "array(['2', '3', '45', 'jaiyesh', '12'], dtype='<U11')"
      ]
     },
     "execution_count": 18,
     "metadata": {},
     "output_type": "execute_result"
    }
   ],
   "source": [
    "#you wantr from 1 to 5\n",
    "arr[[1,2,3,4,5]]"
   ]
  },
  {
   "cell_type": "code",
   "execution_count": 21,
   "metadata": {},
   "outputs": [
    {
     "data": {
      "text/plain": [
       "array(['2', '3', '45', 'jaiyesh', '12'], dtype='<U11')"
      ]
     },
     "execution_count": 21,
     "metadata": {},
     "output_type": "execute_result"
    }
   ],
   "source": [
    "arr[1:6] #Starting index including, last one not including"
   ]
  },
  {
   "cell_type": "code",
   "execution_count": 29,
   "metadata": {},
   "outputs": [
    {
     "data": {
      "text/plain": [
       "array(['1', '2', '3', '45', 'jaiyesh', '12'], dtype='<U11')"
      ]
     },
     "execution_count": 29,
     "metadata": {},
     "output_type": "execute_result"
    }
   ],
   "source": [
    "arr[:6]"
   ]
  },
  {
   "cell_type": "code",
   "execution_count": 30,
   "metadata": {},
   "outputs": [
    {
     "data": {
      "text/plain": [
       "array(['34', 'pfs', '67', '45', '43'], dtype='<U11')"
      ]
     },
     "execution_count": 30,
     "metadata": {},
     "output_type": "execute_result"
    }
   ],
   "source": [
    "arr[6:]"
   ]
  },
  {
   "cell_type": "markdown",
   "metadata": {},
   "source": [
    "# array[start:stop:step]"
   ]
  },
  {
   "cell_type": "code",
   "execution_count": 22,
   "metadata": {},
   "outputs": [],
   "source": [
    "#You want alternate elements"
   ]
  },
  {
   "cell_type": "code",
   "execution_count": 24,
   "metadata": {},
   "outputs": [
    {
     "data": {
      "text/plain": [
       "array(['1', '3', 'jaiyesh', '34', '67'], dtype='<U11')"
      ]
     },
     "execution_count": 24,
     "metadata": {},
     "output_type": "execute_result"
    }
   ],
   "source": [
    "arr[0:-1:2]"
   ]
  },
  {
   "cell_type": "code",
   "execution_count": 32,
   "metadata": {},
   "outputs": [
    {
     "data": {
      "text/plain": [
       "array(['1', '3', 'jaiyesh', '34', '67', '43'], dtype='<U11')"
      ]
     },
     "execution_count": 32,
     "metadata": {},
     "output_type": "execute_result"
    }
   ],
   "source": [
    "arr[::2]"
   ]
  },
  {
   "cell_type": "code",
   "execution_count": 27,
   "metadata": {},
   "outputs": [
    {
     "data": {
      "text/plain": [
       "array(['43', '45', '67', 'pfs', '34', '12', 'jaiyesh', '45', '3', '2',\n",
       "       '1'], dtype='<U11')"
      ]
     },
     "execution_count": 27,
     "metadata": {},
     "output_type": "execute_result"
    }
   ],
   "source": [
    "# reversing array:\n",
    "arr[-1::-1]"
   ]
  },
  {
   "cell_type": "code",
   "execution_count": 31,
   "metadata": {},
   "outputs": [
    {
     "data": {
      "text/plain": [
       "array(['43', '45', '67'], dtype='<U11')"
      ]
     },
     "execution_count": 31,
     "metadata": {},
     "output_type": "execute_result"
    }
   ],
   "source": [
    "arr[-1:-4:-1]"
   ]
  },
  {
   "cell_type": "code",
   "execution_count": 34,
   "metadata": {},
   "outputs": [],
   "source": [
    "perm = np.array([20,34,45,50,56])\n",
    "dp = np.array([30,45,56,54,43])\n",
    "A = 20 \n",
    "vis = 0.5\n"
   ]
  },
  {
   "cell_type": "code",
   "execution_count": 35,
   "metadata": {},
   "outputs": [],
   "source": [
    "q2_4 = perm[1:4]*A*dp[1:4]/vis "
   ]
  },
  {
   "cell_type": "code",
   "execution_count": 36,
   "metadata": {},
   "outputs": [
    {
     "data": {
      "text/plain": [
       "array([ 61200., 100800., 108000.])"
      ]
     },
     "execution_count": 36,
     "metadata": {},
     "output_type": "execute_result"
    }
   ],
   "source": [
    "q2_4"
   ]
  },
  {
   "attachments": {
    "logo.jpg": {
     "image/jpeg": "[encoded data removed]"
    }
   },
   "cell_type": "markdown",
   "metadata": {},
   "source": [
    "![logo.jpg](attachment:logo.jpg)"
   ]
  },
  {
   "cell_type": "markdown",
   "metadata": {},
   "source": [
    "# Reshape"
   ]
  },
  {
   "cell_type": "code",
   "execution_count": 2,
   "metadata": {},
   "outputs": [],
   "source": [
    "import numpy as np"
   ]
  },
  {
   "cell_type": "code",
   "execution_count": 3,
   "metadata": {},
   "outputs": [],
   "source": [
    "arr = np.array([[1, 2, 3, 4], [5, 6, 7, 8]])"
   ]
  },
  {
   "cell_type": "code",
   "execution_count": 4,
   "metadata": {},
   "outputs": [
    {
     "data": {
      "text/plain": [
       "(2, 4)"
      ]
     },
     "execution_count": 4,
     "metadata": {},
     "output_type": "execute_result"
    }
   ],
   "source": [
    "arr.shape"
   ]
  },
  {
   "cell_type": "code",
   "execution_count": 7,
   "metadata": {},
   "outputs": [],
   "source": [
    "arr = np.array([[[1,2,3,4],[4,5,6,5]],[[3,4,5,8],[5,6,7,9]],[[23,34,56,78],[45,67,78,56]]])"
   ]
  },
  {
   "cell_type": "code",
   "execution_count": 9,
   "metadata": {
    "scrolled": false
   },
   "outputs": [
    {
     "data": {
      "text/plain": [
       "array([[[ 1,  2,  3,  4],\n",
       "        [ 4,  5,  6,  5]],\n",
       "\n",
       "       [[ 3,  4,  5,  8],\n",
       "        [ 5,  6,  7,  9]],\n",
       "\n",
       "       [[23, 34, 56, 78],\n",
       "        [45, 67, 78, 56]]])"
      ]
     },
     "execution_count": 9,
     "metadata": {},
     "output_type": "execute_result"
    }
   ],
   "source": [
    "arr"
   ]
  },
  {
   "cell_type": "code",
   "execution_count": 10,
   "metadata": {},
   "outputs": [
    {
     "data": {
      "text/plain": [
       "(3, 2, 4)"
      ]
     },
     "execution_count": 10,
     "metadata": {},
     "output_type": "execute_result"
    }
   ],
   "source": [
    "arr.shape"
   ]
  },
  {
   "cell_type": "code",
   "execution_count": 15,
   "metadata": {},
   "outputs": [],
   "source": [
    "arr = np.array([1, 2, 3, 4], ndmin=5)\n"
   ]
  },
  {
   "cell_type": "code",
   "execution_count": 16,
   "metadata": {
    "scrolled": true
   },
   "outputs": [
    {
     "data": {
      "text/plain": [
       "(1, 1, 1, 1, 4)"
      ]
     },
     "execution_count": 16,
     "metadata": {},
     "output_type": "execute_result"
    }
   ],
   "source": [
    "arr.shape"
   ]
  },
  {
   "cell_type": "code",
   "execution_count": 2,
   "metadata": {},
   "outputs": [],
   "source": [
    "l = [1,2,3,4,5,6,7,8,0,12,12,34]"
   ]
  },
  {
   "cell_type": "code",
   "execution_count": 3,
   "metadata": {},
   "outputs": [],
   "source": [
    "a = np.array(l)"
   ]
  },
  {
   "cell_type": "code",
   "execution_count": 4,
   "metadata": {},
   "outputs": [
    {
     "data": {
      "text/plain": [
       "(12,)"
      ]
     },
     "execution_count": 4,
     "metadata": {},
     "output_type": "execute_result"
    }
   ],
   "source": [
    "a.shape"
   ]
  },
  {
   "cell_type": "code",
   "execution_count": 5,
   "metadata": {},
   "outputs": [
    {
     "data": {
      "text/plain": [
       "array([[ 1,  2,  3,  4,  5,  6,  7,  8,  0, 12, 12, 34]])"
      ]
     },
     "execution_count": 5,
     "metadata": {},
     "output_type": "execute_result"
    }
   ],
   "source": [
    "a.reshape(1,-1)"
   ]
  },
  {
   "cell_type": "code",
   "execution_count": 6,
   "metadata": {},
   "outputs": [
    {
     "data": {
      "text/plain": [
       "array([[ 1],\n",
       "       [ 2],\n",
       "       [ 3],\n",
       "       [ 4],\n",
       "       [ 5],\n",
       "       [ 6],\n",
       "       [ 7],\n",
       "       [ 8],\n",
       "       [ 0],\n",
       "       [12],\n",
       "       [12],\n",
       "       [34]])"
      ]
     },
     "execution_count": 6,
     "metadata": {},
     "output_type": "execute_result"
    }
   ],
   "source": [
    "a.reshape(-1,1)"
   ]
  },
  {
   "cell_type": "code",
   "execution_count": 7,
   "metadata": {},
   "outputs": [
    {
     "data": {
      "text/plain": [
       "(12,)"
      ]
     },
     "execution_count": 7,
     "metadata": {},
     "output_type": "execute_result"
    }
   ],
   "source": [
    "a.shape"
   ]
  },
  {
   "cell_type": "code",
   "execution_count": 8,
   "metadata": {},
   "outputs": [
    {
     "data": {
      "text/plain": [
       "array([[ 1],\n",
       "       [ 2],\n",
       "       [ 3],\n",
       "       [ 4],\n",
       "       [ 5],\n",
       "       [ 6],\n",
       "       [ 7],\n",
       "       [ 8],\n",
       "       [ 0],\n",
       "       [12],\n",
       "       [12],\n",
       "       [34]])"
      ]
     },
     "execution_count": 8,
     "metadata": {},
     "output_type": "execute_result"
    }
   ],
   "source": [
    "a.reshape(-1,1)"
   ]
  },
  {
   "cell_type": "code",
   "execution_count": 9,
   "metadata": {},
   "outputs": [
    {
     "data": {
      "text/plain": [
       "array([[ 1,  2,  3,  4,  5,  6,  7,  8,  0, 12, 12, 34]])"
      ]
     },
     "execution_count": 9,
     "metadata": {},
     "output_type": "execute_result"
    }
   ],
   "source": [
    "a.reshape(1,-1)"
   ]
  },
  {
   "cell_type": "code",
   "execution_count": 10,
   "metadata": {},
   "outputs": [
    {
     "data": {
      "text/plain": [
       "array([[ 1,  2,  3,  4],\n",
       "       [ 5,  6,  7,  8],\n",
       "       [ 0, 12, 12, 34]])"
      ]
     },
     "execution_count": 10,
     "metadata": {},
     "output_type": "execute_result"
    }
   ],
   "source": [
    "a.reshape(3,-1)"
   ]
  },
  {
   "cell_type": "code",
   "execution_count": 11,
   "metadata": {},
   "outputs": [
    {
     "data": {
      "text/plain": [
       "array([[ 1,  2,  3],\n",
       "       [ 4,  5,  6],\n",
       "       [ 7,  8,  0],\n",
       "       [12, 12, 34]])"
      ]
     },
     "execution_count": 11,
     "metadata": {},
     "output_type": "execute_result"
    }
   ],
   "source": [
    "a.reshape(-1,3)"
   ]
  },
  {
   "cell_type": "markdown",
   "metadata": {},
   "source": [
    "## 3 d array reshape((a,b,c)) = a is number of batches, b is number of rows, c is number of columns"
   ]
  },
  {
   "cell_type": "code",
   "execution_count": 12,
   "metadata": {},
   "outputs": [
    {
     "data": {
      "text/plain": [
       "array([[[ 1,  2],\n",
       "        [ 3,  4],\n",
       "        [ 5,  6]],\n",
       "\n",
       "       [[ 7,  8],\n",
       "        [ 0, 12],\n",
       "        [12, 34]]])"
      ]
     },
     "execution_count": 12,
     "metadata": {},
     "output_type": "execute_result"
    }
   ],
   "source": [
    "a.reshape((2,3,2)) # 3d array reshape"
   ]
  },
  {
   "cell_type": "markdown",
   "metadata": {},
   "source": [
    "## 4 D arrays"
   ]
  },
  {
   "cell_type": "code",
   "execution_count": 13,
   "metadata": {},
   "outputs": [
    {
     "data": {
      "text/plain": [
       "array([[[[ 1],\n",
       "         [ 2],\n",
       "         [ 3]],\n",
       "\n",
       "        [[ 4],\n",
       "         [ 5],\n",
       "         [ 6]]],\n",
       "\n",
       "\n",
       "       [[[ 7],\n",
       "         [ 8],\n",
       "         [ 0]],\n",
       "\n",
       "        [[12],\n",
       "         [12],\n",
       "         [34]]]])"
      ]
     },
     "execution_count": 13,
     "metadata": {},
     "output_type": "execute_result"
    }
   ],
   "source": [
    "a.reshape(((2,2,3,1))) #4 D "
   ]
  },
  {
   "cell_type": "markdown",
   "metadata": {},
   "source": [
    "# Indexing for Higher dimensional Arrays"
   ]
  },
  {
   "cell_type": "markdown",
   "metadata": {},
   "source": [
    "## Accesingt elements"
   ]
  },
  {
   "cell_type": "code",
   "execution_count": 14,
   "metadata": {},
   "outputs": [],
   "source": [
    "import numpy as np"
   ]
  },
  {
   "cell_type": "code",
   "execution_count": 54,
   "metadata": {},
   "outputs": [],
   "source": [
    "# 2D arrays\n",
    "arr = np.array([[1,2,3],[4,5,6],[7,8,9],[12,23,34]])"
   ]
  },
  {
   "cell_type": "code",
   "execution_count": 55,
   "metadata": {},
   "outputs": [
    {
     "data": {
      "text/plain": [
       "array([[ 1,  2,  3],\n",
       "       [ 4,  5,  6],\n",
       "       [ 7,  8,  9],\n",
       "       [12, 23, 34]])"
      ]
     },
     "execution_count": 55,
     "metadata": {},
     "output_type": "execute_result"
    }
   ],
   "source": [
    "arr"
   ]
  },
  {
   "cell_type": "code",
   "execution_count": 56,
   "metadata": {},
   "outputs": [
    {
     "data": {
      "text/plain": [
       "2"
      ]
     },
     "execution_count": 56,
     "metadata": {},
     "output_type": "execute_result"
    }
   ],
   "source": [
    "arr.ndim"
   ]
  },
  {
   "cell_type": "code",
   "execution_count": 57,
   "metadata": {},
   "outputs": [
    {
     "data": {
      "text/plain": [
       "(4, 3)"
      ]
     },
     "execution_count": 57,
     "metadata": {},
     "output_type": "execute_result"
    }
   ],
   "source": [
    "arr.shape"
   ]
  },
  {
   "cell_type": "code",
   "execution_count": 58,
   "metadata": {},
   "outputs": [
    {
     "data": {
      "text/plain": [
       "array([1, 2, 3])"
      ]
     },
     "execution_count": 58,
     "metadata": {},
     "output_type": "execute_result"
    }
   ],
   "source": [
    "arr[0]"
   ]
  },
  {
   "cell_type": "code",
   "execution_count": 59,
   "metadata": {},
   "outputs": [
    {
     "data": {
      "text/plain": [
       "6"
      ]
     },
     "execution_count": 59,
     "metadata": {},
     "output_type": "execute_result"
    }
   ],
   "source": [
    "arr[1][2]"
   ]
  },
  {
   "cell_type": "code",
   "execution_count": 60,
   "metadata": {},
   "outputs": [
    {
     "data": {
      "text/plain": [
       "6"
      ]
     },
     "execution_count": 60,
     "metadata": {},
     "output_type": "execute_result"
    }
   ],
   "source": [
    "arr[1,2]"
   ]
  },
  {
   "cell_type": "code",
   "execution_count": 63,
   "metadata": {},
   "outputs": [
    {
     "data": {
      "text/plain": [
       "8"
      ]
     },
     "execution_count": 63,
     "metadata": {},
     "output_type": "execute_result"
    }
   ],
   "source": [
    "arr[-2][-2]"
   ]
  },
  {
   "cell_type": "code",
   "execution_count": 22,
   "metadata": {},
   "outputs": [],
   "source": [
    "# 3D arrays\n",
    "ar = np.array([[[1,2,3],[2,3,4]],[[34,45,56],[34,78,23]]])"
   ]
  },
  {
   "cell_type": "code",
   "execution_count": 23,
   "metadata": {},
   "outputs": [
    {
     "data": {
      "text/plain": [
       "array([[[ 1,  2,  3],\n",
       "        [ 2,  3,  4]],\n",
       "\n",
       "       [[34, 45, 56],\n",
       "        [34, 78, 23]]])"
      ]
     },
     "execution_count": 23,
     "metadata": {},
     "output_type": "execute_result"
    }
   ],
   "source": [
    "ar"
   ]
  },
  {
   "cell_type": "code",
   "execution_count": 24,
   "metadata": {},
   "outputs": [
    {
     "data": {
      "text/plain": [
       "56"
      ]
     },
     "execution_count": 24,
     "metadata": {},
     "output_type": "execute_result"
    }
   ],
   "source": [
    "ar[1][0][2]"
   ]
  },
  {
   "cell_type": "code",
   "execution_count": 25,
   "metadata": {},
   "outputs": [
    {
     "data": {
      "text/plain": [
       "56"
      ]
     },
     "execution_count": 25,
     "metadata": {},
     "output_type": "execute_result"
    }
   ],
   "source": [
    "ar[1,0,2]"
   ]
  },
  {
   "cell_type": "code",
   "execution_count": 26,
   "metadata": {},
   "outputs": [],
   "source": [
    "#High D Arrays\n",
    "ar = np.array([1,2,3,4,5,6],ndmin = 5)"
   ]
  },
  {
   "cell_type": "code",
   "execution_count": 27,
   "metadata": {},
   "outputs": [
    {
     "data": {
      "text/plain": [
       "array([[[[[1, 2, 3, 4, 5, 6]]]]])"
      ]
     },
     "execution_count": 27,
     "metadata": {},
     "output_type": "execute_result"
    }
   ],
   "source": [
    "ar"
   ]
  },
  {
   "cell_type": "code",
   "execution_count": 28,
   "metadata": {},
   "outputs": [
    {
     "data": {
      "text/plain": [
       "2"
      ]
     },
     "execution_count": 28,
     "metadata": {},
     "output_type": "execute_result"
    }
   ],
   "source": [
    "ar[0][0][0][0][1]"
   ]
  },
  {
   "cell_type": "code",
   "execution_count": 29,
   "metadata": {},
   "outputs": [
    {
     "data": {
      "text/plain": [
       "2"
      ]
     },
     "execution_count": 29,
     "metadata": {},
     "output_type": "execute_result"
    }
   ],
   "source": [
    "ar[0,0,0,0,1]"
   ]
  },
  {
   "cell_type": "markdown",
   "metadata": {},
   "source": [
    "# Slicing higher Dimensional Arrays"
   ]
  },
  {
   "cell_type": "code",
   "execution_count": 31,
   "metadata": {},
   "outputs": [],
   "source": [
    "#2D Array\n",
    "arr = np.array([[1,2,3,4,5],[4,5,6,7,8],[12,34,456,77,87],[2,55,39,82,49]])"
   ]
  },
  {
   "cell_type": "code",
   "execution_count": 32,
   "metadata": {},
   "outputs": [
    {
     "data": {
      "text/plain": [
       "array([[  1,   2,   3,   4,   5],\n",
       "       [  4,   5,   6,   7,   8],\n",
       "       [ 12,  34, 456,  77,  87],\n",
       "       [  2,  55,  39,  82,  49]])"
      ]
     },
     "execution_count": 32,
     "metadata": {},
     "output_type": "execute_result"
    }
   ],
   "source": [
    "arr"
   ]
  },
  {
   "cell_type": "code",
   "execution_count": 45,
   "metadata": {},
   "outputs": [
    {
     "data": {
      "text/plain": [
       "array([[  4,   5,   6,   7,   8],\n",
       "       [ 12,  34, 456,  77,  87]])"
      ]
     },
     "execution_count": 45,
     "metadata": {},
     "output_type": "execute_result"
    }
   ],
   "source": [
    "arr[1:3]"
   ]
  },
  {
   "cell_type": "code",
   "execution_count": 47,
   "metadata": {},
   "outputs": [
    {
     "data": {
      "text/plain": [
       "array([[  6,   7,   8],\n",
       "       [456,  77,  87],\n",
       "       [ 39,  82,  49]])"
      ]
     },
     "execution_count": 47,
     "metadata": {},
     "output_type": "execute_result"
    }
   ],
   "source": [
    "arr[1:4,2:5]"
   ]
  },
  {
   "cell_type": "code",
   "execution_count": 50,
   "metadata": {},
   "outputs": [
    {
     "data": {
      "text/plain": [
       "array([[  2,  55,  39,  82,  49],\n",
       "       [ 12,  34, 456,  77,  87],\n",
       "       [  4,   5,   6,   7,   8],\n",
       "       [  1,   2,   3,   4,   5]])"
      ]
     },
     "execution_count": 50,
     "metadata": {},
     "output_type": "execute_result"
    }
   ],
   "source": [
    "arr[-1::-1] #reversing row wise"
   ]
  },
  {
   "cell_type": "code",
   "execution_count": 52,
   "metadata": {},
   "outputs": [
    {
     "data": {
      "text/plain": [
       "array([[  5,   4,   3,   2,   1],\n",
       "       [  8,   7,   6,   5,   4],\n",
       "       [ 87,  77, 456,  34,  12],\n",
       "       [ 49,  82,  39,  55,   2]])"
      ]
     },
     "execution_count": 52,
     "metadata": {},
     "output_type": "execute_result"
    }
   ],
   "source": [
    "arr[::,-1::-1] #Reversing column wise"
   ]
  },
  {
   "cell_type": "code",
   "execution_count": 64,
   "metadata": {},
   "outputs": [
    {
     "data": {
      "text/plain": [
       "array([[ 3,  2,  1],\n",
       "       [ 6,  5,  4],\n",
       "       [ 9,  8,  7],\n",
       "       [34, 23, 12]])"
      ]
     },
     "execution_count": 64,
     "metadata": {},
     "output_type": "execute_result"
    }
   ],
   "source": [
    "arr[::,-1::-1]"
   ]
  },
  {
   "cell_type": "code",
   "execution_count": 67,
   "metadata": {},
   "outputs": [],
   "source": [
    "# 3D arrays\n",
    "ar = np.array([[[1,2,3],[2,3,4]],[[34,45,56],[34,78,23]],[[23,45,67],[56,67,45]]])\n"
   ]
  },
  {
   "cell_type": "code",
   "execution_count": 70,
   "metadata": {},
   "outputs": [
    {
     "data": {
      "text/plain": [
       "array([[[ 1,  2,  3],\n",
       "        [ 2,  3,  4]],\n",
       "\n",
       "       [[34, 45, 56],\n",
       "        [34, 78, 23]],\n",
       "\n",
       "       [[23, 45, 67],\n",
       "        [56, 67, 45]]])"
      ]
     },
     "execution_count": 70,
     "metadata": {},
     "output_type": "execute_result"
    }
   ],
   "source": [
    "ar"
   ]
  },
  {
   "cell_type": "code",
   "execution_count": 82,
   "metadata": {},
   "outputs": [
    {
     "data": {
      "text/plain": [
       "array([[[45, 56]],\n",
       "\n",
       "       [[45, 67]]])"
      ]
     },
     "execution_count": 82,
     "metadata": {},
     "output_type": "execute_result"
    }
   ],
   "source": [
    "ar[1:3,0:1,1:3]"
   ]
  },
  {
   "cell_type": "code",
   "execution_count": 83,
   "metadata": {},
   "outputs": [],
   "source": [
    "# High Dimensional Arrays\n",
    "arr  = np.array([1,2,3,4,5,6],ndmin = 5)"
   ]
  },
  {
   "cell_type": "code",
   "execution_count": 84,
   "metadata": {},
   "outputs": [
    {
     "data": {
      "text/plain": [
       "array([[[[[1, 2, 3, 4, 5, 6]]]]])"
      ]
     },
     "execution_count": 84,
     "metadata": {},
     "output_type": "execute_result"
    }
   ],
   "source": [
    "arr"
   ]
  },
  {
   "cell_type": "code",
   "execution_count": 88,
   "metadata": {},
   "outputs": [
    {
     "data": {
      "text/plain": [
       "array([[[[[2, 3]]]]])"
      ]
     },
     "execution_count": 88,
     "metadata": {},
     "output_type": "execute_result"
    }
   ],
   "source": [
    "arr[:,:,:,:,1:3]"
   ]
  },
  {
   "cell_type": "code",
   "execution_count": 105,
   "metadata": {},
   "outputs": [],
   "source": [
    "arr = np.array([[13,23,32,43,54],[43,55,60,7,8],[12,34,45,77,87],[2,55,39,82,49]])"
   ]
  },
  {
   "cell_type": "code",
   "execution_count": 106,
   "metadata": {},
   "outputs": [],
   "source": [
    "import seaborn as sns\n",
    "import matplotlib.pyplot as plt"
   ]
  },
  {
   "cell_type": "code",
   "execution_count": 107,
   "metadata": {},
   "outputs": [
    {
     "data": {
      "text/plain": [
       "<AxesSubplot:>"
      ]
     },
     "execution_count": 107,
     "metadata": {},
     "output_type": "execute_result"
    },
    {
     "data": {
      "image/png": "[encoded data removed]",
      "text/plain": [
       "<Figure size 576x432 with 2 Axes>"
      ]
     },
     "metadata": {
      "needs_background": "light"
     },
     "output_type": "display_data"
    }
   ],
   "source": [
    "plt.figure(figsize = (8,6))\n",
    "sns.heatmap(arr)"
   ]
  },
  {
   "cell_type": "code",
   "execution_count": 92,
   "metadata": {},
   "outputs": [
    {
     "data": {
      "text/plain": [
       "array([[  1,   2,   3,   4,   5],\n",
       "       [  4,   5,   6,   7,   8],\n",
       "       [ 12,  34, 456,  77,  87],\n",
       "       [  2,  55,  39,  82,  49]])"
      ]
     },
     "execution_count": 92,
     "metadata": {},
     "output_type": "execute_result"
    }
   ],
   "source": [
    "arr"
   ]
  },
  {
   "attachments": {
    "logo.jpg": {
     "image/jpeg": "[encoded data removed]"
    }
   },
   "cell_type": "markdown",
   "metadata": {},
   "source": [
    "![logo.jpg](attachment:logo.jpg)"
   ]
  },
  {
   "cell_type": "markdown",
   "metadata": {},
   "source": [
    "# Reshape"
   ]
  },
  {
   "cell_type": "markdown",
   "metadata": {},
   "source": [
    "### Shape: The shape of an array is the number of elements in each dimension."
   ]
  },
  {
   "cell_type": "code",
   "execution_count": 2,
   "metadata": {},
   "outputs": [],
   "source": [
    "import numpy as np"
   ]
  },
  {
   "cell_type": "code",
   "execution_count": 3,
   "metadata": {},
   "outputs": [],
   "source": [
    "arr = np.array([[1, 2, 3, 4], [5, 6, 7, 8]])"
   ]
  },
  {
   "cell_type": "code",
   "execution_count": 4,
   "metadata": {},
   "outputs": [
    {
     "data": {
      "text/plain": [
       "(2, 4)"
      ]
     },
     "execution_count": 4,
     "metadata": {},
     "output_type": "execute_result"
    }
   ],
   "source": [
    "arr.shape"
   ]
  },
  {
   "cell_type": "code",
   "execution_count": 7,
   "metadata": {},
   "outputs": [],
   "source": [
    "arr = np.array([[[1,2,3,4],[4,5,6,5]],[[3,4,5,8],[5,6,7,9]],[[23,34,56,78],[45,67,78,56]]])"
   ]
  },
  {
   "cell_type": "code",
   "execution_count": 9,
   "metadata": {
    "scrolled": false
   },
   "outputs": [
    {
     "data": {
      "text/plain": [
       "array([[[ 1,  2,  3,  4],\n",
       "        [ 4,  5,  6,  5]],\n",
       "\n",
       "       [[ 3,  4,  5,  8],\n",
       "        [ 5,  6,  7,  9]],\n",
       "\n",
       "       [[23, 34, 56, 78],\n",
       "        [45, 67, 78, 56]]])"
      ]
     },
     "execution_count": 9,
     "metadata": {},
     "output_type": "execute_result"
    }
   ],
   "source": [
    "arr"
   ]
  },
  {
   "cell_type": "code",
   "execution_count": 10,
   "metadata": {},
   "outputs": [
    {
     "data": {
      "text/plain": [
       "(3, 2, 4)"
      ]
     },
     "execution_count": 10,
     "metadata": {},
     "output_type": "execute_result"
    }
   ],
   "source": [
    "arr.shape"
   ]
  },
  {
   "cell_type": "code",
   "execution_count": 15,
   "metadata": {},
   "outputs": [],
   "source": [
    "arr = np.array([1, 2, 3, 4], ndmin=5)\n"
   ]
  },
  {
   "cell_type": "code",
   "execution_count": 16,
   "metadata": {
    "scrolled": true
   },
   "outputs": [
    {
     "data": {
      "text/plain": [
       "(1, 1, 1, 1, 4)"
      ]
     },
     "execution_count": 16,
     "metadata": {},
     "output_type": "execute_result"
    }
   ],
   "source": [
    "arr.shape"
   ]
  },
  {
   "cell_type": "markdown",
   "metadata": {},
   "source": [
    "## Reshape: Changing the shape of array\n",
    "- By reshaping we can add or remove dimensions or change number of elements in each dimension."
   ]
  },
  {
   "cell_type": "code",
   "execution_count": 16,
   "metadata": {},
   "outputs": [],
   "source": [
    "a = np.array([1,2,3,4,5,6,7,8,9,67,12,45,24,678,89,56,454,23,56,76,89,89,65,45])"
   ]
  },
  {
   "cell_type": "code",
   "execution_count": 17,
   "metadata": {},
   "outputs": [
    {
     "data": {
      "text/plain": [
       "(24,)"
      ]
     },
     "execution_count": 17,
     "metadata": {},
     "output_type": "execute_result"
    }
   ],
   "source": [
    "a.shape"
   ]
  },
  {
   "cell_type": "code",
   "execution_count": 18,
   "metadata": {},
   "outputs": [
    {
     "data": {
      "text/plain": [
       "1"
      ]
     },
     "execution_count": 18,
     "metadata": {},
     "output_type": "execute_result"
    }
   ],
   "source": [
    "a.ndim"
   ]
  },
  {
   "cell_type": "markdown",
   "metadata": {},
   "source": [
    "## Reshape from 1-D to 2-D"
   ]
  },
  {
   "cell_type": "code",
   "execution_count": 20,
   "metadata": {},
   "outputs": [],
   "source": [
    "a2d = a.reshape(6,4)"
   ]
  },
  {
   "cell_type": "code",
   "execution_count": 21,
   "metadata": {},
   "outputs": [
    {
     "data": {
      "text/plain": [
       "array([[  1,   2,   3,   4],\n",
       "       [  5,   6,   7,   8],\n",
       "       [  9,  67,  12,  45],\n",
       "       [ 24, 678,  89,  56],\n",
       "       [454,  23,  56,  76],\n",
       "       [ 89,  89,  65,  45]])"
      ]
     },
     "execution_count": 21,
     "metadata": {},
     "output_type": "execute_result"
    }
   ],
   "source": [
    "a2d"
   ]
  },
  {
   "cell_type": "code",
   "execution_count": 22,
   "metadata": {
    "scrolled": true
   },
   "outputs": [
    {
     "data": {
      "text/plain": [
       "(6, 4)"
      ]
     },
     "execution_count": 22,
     "metadata": {},
     "output_type": "execute_result"
    }
   ],
   "source": [
    "a2d.shape"
   ]
  },
  {
   "cell_type": "code",
   "execution_count": 23,
   "metadata": {},
   "outputs": [
    {
     "data": {
      "text/plain": [
       "2"
      ]
     },
     "execution_count": 23,
     "metadata": {},
     "output_type": "execute_result"
    }
   ],
   "source": [
    "a2d.ndim"
   ]
  },
  {
   "cell_type": "markdown",
   "metadata": {},
   "source": [
    "## Reshape into 3-D\n",
    "### 3 d array reshape((a,b,c)) = a is number of batches, b is number of rows, c is number of columns "
   ]
  },
  {
   "cell_type": "code",
   "execution_count": 26,
   "metadata": {},
   "outputs": [],
   "source": [
    "a3da = a.reshape(4,3,2)"
   ]
  },
  {
   "cell_type": "code",
   "execution_count": 27,
   "metadata": {},
   "outputs": [
    {
     "data": {
      "text/plain": [
       "array([[[  1,   2],\n",
       "        [  3,   4],\n",
       "        [  5,   6]],\n",
       "\n",
       "       [[  7,   8],\n",
       "        [  9,  67],\n",
       "        [ 12,  45]],\n",
       "\n",
       "       [[ 24, 678],\n",
       "        [ 89,  56],\n",
       "        [454,  23]],\n",
       "\n",
       "       [[ 56,  76],\n",
       "        [ 89,  89],\n",
       "        [ 65,  45]]])"
      ]
     },
     "execution_count": 27,
     "metadata": {},
     "output_type": "execute_result"
    }
   ],
   "source": [
    "a3da"
   ]
  },
  {
   "cell_type": "code",
   "execution_count": 28,
   "metadata": {},
   "outputs": [
    {
     "data": {
      "text/plain": [
       "(4, 3, 2)"
      ]
     },
     "execution_count": 28,
     "metadata": {},
     "output_type": "execute_result"
    }
   ],
   "source": [
    "a3da.shape"
   ]
  },
  {
   "cell_type": "code",
   "execution_count": 29,
   "metadata": {},
   "outputs": [
    {
     "data": {
      "text/plain": [
       "3"
      ]
     },
     "execution_count": 29,
     "metadata": {},
     "output_type": "execute_result"
    }
   ],
   "source": [
    "a3da.ndim"
   ]
  },
  {
   "cell_type": "code",
   "execution_count": 30,
   "metadata": {},
   "outputs": [],
   "source": [
    "a3db = a2d.reshape(4,3,2)"
   ]
  },
  {
   "cell_type": "code",
   "execution_count": 31,
   "metadata": {
    "scrolled": true
   },
   "outputs": [
    {
     "data": {
      "text/plain": [
       "array([[[  1,   2],\n",
       "        [  3,   4],\n",
       "        [  5,   6]],\n",
       "\n",
       "       [[  7,   8],\n",
       "        [  9,  67],\n",
       "        [ 12,  45]],\n",
       "\n",
       "       [[ 24, 678],\n",
       "        [ 89,  56],\n",
       "        [454,  23]],\n",
       "\n",
       "       [[ 56,  76],\n",
       "        [ 89,  89],\n",
       "        [ 65,  45]]])"
      ]
     },
     "execution_count": 31,
     "metadata": {},
     "output_type": "execute_result"
    }
   ],
   "source": [
    "a3db"
   ]
  },
  {
   "cell_type": "markdown",
   "metadata": {},
   "source": [
    "## 4 D"
   ]
  },
  {
   "cell_type": "code",
   "execution_count": 32,
   "metadata": {},
   "outputs": [
    {
     "data": {
      "text/plain": [
       "array([[[[  1,   2],\n",
       "         [  3,   4],\n",
       "         [  5,   6]],\n",
       "\n",
       "        [[  7,   8],\n",
       "         [  9,  67],\n",
       "         [ 12,  45]]],\n",
       "\n",
       "\n",
       "       [[[ 24, 678],\n",
       "         [ 89,  56],\n",
       "         [454,  23]],\n",
       "\n",
       "        [[ 56,  76],\n",
       "         [ 89,  89],\n",
       "         [ 65,  45]]]])"
      ]
     },
     "execution_count": 32,
     "metadata": {},
     "output_type": "execute_result"
    }
   ],
   "source": [
    "a.reshape(2,2,3,2)"
   ]
  },
  {
   "cell_type": "markdown",
   "metadata": {},
   "source": [
    "## High dimensions"
   ]
  },
  {
   "cell_type": "code",
   "execution_count": 33,
   "metadata": {},
   "outputs": [
    {
     "data": {
      "text/plain": [
       "array([[[[[  1,   2],\n",
       "          [  3,   4],\n",
       "          [  5,   6]],\n",
       "\n",
       "         [[  7,   8],\n",
       "          [  9,  67],\n",
       "          [ 12,  45]]],\n",
       "\n",
       "\n",
       "        [[[ 24, 678],\n",
       "          [ 89,  56],\n",
       "          [454,  23]],\n",
       "\n",
       "         [[ 56,  76],\n",
       "          [ 89,  89],\n",
       "          [ 65,  45]]]]])"
      ]
     },
     "execution_count": 33,
     "metadata": {},
     "output_type": "execute_result"
    }
   ],
   "source": [
    "a.reshape(1,2,2,3,2)"
   ]
  },
  {
   "cell_type": "markdown",
   "metadata": {},
   "source": [
    "# Can we reshape into any shape?"
   ]
  },
  {
   "cell_type": "code",
   "execution_count": 34,
   "metadata": {},
   "outputs": [
    {
     "ename": "ValueError",
     "evalue": "cannot reshape array of size 24 into shape (7,3)",
     "output_type": "error",
     "traceback": [
      "\u001b[1;31m---------------------------------------------------------------------------\u001b[0m",
      "\u001b[1;31mValueError\u001b[0m                                Traceback (most recent call last)",
      "\u001b[1;32m<ipython-input-34-204d275d7ea9>\u001b[0m in \u001b[0;36m<module>\u001b[1;34m\u001b[0m\n\u001b[1;32m----> 1\u001b[1;33m \u001b[0ma\u001b[0m\u001b[1;33m.\u001b[0m\u001b[0mreshape\u001b[0m\u001b[1;33m(\u001b[0m\u001b[1;36m7\u001b[0m\u001b[1;33m,\u001b[0m\u001b[1;36m3\u001b[0m\u001b[1;33m)\u001b[0m\u001b[1;33m\u001b[0m\u001b[1;33m\u001b[0m\u001b[0m\n\u001b[0m",
      "\u001b[1;31mValueError\u001b[0m: cannot reshape array of size 24 into shape (7,3)"
     ]
    }
   ],
   "source": [
    "a.reshape(7,3)"
   ]
  },
  {
   "cell_type": "markdown",
   "metadata": {},
   "source": [
    "# Unknown dimension:\n",
    "- You are allowed to have one \"unknown\" dimension.\n",
    "\n",
    "- Meaning that you do not have to specify an exact number for one of the dimensions in the reshape method.\n",
    "\n",
    "- Pass -1 as the value, and NumPy will calculate this number for you."
   ]
  },
  {
   "cell_type": "code",
   "execution_count": 36,
   "metadata": {},
   "outputs": [
    {
     "data": {
      "text/plain": [
       "(24,)"
      ]
     },
     "execution_count": 36,
     "metadata": {},
     "output_type": "execute_result"
    }
   ],
   "source": [
    "a.shape"
   ]
  },
  {
   "cell_type": "code",
   "execution_count": 37,
   "metadata": {},
   "outputs": [
    {
     "data": {
      "text/plain": [
       "array([  1,   2,   3,   4,   5,   6,   7,   8,   9,  67,  12,  45,  24,\n",
       "       678,  89,  56, 454,  23,  56,  76,  89,  89,  65,  45])"
      ]
     },
     "execution_count": 37,
     "metadata": {},
     "output_type": "execute_result"
    }
   ],
   "source": [
    "a"
   ]
  },
  {
   "cell_type": "code",
   "execution_count": 41,
   "metadata": {},
   "outputs": [
    {
     "data": {
      "text/plain": [
       "array([[  1,   2,   3,   4,   5,   6,   7,   8,   9,  67,  12,  45,  24,\n",
       "        678,  89,  56, 454,  23,  56,  76,  89,  89,  65,  45]])"
      ]
     },
     "execution_count": 41,
     "metadata": {},
     "output_type": "execute_result"
    }
   ],
   "source": [
    "a.reshape(1,-1)"
   ]
  },
  {
   "cell_type": "code",
   "execution_count": 42,
   "metadata": {},
   "outputs": [
    {
     "data": {
      "text/plain": [
       "array([[  1],\n",
       "       [  2],\n",
       "       [  3],\n",
       "       [  4],\n",
       "       [  5],\n",
       "       [  6],\n",
       "       [  7],\n",
       "       [  8],\n",
       "       [  9],\n",
       "       [ 67],\n",
       "       [ 12],\n",
       "       [ 45],\n",
       "       [ 24],\n",
       "       [678],\n",
       "       [ 89],\n",
       "       [ 56],\n",
       "       [454],\n",
       "       [ 23],\n",
       "       [ 56],\n",
       "       [ 76],\n",
       "       [ 89],\n",
       "       [ 89],\n",
       "       [ 65],\n",
       "       [ 45]])"
      ]
     },
     "execution_count": 42,
     "metadata": {},
     "output_type": "execute_result"
    }
   ],
   "source": [
    "a.reshape(-1,1)"
   ]
  },
  {
   "cell_type": "code",
   "execution_count": 45,
   "metadata": {},
   "outputs": [
    {
     "data": {
      "text/plain": [
       "array([[  1,   2,   3,   4,   5,   6,   7,   8],\n",
       "       [  9,  67,  12,  45,  24, 678,  89,  56],\n",
       "       [454,  23,  56,  76,  89,  89,  65,  45]])"
      ]
     },
     "execution_count": 45,
     "metadata": {},
     "output_type": "execute_result"
    }
   ],
   "source": [
    "a.reshape(3,-1)"
   ]
  },
  {
   "cell_type": "code",
   "execution_count": 46,
   "metadata": {},
   "outputs": [
    {
     "ename": "ValueError",
     "evalue": "cannot reshape array of size 24 into shape (5,newaxis)",
     "output_type": "error",
     "traceback": [
      "\u001b[1;31m---------------------------------------------------------------------------\u001b[0m",
      "\u001b[1;31mValueError\u001b[0m                                Traceback (most recent call last)",
      "\u001b[1;32m<ipython-input-46-f9e175120d88>\u001b[0m in \u001b[0;36m<module>\u001b[1;34m\u001b[0m\n\u001b[1;32m----> 1\u001b[1;33m \u001b[0ma\u001b[0m\u001b[1;33m.\u001b[0m\u001b[0mreshape\u001b[0m\u001b[1;33m(\u001b[0m\u001b[1;36m5\u001b[0m\u001b[1;33m,\u001b[0m\u001b[1;33m-\u001b[0m\u001b[1;36m1\u001b[0m\u001b[1;33m)\u001b[0m\u001b[1;33m\u001b[0m\u001b[1;33m\u001b[0m\u001b[0m\n\u001b[0m",
      "\u001b[1;31mValueError\u001b[0m: cannot reshape array of size 24 into shape (5,newaxis)"
     ]
    }
   ],
   "source": [
    "a.reshape(5,-1)"
   ]
  },
  {
   "cell_type": "code",
   "execution_count": 47,
   "metadata": {},
   "outputs": [
    {
     "data": {
      "text/plain": [
       "array([[  1,   2,   3],\n",
       "       [  4,   5,   6],\n",
       "       [  7,   8,   9],\n",
       "       [ 67,  12,  45],\n",
       "       [ 24, 678,  89],\n",
       "       [ 56, 454,  23],\n",
       "       [ 56,  76,  89],\n",
       "       [ 89,  65,  45]])"
      ]
     },
     "execution_count": 47,
     "metadata": {},
     "output_type": "execute_result"
    }
   ],
   "source": [
    "a.reshape(-1,3)"
   ]
  },
  {
   "cell_type": "code",
   "execution_count": 48,
   "metadata": {},
   "outputs": [
    {
     "data": {
      "text/plain": [
       "array([[[  1,   2,   3],\n",
       "        [  4,   5,   6]],\n",
       "\n",
       "       [[  7,   8,   9],\n",
       "        [ 67,  12,  45]],\n",
       "\n",
       "       [[ 24, 678,  89],\n",
       "        [ 56, 454,  23]],\n",
       "\n",
       "       [[ 56,  76,  89],\n",
       "        [ 89,  65,  45]]])"
      ]
     },
     "execution_count": 48,
     "metadata": {},
     "output_type": "execute_result"
    }
   ],
   "source": [
    "a.reshape(-1,2,3)"
   ]
  },
  {
   "cell_type": "code",
   "execution_count": 49,
   "metadata": {},
   "outputs": [
    {
     "data": {
      "text/plain": [
       "array([[[  1,   2,   3,   4],\n",
       "        [  5,   6,   7,   8],\n",
       "        [  9,  67,  12,  45]],\n",
       "\n",
       "       [[ 24, 678,  89,  56],\n",
       "        [454,  23,  56,  76],\n",
       "        [ 89,  89,  65,  45]]])"
      ]
     },
     "execution_count": 49,
     "metadata": {},
     "output_type": "execute_result"
    }
   ],
   "source": [
    "a.reshape(2,-1,4)"
   ]
  },
  {
   "cell_type": "code",
   "execution_count": 51,
   "metadata": {},
   "outputs": [
    {
     "data": {
      "text/plain": [
       "array([[[  1,   2,   3],\n",
       "        [  4,   5,   6],\n",
       "        [  7,   8,   9],\n",
       "        [ 67,  12,  45]],\n",
       "\n",
       "       [[ 24, 678,  89],\n",
       "        [ 56, 454,  23],\n",
       "        [ 56,  76,  89],\n",
       "        [ 89,  65,  45]]])"
      ]
     },
     "execution_count": 51,
     "metadata": {},
     "output_type": "execute_result"
    }
   ],
   "source": [
    "a.reshape(2,4,-1)"
   ]
  },
  {
   "cell_type": "code",
   "execution_count": 53,
   "metadata": {
    "scrolled": true
   },
   "outputs": [
    {
     "data": {
      "text/plain": [
       "array([[[[  1,   2],\n",
       "         [  3,   4]],\n",
       "\n",
       "        [[  5,   6],\n",
       "         [  7,   8]]],\n",
       "\n",
       "\n",
       "       [[[  9,  67],\n",
       "         [ 12,  45]],\n",
       "\n",
       "        [[ 24, 678],\n",
       "         [ 89,  56]]],\n",
       "\n",
       "\n",
       "       [[[454,  23],\n",
       "         [ 56,  76]],\n",
       "\n",
       "        [[ 89,  89],\n",
       "         [ 65,  45]]]])"
      ]
     },
     "execution_count": 53,
     "metadata": {},
     "output_type": "execute_result"
    }
   ],
   "source": [
    "a.reshape(-1,2,2,2) # 3 3d matrices of 2 2*2 2d matrices"
   ]
  },
  {
   "cell_type": "markdown",
   "metadata": {},
   "source": [
    "# Random Number Generation"
   ]
  },
  {
   "cell_type": "code",
   "execution_count": 1,
   "metadata": {},
   "outputs": [],
   "source": [
    "import numpy as np "
   ]
  },
  {
   "cell_type": "markdown",
   "metadata": {},
   "source": [
    "## Generating totally random numbers: \n",
    "- Doesn't follow any distributions"
   ]
  },
  {
   "cell_type": "markdown",
   "metadata": {},
   "source": [
    "### Randint : Generating Random Integer\n",
    "- provide the maximum number"
   ]
  },
  {
   "cell_type": "code",
   "execution_count": 11,
   "metadata": {},
   "outputs": [
    {
     "data": {
      "text/plain": [
       "80"
      ]
     },
     "execution_count": 11,
     "metadata": {},
     "output_type": "execute_result"
    }
   ],
   "source": [
    "np.random.randint(100)"
   ]
  },
  {
   "cell_type": "code",
   "execution_count": 12,
   "metadata": {},
   "outputs": [],
   "source": [
    "a = np.random.randint(200,size = (3,4))"
   ]
  },
  {
   "cell_type": "code",
   "execution_count": 13,
   "metadata": {
    "scrolled": true
   },
   "outputs": [
    {
     "data": {
      "text/plain": [
       "array([[185,  49,  59, 164],\n",
       "       [  9, 132,  17,  42],\n",
       "       [137, 171,  54,   8]])"
      ]
     },
     "execution_count": 13,
     "metadata": {},
     "output_type": "execute_result"
    }
   ],
   "source": [
    "a"
   ]
  },
  {
   "cell_type": "code",
   "execution_count": 26,
   "metadata": {},
   "outputs": [],
   "source": [
    "a = np.random.randint(200,size = (3,4,7))"
   ]
  },
  {
   "cell_type": "code",
   "execution_count": 27,
   "metadata": {
    "scrolled": true
   },
   "outputs": [
    {
     "data": {
      "text/plain": [
       "array([[[191, 123, 152,  30,  11, 193,  26],\n",
       "        [ 48,  93, 123,  15,  89, 196,  15],\n",
       "        [ 49,   4, 139, 174,  13,  34,  16],\n",
       "        [ 21, 108, 169, 165,  67,  87,  11]],\n",
       "\n",
       "       [[ 13,  51,  40,  86, 100,  20, 123],\n",
       "        [ 49,  24, 156,  56, 153, 170,  21],\n",
       "        [ 99, 124, 137, 128, 139,  96, 143],\n",
       "        [122,  62,   8,  20,  98,  67, 166]],\n",
       "\n",
       "       [[ 34,  31,  76, 158,  20, 184,  79],\n",
       "        [150, 124, 180, 129, 129, 125,  32],\n",
       "        [ 20, 181,  39, 153, 129, 183, 161],\n",
       "        [ 63, 137, 144,  69,  32,  17,  18]]])"
      ]
     },
     "execution_count": 27,
     "metadata": {},
     "output_type": "execute_result"
    }
   ],
   "source": [
    "a"
   ]
  },
  {
   "cell_type": "markdown",
   "metadata": {},
   "source": [
    "### rand: Generating Random FLoat between 0 and 1\n",
    "- provide size"
   ]
  },
  {
   "cell_type": "code",
   "execution_count": 28,
   "metadata": {
    "scrolled": false
   },
   "outputs": [
    {
     "data": {
      "text/plain": [
       "0.05631660059657251"
      ]
     },
     "execution_count": 28,
     "metadata": {},
     "output_type": "execute_result"
    }
   ],
   "source": [
    "np.random.rand()"
   ]
  },
  {
   "cell_type": "code",
   "execution_count": 14,
   "metadata": {},
   "outputs": [
    {
     "data": {
      "text/plain": [
       "array([0.13797882, 0.28699385, 0.52015228, 0.11336064, 0.29795095])"
      ]
     },
     "execution_count": 14,
     "metadata": {},
     "output_type": "execute_result"
    }
   ],
   "source": [
    "np.random.rand(5)"
   ]
  },
  {
   "cell_type": "code",
   "execution_count": 30,
   "metadata": {},
   "outputs": [
    {
     "data": {
      "text/plain": [
       "array([[0.28301206, 0.38151934, 0.00718037, 0.28108841],\n",
       "       [0.98932341, 0.46319778, 0.39573719, 0.53810167],\n",
       "       [0.62348771, 0.40315498, 0.215024  , 0.16480608],\n",
       "       [0.48470189, 0.91274886, 0.5244833 , 0.07212468],\n",
       "       [0.30934065, 0.78845505, 0.34174034, 0.98264453]])"
      ]
     },
     "execution_count": 30,
     "metadata": {},
     "output_type": "execute_result"
    }
   ],
   "source": [
    "np.random.rand(5,4)"
   ]
  },
  {
   "cell_type": "code",
   "execution_count": 31,
   "metadata": {},
   "outputs": [
    {
     "data": {
      "text/plain": [
       "array([[[0.04789606, 0.79612777],\n",
       "        [0.22702582, 0.88211568],\n",
       "        [0.96278536, 0.1947742 ],\n",
       "        [0.09028045, 0.25718557]],\n",
       "\n",
       "       [[0.33510703, 0.36989162],\n",
       "        [0.56526959, 0.58346253],\n",
       "        [0.41019175, 0.76095927],\n",
       "        [0.40716702, 0.41472636]],\n",
       "\n",
       "       [[0.55572156, 0.21318479],\n",
       "        [0.08965528, 0.40998366],\n",
       "        [0.39338406, 0.30182049],\n",
       "        [0.51111737, 0.44595929]],\n",
       "\n",
       "       [[0.61174313, 0.59701129],\n",
       "        [0.39820581, 0.59538081],\n",
       "        [0.72221766, 0.69819853],\n",
       "        [0.63991736, 0.20460231]],\n",
       "\n",
       "       [[0.24480089, 0.90752198],\n",
       "        [0.73147964, 0.58554558],\n",
       "        [0.4636319 , 0.30647521],\n",
       "        [0.13327756, 0.81636585]]])"
      ]
     },
     "execution_count": 31,
     "metadata": {},
     "output_type": "execute_result"
    }
   ],
   "source": [
    "np.random.rand(5,4,2)"
   ]
  },
  {
   "cell_type": "code",
   "execution_count": 8,
   "metadata": {},
   "outputs": [],
   "source": [
    "inte = np.random.randint(200,size = (3,4))"
   ]
  },
  {
   "cell_type": "code",
   "execution_count": 9,
   "metadata": {},
   "outputs": [],
   "source": [
    "fl = np.random.rand(3,4)"
   ]
  },
  {
   "cell_type": "code",
   "execution_count": 10,
   "metadata": {},
   "outputs": [
    {
     "data": {
      "text/plain": [
       "array([[196.01708677,  25.24632911,  83.26311944, 173.05442214],\n",
       "       [187.57526443, 179.05421295, 104.37239003,   1.53141346],\n",
       "       [ 79.20927856,  22.19697746, 158.9351614 ,  26.86003413]])"
      ]
     },
     "execution_count": 10,
     "metadata": {},
     "output_type": "execute_result"
    }
   ],
   "source": [
    "inte + fl"
   ]
  },
  {
   "cell_type": "markdown",
   "metadata": {},
   "source": [
    "### Choice:\n",
    "- generate a random value based on an array of values"
   ]
  },
  {
   "cell_type": "code",
   "execution_count": 38,
   "metadata": {},
   "outputs": [
    {
     "data": {
      "text/plain": [
       "87"
      ]
     },
     "execution_count": 38,
     "metadata": {},
     "output_type": "execute_result"
    }
   ],
   "source": [
    "np.random.choice([78,465,87,5443])"
   ]
  },
  {
   "cell_type": "code",
   "execution_count": 39,
   "metadata": {},
   "outputs": [
    {
     "data": {
      "text/plain": [
       "array([[ 465,   78,   87,   78,  465],\n",
       "       [5443,  465,  465,  465,   87],\n",
       "       [ 465,   78, 5443,   78,   87]])"
      ]
     },
     "execution_count": 39,
     "metadata": {},
     "output_type": "execute_result"
    }
   ],
   "source": [
    "np.random.choice([78,465,87,5443],size = (3,5))"
   ]
  },
  {
   "cell_type": "markdown",
   "metadata": {},
   "source": [
    "### By using choice we can also specify probability for each value\n",
    "- The sum of all probability numbers should be 1."
   ]
  },
  {
   "cell_type": "code",
   "execution_count": 55,
   "metadata": {},
   "outputs": [],
   "source": [
    "x = np.random.choice([3, 5, 7, 9], p=[0.1, 0.3, 0.6, 0.0], size=(5,6))"
   ]
  },
  {
   "cell_type": "code",
   "execution_count": 56,
   "metadata": {
    "scrolled": true
   },
   "outputs": [
    {
     "data": {
      "text/plain": [
       "array([[7, 7, 3, 7, 7, 7],\n",
       "       [7, 7, 7, 3, 7, 5],\n",
       "       [5, 5, 7, 5, 5, 3],\n",
       "       [7, 7, 7, 7, 3, 7],\n",
       "       [7, 7, 5, 5, 7, 7]])"
      ]
     },
     "execution_count": 56,
     "metadata": {},
     "output_type": "execute_result"
    }
   ],
   "source": [
    "x"
   ]
  },
  {
   "cell_type": "code",
   "execution_count": 2,
   "metadata": {},
   "outputs": [],
   "source": [
    "a = np.random.rand(100)"
   ]
  },
  {
   "cell_type": "code",
   "execution_count": 3,
   "metadata": {},
   "outputs": [
    {
     "data": {
      "text/plain": [
       "array([0.82958495, 0.27989449, 0.88022863, 0.08839406, 0.3616728 ,\n",
       "       0.76413738, 0.70860061, 0.71459609, 0.03010784, 0.05906385,\n",
       "       0.96242742, 0.97032047, 0.76083101, 0.61838471, 0.41052473,\n",
       "       0.71071802, 0.13874365, 0.50280249, 0.69423801, 0.31926708,\n",
       "       0.06513027, 0.35439769, 0.05630657, 0.90961767, 0.78283463,\n",
       "       0.09628939, 0.08649289, 0.3240527 , 0.68327837, 0.29074891,\n",
       "       0.73220787, 0.09697071, 0.41032361, 0.64701609, 0.69107326,\n",
       "       0.79904128, 0.83555754, 0.94609251, 0.48294148, 0.7122557 ,\n",
       "       0.03619913, 0.00402307, 0.21445631, 0.69206658, 0.01265996,\n",
       "       0.63955076, 0.71403596, 0.75190478, 0.54142419, 0.62713761,\n",
       "       0.45053429, 0.61552624, 0.94772673, 0.13521568, 0.47546882,\n",
       "       0.52619853, 0.2348928 , 0.65739959, 0.31427319, 0.38073498,\n",
       "       0.36857121, 0.05691037, 0.52081665, 0.98265749, 0.34703793,\n",
       "       0.69777444, 0.46311456, 0.27909547, 0.78974098, 0.51111483,\n",
       "       0.33565704, 0.25387681, 0.90526069, 0.26428629, 0.25064341,\n",
       "       0.17157041, 0.20467382, 0.73498572, 0.56215988, 0.72619342,\n",
       "       0.75135684, 0.81755826, 0.35458855, 0.68166662, 0.00319164,\n",
       "       0.85844736, 0.46042883, 0.43873014, 0.51347277, 0.16821216,\n",
       "       0.9581673 , 0.5837025 , 0.36185603, 0.39559971, 0.16911862,\n",
       "       0.28878854, 0.29940574, 0.54270412, 0.94604587, 0.47227243])"
      ]
     },
     "execution_count": 3,
     "metadata": {},
     "output_type": "execute_result"
    }
   ],
   "source": [
    "a"
   ]
  },
  {
   "cell_type": "code",
   "execution_count": 4,
   "metadata": {},
   "outputs": [],
   "source": [
    "import matplotlib.pyplot as plt\n"
   ]
  },
  {
   "cell_type": "code",
   "execution_count": 5,
   "metadata": {},
   "outputs": [
    {
     "data": {
      "text/plain": [
       "(array([13.,  5., 10., 12., 10.,  9.,  8., 17.,  7.,  9.]),\n",
       " array([0.00319164, 0.10113823, 0.19908481, 0.2970314 , 0.39497798,\n",
       "        0.49292457, 0.59087115, 0.68881773, 0.78676432, 0.8847109 ,\n",
       "        0.98265749]),\n",
       " <BarContainer object of 10 artists>)"
      ]
     },
     "execution_count": 5,
     "metadata": {},
     "output_type": "execute_result"
    },
    {
     "data": {
      "image/png": "[encoded data removed]",
      "text/plain": [
       "<Figure size 432x288 with 1 Axes>"
      ]
     },
     "metadata": {
      "needs_background": "light"
     },
     "output_type": "display_data"
    }
   ],
   "source": [
    "plt.hist(a)"
   ]
  },
  {
   "cell_type": "code",
   "execution_count": 6,
   "metadata": {},
   "outputs": [],
   "source": [
    "b = np.random.randn(1000)"
   ]
  },
  {
   "cell_type": "code",
   "execution_count": 7,
   "metadata": {},
   "outputs": [
    {
     "data": {
      "text/plain": [
       "(array([  6.,  13.,  66., 153., 214., 241., 177.,  92.,  30.,   8.]),\n",
       " array([-3.23871466, -2.62274078, -2.00676691, -1.39079304, -0.77481917,\n",
       "        -0.1588453 ,  0.45712858,  1.07310245,  1.68907632,  2.30505019,\n",
       "         2.92102406]),\n",
       " <BarContainer object of 10 artists>)"
      ]
     },
     "execution_count": 7,
     "metadata": {},
     "output_type": "execute_result"
    },
    {
     "data": {
      "image/png": "[encoded data removed]",
      "text/plain": [
       "<Figure size 432x288 with 1 Axes>"
      ]
     },
     "metadata": {
      "needs_background": "light"
     },
     "output_type": "display_data"
    }
   ],
   "source": [
    "plt.hist(b)"
   ]
  },
  {
   "cell_type": "code",
   "execution_count": 13,
   "metadata": {},
   "outputs": [
    {
     "data": {
      "text/plain": [
       "<seaborn.axisgrid.FacetGrid at 0x20c69fc6148>"
      ]
     },
     "execution_count": 13,
     "metadata": {},
     "output_type": "execute_result"
    },
    {
     "data": {
      "image/png": "[encoded data removed]",
      "text/plain": [
       "<Figure size 360x360 with 1 Axes>"
      ]
     },
     "metadata": {
      "needs_background": "light"
     },
     "output_type": "display_data"
    }
   ],
   "source": [
    "import seaborn as sns\n",
    "sns.displot(b,color ='blue',kde= True)"
   ]
  },
  {
   "attachments": {
    "logo.jpg": {
     "image/jpeg": "[encoded data removed]"
    }
   },
   "cell_type": "markdown",
   "metadata": {},
   "source": [
    "![logo.jpg](attachment:logo.jpg)"
   ]
  },
  {
   "cell_type": "markdown",
   "metadata": {},
   "source": [
    "# Random Number Generation 2: Random Data Distributions"
   ]
  },
  {
   "cell_type": "markdown",
   "metadata": {},
   "source": [
    "### Data Distributions: List of all possible values, and how often a value occurs\n",
    "- Important in statistics\n",
    "\n",
    "### Random Distribution : A random distribution is a set of random numbers that follow a certain probability density function.\n",
    "\n",
    "- Probability Density Function: A function that describes a continuous probability. i.e. probability of all values in an array."
   ]
  },
  {
   "cell_type": "code",
   "execution_count": 1,
   "metadata": {},
   "outputs": [],
   "source": [
    "import numpy as np\n",
    "import matplotlib.pyplot as plt \n",
    "import seaborn as sns\n",
    "#Plotting libraries for visualizing distributions"
   ]
  },
  {
   "cell_type": "code",
   "execution_count": 73,
   "metadata": {},
   "outputs": [],
   "source": [
    "# Choice: We can specify probability of each value\n",
    "x = np.random.choice([3, 4, 5, 6,7,8,9], p=[0.05, 0.1,0.2,0.3,0.2,0.1, 0.05], size=100)"
   ]
  },
  {
   "cell_type": "code",
   "execution_count": 74,
   "metadata": {},
   "outputs": [
    {
     "data": {
      "text/plain": [
       "array([5, 4, 5, 5, 6, 9, 7, 3, 7, 6, 7, 6, 5, 5, 8, 8, 6, 8, 5, 5, 5, 7,\n",
       "       4, 6, 5, 8, 5, 8, 5, 8, 6, 3, 6, 3, 6, 8, 8, 5, 6, 5, 5, 7, 5, 5,\n",
       "       5, 5, 7, 5, 6, 5, 7, 5, 6, 7, 6, 6, 6, 7, 6, 9, 6, 4, 7, 6, 5, 9,\n",
       "       6, 4, 7, 7, 5, 5, 8, 9, 5, 9, 7, 6, 6, 7, 9, 9, 6, 6, 6, 6, 5, 4,\n",
       "       5, 6, 7, 5, 3, 6, 8, 8, 7, 6, 6, 6])"
      ]
     },
     "execution_count": 74,
     "metadata": {},
     "output_type": "execute_result"
    }
   ],
   "source": [
    "x"
   ]
  },
  {
   "cell_type": "code",
   "execution_count": 75,
   "metadata": {
    "scrolled": true
   },
   "outputs": [
    {
     "data": {
      "text/plain": [
       "(array([ 4.,  5., 28., 29., 16., 11.,  7.]),\n",
       " array([3.        , 3.85714286, 4.71428571, 5.57142857, 6.42857143,\n",
       "        7.28571429, 8.14285714, 9.        ]),\n",
       " <BarContainer object of 7 artists>)"
      ]
     },
     "execution_count": 75,
     "metadata": {},
     "output_type": "execute_result"
    },
    {
     "data": {
      "image/png": "[encoded data removed]",
      "text/plain": [
       "<Figure size 432x288 with 1 Axes>"
      ]
     },
     "metadata": {
      "needs_background": "light"
     },
     "output_type": "display_data"
    }
   ],
   "source": [
    "plt.hist(x,bins=7)"
   ]
  },
  {
   "cell_type": "code",
   "execution_count": 77,
   "metadata": {
    "scrolled": false
   },
   "outputs": [
    {
     "data": {
      "text/plain": [
       "<seaborn.axisgrid.FacetGrid at 0x1f53ac64948>"
      ]
     },
     "execution_count": 77,
     "metadata": {},
     "output_type": "execute_result"
    },
    {
     "data": {
      "image/png": "[encoded data removed]",
      "text/plain": [
       "<Figure size 360x360 with 1 Axes>"
      ]
     },
     "metadata": {
      "needs_background": "light"
     },
     "output_type": "display_data"
    }
   ],
   "source": [
    "sns.displot(x,bins = 7,kde = True)"
   ]
  },
  {
   "cell_type": "markdown",
   "metadata": {},
   "source": [
    "### Normal Distribution \n",
    "- About 68% of values drawn from a normal distribution are within one standard deviation σ away from the mean; about 95% of the values lie within two standard deviations; and about 99.7% are within three standard deviations\n",
    "- Most Important Distribution \n",
    "- E.g.: Heights of people, size of things produced by machines, errors in measurements, blood pressure, iq of people"
   ]
  },
  {
   "attachments": {
    "normal-distribution-curve-1.png": {
     "image/png": "[encoded data removed]"
    }
   },
   "cell_type": "markdown",
   "metadata": {},
   "source": [
    "![normal-distribution-curve-1.png](attachment:normal-distribution-curve-1.png)"
   ]
  },
  {
   "cell_type": "markdown",
   "metadata": {},
   "source": [
    "np.random.normal(loc = mean,scale = standard deviation, size)"
   ]
  },
  {
   "cell_type": "code",
   "execution_count": 82,
   "metadata": {},
   "outputs": [],
   "source": [
    "x = np.random.normal(loc = 10, scale = 5, size = (100))"
   ]
  },
  {
   "cell_type": "code",
   "execution_count": 83,
   "metadata": {},
   "outputs": [
    {
     "name": "stderr",
     "output_type": "stream",
     "text": [
      "C:\\Users\\acer\\Anaconda3\\lib\\site-packages\\seaborn\\distributions.py:2557: FutureWarning: `distplot` is a deprecated function and will be removed in a future version. Please adapt your code to use either `displot` (a figure-level function with similar flexibility) or `histplot` (an axes-level function for histograms).\n",
      "  warnings.warn(msg, FutureWarning)\n"
     ]
    },
    {
     "data": {
      "image/png": "[encoded data removed]",
      "text/plain": [
       "<Figure size 432x288 with 1 Axes>"
      ]
     },
     "metadata": {
      "needs_background": "light"
     },
     "output_type": "display_data"
    }
   ],
   "source": [
    "sns.distplot(x)\n",
    "plt.grid(True)"
   ]
  },
  {
   "cell_type": "code",
   "execution_count": 84,
   "metadata": {},
   "outputs": [],
   "source": [
    "x = np.random.normal(loc = 10, scale = 5, size = (4,5))"
   ]
  },
  {
   "cell_type": "code",
   "execution_count": 85,
   "metadata": {},
   "outputs": [
    {
     "data": {
      "text/plain": [
       "array([[21.85616306,  6.7870141 , 14.90551053, 12.93761447, 18.71035482],\n",
       "       [-3.2427544 , 10.99058784, 12.21526664,  7.9604076 , 17.26346566],\n",
       "       [14.88264609,  5.27880821, 19.74495068,  9.75524584,  9.2342994 ],\n",
       "       [13.11575454,  8.21792849, 10.88049436,  8.28632301, 11.61807317]])"
      ]
     },
     "execution_count": 85,
     "metadata": {},
     "output_type": "execute_result"
    }
   ],
   "source": [
    "x"
   ]
  },
  {
   "cell_type": "markdown",
   "metadata": {},
   "source": [
    "## Standard Normal Distribution\n",
    "- mean = 0\n",
    "- STD = 1"
   ]
  },
  {
   "cell_type": "code",
   "execution_count": 86,
   "metadata": {},
   "outputs": [],
   "source": [
    "x = np.random.normal(size = 100)"
   ]
  },
  {
   "cell_type": "code",
   "execution_count": 87,
   "metadata": {
    "scrolled": true
   },
   "outputs": [
    {
     "name": "stderr",
     "output_type": "stream",
     "text": [
      "C:\\Users\\acer\\Anaconda3\\lib\\site-packages\\seaborn\\distributions.py:2557: FutureWarning: `distplot` is a deprecated function and will be removed in a future version. Please adapt your code to use either `displot` (a figure-level function with similar flexibility) or `histplot` (an axes-level function for histograms).\n",
      "  warnings.warn(msg, FutureWarning)\n"
     ]
    },
    {
     "data": {
      "text/plain": [
       "<AxesSubplot:ylabel='Density'>"
      ]
     },
     "execution_count": 87,
     "metadata": {},
     "output_type": "execute_result"
    },
    {
     "data": {
      "image/png": "[encoded data removed]",
      "text/plain": [
       "<Figure size 432x288 with 1 Axes>"
      ]
     },
     "metadata": {
      "needs_background": "light"
     },
     "output_type": "display_data"
    }
   ],
   "source": [
    "sns.distplot(x)"
   ]
  },
  {
   "cell_type": "code",
   "execution_count": 88,
   "metadata": {},
   "outputs": [],
   "source": [
    "#Randn\n",
    "x = np.random.randn(100)"
   ]
  },
  {
   "cell_type": "code",
   "execution_count": 89,
   "metadata": {},
   "outputs": [
    {
     "data": {
      "text/plain": [
       "<seaborn.axisgrid.FacetGrid at 0x1f53adb8348>"
      ]
     },
     "execution_count": 89,
     "metadata": {},
     "output_type": "execute_result"
    },
    {
     "data": {
      "image/png": "[encoded data removed]",
      "text/plain": [
       "<Figure size 360x360 with 1 Axes>"
      ]
     },
     "metadata": {
      "needs_background": "light"
     },
     "output_type": "display_data"
    }
   ],
   "source": [
    "sns.displot(x)"
   ]
  },
  {
   "cell_type": "code",
   "execution_count": 90,
   "metadata": {},
   "outputs": [],
   "source": [
    "y = np.random.rand(1000)"
   ]
  },
  {
   "cell_type": "code",
   "execution_count": 91,
   "metadata": {},
   "outputs": [
    {
     "data": {
      "text/plain": [
       "<AxesSubplot:ylabel='Count'>"
      ]
     },
     "execution_count": 91,
     "metadata": {},
     "output_type": "execute_result"
    },
    {
     "data": {
      "image/png": "[encoded data removed]",
      "text/plain": [
       "<Figure size 432x288 with 1 Axes>"
      ]
     },
     "metadata": {
      "needs_background": "light"
     },
     "output_type": "display_data"
    }
   ],
   "source": [
    "sns.histplot(y) #Doesn't follow any distribution"
   ]
  },
  {
   "attachments": {
    "image.png": {
     "image/png": "[encoded data removed]"
    }
   },
   "cell_type": "markdown",
   "metadata": {},
   "source": [
    "## Uniform Distribution\n",
    "- Probability of every outcome is equally likely.\n",
    "\n",
    "- Rectangular shape curve\n",
    "\n",
    "- Eg.: Drawing a crad from a card deck, rolling a dice are examples of uniform distribution.\n",
    "\n",
    "![image.png](attachment:image.png)"
   ]
  },
  {
   "cell_type": "code",
   "execution_count": 92,
   "metadata": {},
   "outputs": [],
   "source": [
    "x = np.random.choice([1,2,3,4,5,6,7,8,9,10], p =[0.1,0.1,0.1,0.1,0.1,0.1,0.1,0.1,0.1,0.1], size = 10000)"
   ]
  },
  {
   "cell_type": "code",
   "execution_count": 93,
   "metadata": {},
   "outputs": [
    {
     "data": {
      "text/plain": [
       "<AxesSubplot:ylabel='Count'>"
      ]
     },
     "execution_count": 93,
     "metadata": {},
     "output_type": "execute_result"
    },
    {
     "data": {
      "image/png": "[encoded data removed]",
      "text/plain": [
       "<Figure size 432x288 with 1 Axes>"
      ]
     },
     "metadata": {
      "needs_background": "light"
     },
     "output_type": "display_data"
    }
   ],
   "source": [
    "sns.histplot(x)"
   ]
  },
  {
   "cell_type": "markdown",
   "metadata": {},
   "source": [
    "##### np.random.uniform(lower bound, upper bound, size)"
   ]
  },
  {
   "cell_type": "code",
   "execution_count": 94,
   "metadata": {},
   "outputs": [],
   "source": [
    "x = np.random.uniform(1,10,10000)"
   ]
  },
  {
   "cell_type": "code",
   "execution_count": 95,
   "metadata": {},
   "outputs": [
    {
     "name": "stderr",
     "output_type": "stream",
     "text": [
      "C:\\Users\\acer\\Anaconda3\\lib\\site-packages\\seaborn\\distributions.py:2557: FutureWarning: `distplot` is a deprecated function and will be removed in a future version. Please adapt your code to use either `displot` (a figure-level function with similar flexibility) or `histplot` (an axes-level function for histograms).\n",
      "  warnings.warn(msg, FutureWarning)\n"
     ]
    },
    {
     "data": {
      "text/plain": [
       "<AxesSubplot:ylabel='Density'>"
      ]
     },
     "execution_count": 95,
     "metadata": {},
     "output_type": "execute_result"
    },
    {
     "data": {
      "image/png": "[encoded data removed]",
      "text/plain": [
       "<Figure size 432x288 with 1 Axes>"
      ]
     },
     "metadata": {
      "needs_background": "light"
     },
     "output_type": "display_data"
    }
   ],
   "source": [
    "sns.distplot(x)"
   ]
  },
  {
   "cell_type": "code",
   "execution_count": 96,
   "metadata": {},
   "outputs": [
    {
     "data": {
      "text/plain": [
       "3"
      ]
     },
     "execution_count": 96,
     "metadata": {},
     "output_type": "execute_result"
    }
   ],
   "source": [
    "np.random.binomial(n = 10,p = 0.5)"
   ]
  },
  {
   "cell_type": "code",
   "execution_count": 97,
   "metadata": {},
   "outputs": [
    {
     "data": {
      "text/plain": [
       "array([2, 4, 2, 2, 1, 1, 1, 3, 1, 0])"
      ]
     },
     "execution_count": 97,
     "metadata": {},
     "output_type": "execute_result"
    }
   ],
   "source": [
    "np. random.poisson(lam=2, size=10)"
   ]
  },
  {
   "cell_type": "markdown",
   "metadata": {},
   "source": [
    "# Pandas"
   ]
  },
  {
   "cell_type": "markdown",
   "metadata": {},
   "source": [
    "### Reading CSV files\n"
   ]
  },
  {
   "cell_type": "code",
   "execution_count": 1,
   "metadata": {},
   "outputs": [],
   "source": [
    "import pandas as pd"
   ]
  },
  {
   "cell_type": "code",
   "execution_count": 2,
   "metadata": {},
   "outputs": [
    {
     "data": {
      "text/html": [
       "<div>\n",
       "<style scoped>\n",
       "    .dataframe tbody tr th:only-of-type {\n",
       "        vertical-align: middle;\n",
       "    }\n",
       "\n",
       "    .dataframe tbody tr th {\n",
       "        vertical-align: top;\n",
       "    }\n",
       "\n",
       "    .dataframe thead th {\n",
       "        text-align: right;\n",
       "    }\n",
       "</style>\n",
       "<table border=\"1\" class=\"dataframe\">\n",
       "  <thead>\n",
       "    <tr style=\"text-align: right;\">\n",
       "      <th></th>\n",
       "      <th>DATEPRD</th>\n",
       "      <th>NPD_WELL_BORE_CODE</th>\n",
       "      <th>NPD_WELL_BORE_NAME</th>\n",
       "      <th>ON_STREAM_HRS</th>\n",
       "      <th>AVG_DOWNHOLE_PRESSURE</th>\n",
       "      <th>AVG_DOWNHOLE_TEMPERATURE</th>\n",
       "      <th>AVG_DP_TUBING</th>\n",
       "      <th>AVG_ANNULUS_PRESS</th>\n",
       "      <th>AVG_CHOKE_SIZE_P</th>\n",
       "      <th>AVG_CHOKE_UOM</th>\n",
       "      <th>AVG_WHP_P</th>\n",
       "      <th>AVG_WHT_P</th>\n",
       "      <th>DP_CHOKE_SIZE</th>\n",
       "      <th>BORE_OIL_VOL</th>\n",
       "      <th>BORE_GAS_VOL</th>\n",
       "      <th>BORE_WAT_VOL</th>\n",
       "      <th>BORE_WI_VOL</th>\n",
       "      <th>FLOW_KIND</th>\n",
       "      <th>WELL_TYPE</th>\n",
       "    </tr>\n",
       "  </thead>\n",
       "  <tbody>\n",
       "    <tr>\n",
       "      <th>0</th>\n",
       "      <td>07-Apr-14</td>\n",
       "      <td>7405</td>\n",
       "      <td>15/9-F-1 C</td>\n",
       "      <td>0.0</td>\n",
       "      <td>0.000</td>\n",
       "      <td>0.000</td>\n",
       "      <td>0.000</td>\n",
       "      <td>0.000</td>\n",
       "      <td>0.00000</td>\n",
       "      <td>%</td>\n",
       "      <td>0.000</td>\n",
       "      <td>0.000</td>\n",
       "      <td>0.000</td>\n",
       "      <td>0.0</td>\n",
       "      <td>0.0</td>\n",
       "      <td>0.0</td>\n",
       "      <td>NaN</td>\n",
       "      <td>production</td>\n",
       "      <td>WI</td>\n",
       "    </tr>\n",
       "    <tr>\n",
       "      <th>1</th>\n",
       "      <td>08-Apr-14</td>\n",
       "      <td>7405</td>\n",
       "      <td>15/9-F-1 C</td>\n",
       "      <td>0.0</td>\n",
       "      <td>NaN</td>\n",
       "      <td>NaN</td>\n",
       "      <td>NaN</td>\n",
       "      <td>0.000</td>\n",
       "      <td>1.00306</td>\n",
       "      <td>%</td>\n",
       "      <td>0.000</td>\n",
       "      <td>0.000</td>\n",
       "      <td>0.000</td>\n",
       "      <td>0.0</td>\n",
       "      <td>0.0</td>\n",
       "      <td>0.0</td>\n",
       "      <td>NaN</td>\n",
       "      <td>production</td>\n",
       "      <td>OP</td>\n",
       "    </tr>\n",
       "    <tr>\n",
       "      <th>2</th>\n",
       "      <td>09-Apr-14</td>\n",
       "      <td>7405</td>\n",
       "      <td>15/9-F-1 C</td>\n",
       "      <td>0.0</td>\n",
       "      <td>NaN</td>\n",
       "      <td>NaN</td>\n",
       "      <td>NaN</td>\n",
       "      <td>0.000</td>\n",
       "      <td>0.97901</td>\n",
       "      <td>%</td>\n",
       "      <td>0.000</td>\n",
       "      <td>0.000</td>\n",
       "      <td>0.000</td>\n",
       "      <td>0.0</td>\n",
       "      <td>0.0</td>\n",
       "      <td>0.0</td>\n",
       "      <td>NaN</td>\n",
       "      <td>production</td>\n",
       "      <td>OP</td>\n",
       "    </tr>\n",
       "    <tr>\n",
       "      <th>3</th>\n",
       "      <td>10-Apr-14</td>\n",
       "      <td>7405</td>\n",
       "      <td>15/9-F-1 C</td>\n",
       "      <td>0.0</td>\n",
       "      <td>NaN</td>\n",
       "      <td>NaN</td>\n",
       "      <td>NaN</td>\n",
       "      <td>0.000</td>\n",
       "      <td>0.54576</td>\n",
       "      <td>%</td>\n",
       "      <td>0.000</td>\n",
       "      <td>0.000</td>\n",
       "      <td>0.000</td>\n",
       "      <td>0.0</td>\n",
       "      <td>0.0</td>\n",
       "      <td>0.0</td>\n",
       "      <td>NaN</td>\n",
       "      <td>production</td>\n",
       "      <td>OP</td>\n",
       "    </tr>\n",
       "    <tr>\n",
       "      <th>4</th>\n",
       "      <td>11-Apr-14</td>\n",
       "      <td>7405</td>\n",
       "      <td>15/9-F-1 C</td>\n",
       "      <td>0.0</td>\n",
       "      <td>310.376</td>\n",
       "      <td>96.876</td>\n",
       "      <td>277.278</td>\n",
       "      <td>0.000</td>\n",
       "      <td>1.21599</td>\n",
       "      <td>%</td>\n",
       "      <td>33.098</td>\n",
       "      <td>10.480</td>\n",
       "      <td>33.072</td>\n",
       "      <td>0.0</td>\n",
       "      <td>0.0</td>\n",
       "      <td>0.0</td>\n",
       "      <td>NaN</td>\n",
       "      <td>production</td>\n",
       "      <td>OP</td>\n",
       "    </tr>\n",
       "    <tr>\n",
       "      <th>...</th>\n",
       "      <td>...</td>\n",
       "      <td>...</td>\n",
       "      <td>...</td>\n",
       "      <td>...</td>\n",
       "      <td>...</td>\n",
       "      <td>...</td>\n",
       "      <td>...</td>\n",
       "      <td>...</td>\n",
       "      <td>...</td>\n",
       "      <td>...</td>\n",
       "      <td>...</td>\n",
       "      <td>...</td>\n",
       "      <td>...</td>\n",
       "      <td>...</td>\n",
       "      <td>...</td>\n",
       "      <td>...</td>\n",
       "      <td>...</td>\n",
       "      <td>...</td>\n",
       "      <td>...</td>\n",
       "    </tr>\n",
       "    <tr>\n",
       "      <th>15629</th>\n",
       "      <td>14-Sep-16</td>\n",
       "      <td>5769</td>\n",
       "      <td>15/9-F-5</td>\n",
       "      <td>0.0</td>\n",
       "      <td>NaN</td>\n",
       "      <td>NaN</td>\n",
       "      <td>NaN</td>\n",
       "      <td>0.273</td>\n",
       "      <td>0.63609</td>\n",
       "      <td>%</td>\n",
       "      <td>0.078</td>\n",
       "      <td>0.229</td>\n",
       "      <td>0.019</td>\n",
       "      <td>0.0</td>\n",
       "      <td>0.0</td>\n",
       "      <td>0.0</td>\n",
       "      <td>NaN</td>\n",
       "      <td>production</td>\n",
       "      <td>OP</td>\n",
       "    </tr>\n",
       "    <tr>\n",
       "      <th>15630</th>\n",
       "      <td>15-Sep-16</td>\n",
       "      <td>5769</td>\n",
       "      <td>15/9-F-5</td>\n",
       "      <td>0.0</td>\n",
       "      <td>NaN</td>\n",
       "      <td>NaN</td>\n",
       "      <td>NaN</td>\n",
       "      <td>0.287</td>\n",
       "      <td>0.67079</td>\n",
       "      <td>%</td>\n",
       "      <td>0.085</td>\n",
       "      <td>0.229</td>\n",
       "      <td>0.006</td>\n",
       "      <td>0.0</td>\n",
       "      <td>0.0</td>\n",
       "      <td>0.0</td>\n",
       "      <td>NaN</td>\n",
       "      <td>production</td>\n",
       "      <td>OP</td>\n",
       "    </tr>\n",
       "    <tr>\n",
       "      <th>15631</th>\n",
       "      <td>16-Sep-16</td>\n",
       "      <td>5769</td>\n",
       "      <td>15/9-F-5</td>\n",
       "      <td>0.0</td>\n",
       "      <td>NaN</td>\n",
       "      <td>NaN</td>\n",
       "      <td>NaN</td>\n",
       "      <td>0.286</td>\n",
       "      <td>0.66439</td>\n",
       "      <td>%</td>\n",
       "      <td>0.085</td>\n",
       "      <td>0.229</td>\n",
       "      <td>0.012</td>\n",
       "      <td>0.0</td>\n",
       "      <td>0.0</td>\n",
       "      <td>0.0</td>\n",
       "      <td>NaN</td>\n",
       "      <td>production</td>\n",
       "      <td>OP</td>\n",
       "    </tr>\n",
       "    <tr>\n",
       "      <th>15632</th>\n",
       "      <td>17-Sep-16</td>\n",
       "      <td>5769</td>\n",
       "      <td>15/9-F-5</td>\n",
       "      <td>0.0</td>\n",
       "      <td>NaN</td>\n",
       "      <td>NaN</td>\n",
       "      <td>NaN</td>\n",
       "      <td>0.272</td>\n",
       "      <td>0.62466</td>\n",
       "      <td>%</td>\n",
       "      <td>0.075</td>\n",
       "      <td>0.228</td>\n",
       "      <td>0.026</td>\n",
       "      <td>0.0</td>\n",
       "      <td>0.0</td>\n",
       "      <td>0.0</td>\n",
       "      <td>NaN</td>\n",
       "      <td>production</td>\n",
       "      <td>OP</td>\n",
       "    </tr>\n",
       "    <tr>\n",
       "      <th>15633</th>\n",
       "      <td>18-Sep-16</td>\n",
       "      <td>5769</td>\n",
       "      <td>15/9-F-5</td>\n",
       "      <td>0.0</td>\n",
       "      <td>NaN</td>\n",
       "      <td>NaN</td>\n",
       "      <td>NaN</td>\n",
       "      <td>NaN</td>\n",
       "      <td>NaN</td>\n",
       "      <td>NaN</td>\n",
       "      <td>NaN</td>\n",
       "      <td>NaN</td>\n",
       "      <td>0.000</td>\n",
       "      <td>NaN</td>\n",
       "      <td>NaN</td>\n",
       "      <td>NaN</td>\n",
       "      <td>0.0</td>\n",
       "      <td>injection</td>\n",
       "      <td>WI</td>\n",
       "    </tr>\n",
       "  </tbody>\n",
       "</table>\n",
       "<p>15634 rows × 19 columns</p>\n",
       "</div>"
      ],
      "text/plain": [
       "         DATEPRD  NPD_WELL_BORE_CODE NPD_WELL_BORE_NAME  ON_STREAM_HRS  \\\n",
       "0      07-Apr-14                7405         15/9-F-1 C            0.0   \n",
       "1      08-Apr-14                7405         15/9-F-1 C            0.0   \n",
       "2      09-Apr-14                7405         15/9-F-1 C            0.0   \n",
       "3      10-Apr-14                7405         15/9-F-1 C            0.0   \n",
       "4      11-Apr-14                7405         15/9-F-1 C            0.0   \n",
       "...          ...                 ...                ...            ...   \n",
       "15629  14-Sep-16                5769           15/9-F-5            0.0   \n",
       "15630  15-Sep-16                5769           15/9-F-5            0.0   \n",
       "15631  16-Sep-16                5769           15/9-F-5            0.0   \n",
       "15632  17-Sep-16                5769           15/9-F-5            0.0   \n",
       "15633  18-Sep-16                5769           15/9-F-5            0.0   \n",
       "\n",
       "       AVG_DOWNHOLE_PRESSURE  AVG_DOWNHOLE_TEMPERATURE  AVG_DP_TUBING  \\\n",
       "0                      0.000                     0.000          0.000   \n",
       "1                        NaN                       NaN            NaN   \n",
       "2                        NaN                       NaN            NaN   \n",
       "3                        NaN                       NaN            NaN   \n",
       "4                    310.376                    96.876        277.278   \n",
       "...                      ...                       ...            ...   \n",
       "15629                    NaN                       NaN            NaN   \n",
       "15630                    NaN                       NaN            NaN   \n",
       "15631                    NaN                       NaN            NaN   \n",
       "15632                    NaN                       NaN            NaN   \n",
       "15633                    NaN                       NaN            NaN   \n",
       "\n",
       "       AVG_ANNULUS_PRESS  AVG_CHOKE_SIZE_P AVG_CHOKE_UOM  AVG_WHP_P  \\\n",
       "0                  0.000           0.00000             %      0.000   \n",
       "1                  0.000           1.00306             %      0.000   \n",
       "2                  0.000           0.97901             %      0.000   \n",
       "3                  0.000           0.54576             %      0.000   \n",
       "4                  0.000           1.21599             %     33.098   \n",
       "...                  ...               ...           ...        ...   \n",
       "15629              0.273           0.63609             %      0.078   \n",
       "15630              0.287           0.67079             %      0.085   \n",
       "15631              0.286           0.66439             %      0.085   \n",
       "15632              0.272           0.62466             %      0.075   \n",
       "15633                NaN               NaN           NaN        NaN   \n",
       "\n",
       "       AVG_WHT_P  DP_CHOKE_SIZE  BORE_OIL_VOL  BORE_GAS_VOL  BORE_WAT_VOL  \\\n",
       "0          0.000          0.000           0.0           0.0           0.0   \n",
       "1          0.000          0.000           0.0           0.0           0.0   \n",
       "2          0.000          0.000           0.0           0.0           0.0   \n",
       "3          0.000          0.000           0.0           0.0           0.0   \n",
       "4         10.480         33.072           0.0           0.0           0.0   \n",
       "...          ...            ...           ...           ...           ...   \n",
       "15629      0.229          0.019           0.0           0.0           0.0   \n",
       "15630      0.229          0.006           0.0           0.0           0.0   \n",
       "15631      0.229          0.012           0.0           0.0           0.0   \n",
       "15632      0.228          0.026           0.0           0.0           0.0   \n",
       "15633        NaN          0.000           NaN           NaN           NaN   \n",
       "\n",
       "       BORE_WI_VOL   FLOW_KIND WELL_TYPE  \n",
       "0              NaN  production        WI  \n",
       "1              NaN  production        OP  \n",
       "2              NaN  production        OP  \n",
       "3              NaN  production        OP  \n",
       "4              NaN  production        OP  \n",
       "...            ...         ...       ...  \n",
       "15629          NaN  production        OP  \n",
       "15630          NaN  production        OP  \n",
       "15631          NaN  production        OP  \n",
       "15632          NaN  production        OP  \n",
       "15633          0.0   injection        WI  \n",
       "\n",
       "[15634 rows x 19 columns]"
      ]
     },
     "execution_count": 2,
     "metadata": {},
     "output_type": "execute_result"
    }
   ],
   "source": [
    "pd.read_csv('vpd.csv')"
   ]
  },
  {
   "cell_type": "code",
   "execution_count": 5,
   "metadata": {},
   "outputs": [],
   "source": [
    "df = pd.read_csv('vpd.csv')"
   ]
  },
  {
   "cell_type": "code",
   "execution_count": 8,
   "metadata": {},
   "outputs": [
    {
     "data": {
      "text/html": [
       "<div>\n",
       "<style scoped>\n",
       "    .dataframe tbody tr th:only-of-type {\n",
       "        vertical-align: middle;\n",
       "    }\n",
       "\n",
       "    .dataframe tbody tr th {\n",
       "        vertical-align: top;\n",
       "    }\n",
       "\n",
       "    .dataframe thead th {\n",
       "        text-align: right;\n",
       "    }\n",
       "</style>\n",
       "<table border=\"1\" class=\"dataframe\">\n",
       "  <thead>\n",
       "    <tr style=\"text-align: right;\">\n",
       "      <th></th>\n",
       "      <th>DATEPRD</th>\n",
       "      <th>NPD_WELL_BORE_CODE</th>\n",
       "      <th>NPD_WELL_BORE_NAME</th>\n",
       "      <th>ON_STREAM_HRS</th>\n",
       "      <th>AVG_DOWNHOLE_PRESSURE</th>\n",
       "      <th>AVG_DOWNHOLE_TEMPERATURE</th>\n",
       "      <th>AVG_DP_TUBING</th>\n",
       "      <th>AVG_ANNULUS_PRESS</th>\n",
       "      <th>AVG_CHOKE_SIZE_P</th>\n",
       "      <th>AVG_CHOKE_UOM</th>\n",
       "      <th>AVG_WHP_P</th>\n",
       "      <th>AVG_WHT_P</th>\n",
       "      <th>DP_CHOKE_SIZE</th>\n",
       "      <th>BORE_OIL_VOL</th>\n",
       "      <th>BORE_GAS_VOL</th>\n",
       "      <th>BORE_WAT_VOL</th>\n",
       "      <th>BORE_WI_VOL</th>\n",
       "      <th>FLOW_KIND</th>\n",
       "      <th>WELL_TYPE</th>\n",
       "    </tr>\n",
       "  </thead>\n",
       "  <tbody>\n",
       "    <tr>\n",
       "      <th>0</th>\n",
       "      <td>07-Apr-14</td>\n",
       "      <td>7405</td>\n",
       "      <td>15/9-F-1 C</td>\n",
       "      <td>0.0</td>\n",
       "      <td>0.0</td>\n",
       "      <td>0.0</td>\n",
       "      <td>0.0</td>\n",
       "      <td>0.0</td>\n",
       "      <td>0.00000</td>\n",
       "      <td>%</td>\n",
       "      <td>0.0</td>\n",
       "      <td>0.0</td>\n",
       "      <td>0.0</td>\n",
       "      <td>0.0</td>\n",
       "      <td>0.0</td>\n",
       "      <td>0.0</td>\n",
       "      <td>NaN</td>\n",
       "      <td>production</td>\n",
       "      <td>WI</td>\n",
       "    </tr>\n",
       "    <tr>\n",
       "      <th>1</th>\n",
       "      <td>08-Apr-14</td>\n",
       "      <td>7405</td>\n",
       "      <td>15/9-F-1 C</td>\n",
       "      <td>0.0</td>\n",
       "      <td>NaN</td>\n",
       "      <td>NaN</td>\n",
       "      <td>NaN</td>\n",
       "      <td>0.0</td>\n",
       "      <td>1.00306</td>\n",
       "      <td>%</td>\n",
       "      <td>0.0</td>\n",
       "      <td>0.0</td>\n",
       "      <td>0.0</td>\n",
       "      <td>0.0</td>\n",
       "      <td>0.0</td>\n",
       "      <td>0.0</td>\n",
       "      <td>NaN</td>\n",
       "      <td>production</td>\n",
       "      <td>OP</td>\n",
       "    </tr>\n",
       "  </tbody>\n",
       "</table>\n",
       "</div>"
      ],
      "text/plain": [
       "     DATEPRD  NPD_WELL_BORE_CODE NPD_WELL_BORE_NAME  ON_STREAM_HRS  \\\n",
       "0  07-Apr-14                7405         15/9-F-1 C            0.0   \n",
       "1  08-Apr-14                7405         15/9-F-1 C            0.0   \n",
       "\n",
       "   AVG_DOWNHOLE_PRESSURE  AVG_DOWNHOLE_TEMPERATURE  AVG_DP_TUBING  \\\n",
       "0                    0.0                       0.0            0.0   \n",
       "1                    NaN                       NaN            NaN   \n",
       "\n",
       "   AVG_ANNULUS_PRESS  AVG_CHOKE_SIZE_P AVG_CHOKE_UOM  AVG_WHP_P  AVG_WHT_P  \\\n",
       "0                0.0           0.00000             %        0.0        0.0   \n",
       "1                0.0           1.00306             %        0.0        0.0   \n",
       "\n",
       "   DP_CHOKE_SIZE  BORE_OIL_VOL  BORE_GAS_VOL  BORE_WAT_VOL  BORE_WI_VOL  \\\n",
       "0            0.0           0.0           0.0           0.0          NaN   \n",
       "1            0.0           0.0           0.0           0.0          NaN   \n",
       "\n",
       "    FLOW_KIND WELL_TYPE  \n",
       "0  production        WI  \n",
       "1  production        OP  "
      ]
     },
     "execution_count": 8,
     "metadata": {},
     "output_type": "execute_result"
    }
   ],
   "source": [
    "df.head(2)"
   ]
  },
  {
   "cell_type": "code",
   "execution_count": 7,
   "metadata": {},
   "outputs": [
    {
     "data": {
      "text/html": [
       "<div>\n",
       "<style scoped>\n",
       "    .dataframe tbody tr th:only-of-type {\n",
       "        vertical-align: middle;\n",
       "    }\n",
       "\n",
       "    .dataframe tbody tr th {\n",
       "        vertical-align: top;\n",
       "    }\n",
       "\n",
       "    .dataframe thead th {\n",
       "        text-align: right;\n",
       "    }\n",
       "</style>\n",
       "<table border=\"1\" class=\"dataframe\">\n",
       "  <thead>\n",
       "    <tr style=\"text-align: right;\">\n",
       "      <th></th>\n",
       "      <th>DATEPRD</th>\n",
       "      <th>NPD_WELL_BORE_CODE</th>\n",
       "      <th>NPD_WELL_BORE_NAME</th>\n",
       "      <th>ON_STREAM_HRS</th>\n",
       "      <th>AVG_DOWNHOLE_PRESSURE</th>\n",
       "      <th>AVG_DOWNHOLE_TEMPERATURE</th>\n",
       "      <th>AVG_DP_TUBING</th>\n",
       "      <th>AVG_ANNULUS_PRESS</th>\n",
       "      <th>AVG_CHOKE_SIZE_P</th>\n",
       "      <th>AVG_CHOKE_UOM</th>\n",
       "      <th>AVG_WHP_P</th>\n",
       "      <th>AVG_WHT_P</th>\n",
       "      <th>DP_CHOKE_SIZE</th>\n",
       "      <th>BORE_OIL_VOL</th>\n",
       "      <th>BORE_GAS_VOL</th>\n",
       "      <th>BORE_WAT_VOL</th>\n",
       "      <th>BORE_WI_VOL</th>\n",
       "      <th>FLOW_KIND</th>\n",
       "      <th>WELL_TYPE</th>\n",
       "    </tr>\n",
       "  </thead>\n",
       "  <tbody>\n",
       "    <tr>\n",
       "      <th>15629</th>\n",
       "      <td>14-Sep-16</td>\n",
       "      <td>5769</td>\n",
       "      <td>15/9-F-5</td>\n",
       "      <td>0.0</td>\n",
       "      <td>NaN</td>\n",
       "      <td>NaN</td>\n",
       "      <td>NaN</td>\n",
       "      <td>0.273</td>\n",
       "      <td>0.63609</td>\n",
       "      <td>%</td>\n",
       "      <td>0.078</td>\n",
       "      <td>0.229</td>\n",
       "      <td>0.019</td>\n",
       "      <td>0.0</td>\n",
       "      <td>0.0</td>\n",
       "      <td>0.0</td>\n",
       "      <td>NaN</td>\n",
       "      <td>production</td>\n",
       "      <td>OP</td>\n",
       "    </tr>\n",
       "    <tr>\n",
       "      <th>15630</th>\n",
       "      <td>15-Sep-16</td>\n",
       "      <td>5769</td>\n",
       "      <td>15/9-F-5</td>\n",
       "      <td>0.0</td>\n",
       "      <td>NaN</td>\n",
       "      <td>NaN</td>\n",
       "      <td>NaN</td>\n",
       "      <td>0.287</td>\n",
       "      <td>0.67079</td>\n",
       "      <td>%</td>\n",
       "      <td>0.085</td>\n",
       "      <td>0.229</td>\n",
       "      <td>0.006</td>\n",
       "      <td>0.0</td>\n",
       "      <td>0.0</td>\n",
       "      <td>0.0</td>\n",
       "      <td>NaN</td>\n",
       "      <td>production</td>\n",
       "      <td>OP</td>\n",
       "    </tr>\n",
       "    <tr>\n",
       "      <th>15631</th>\n",
       "      <td>16-Sep-16</td>\n",
       "      <td>5769</td>\n",
       "      <td>15/9-F-5</td>\n",
       "      <td>0.0</td>\n",
       "      <td>NaN</td>\n",
       "      <td>NaN</td>\n",
       "      <td>NaN</td>\n",
       "      <td>0.286</td>\n",
       "      <td>0.66439</td>\n",
       "      <td>%</td>\n",
       "      <td>0.085</td>\n",
       "      <td>0.229</td>\n",
       "      <td>0.012</td>\n",
       "      <td>0.0</td>\n",
       "      <td>0.0</td>\n",
       "      <td>0.0</td>\n",
       "      <td>NaN</td>\n",
       "      <td>production</td>\n",
       "      <td>OP</td>\n",
       "    </tr>\n",
       "    <tr>\n",
       "      <th>15632</th>\n",
       "      <td>17-Sep-16</td>\n",
       "      <td>5769</td>\n",
       "      <td>15/9-F-5</td>\n",
       "      <td>0.0</td>\n",
       "      <td>NaN</td>\n",
       "      <td>NaN</td>\n",
       "      <td>NaN</td>\n",
       "      <td>0.272</td>\n",
       "      <td>0.62466</td>\n",
       "      <td>%</td>\n",
       "      <td>0.075</td>\n",
       "      <td>0.228</td>\n",
       "      <td>0.026</td>\n",
       "      <td>0.0</td>\n",
       "      <td>0.0</td>\n",
       "      <td>0.0</td>\n",
       "      <td>NaN</td>\n",
       "      <td>production</td>\n",
       "      <td>OP</td>\n",
       "    </tr>\n",
       "    <tr>\n",
       "      <th>15633</th>\n",
       "      <td>18-Sep-16</td>\n",
       "      <td>5769</td>\n",
       "      <td>15/9-F-5</td>\n",
       "      <td>0.0</td>\n",
       "      <td>NaN</td>\n",
       "      <td>NaN</td>\n",
       "      <td>NaN</td>\n",
       "      <td>NaN</td>\n",
       "      <td>NaN</td>\n",
       "      <td>NaN</td>\n",
       "      <td>NaN</td>\n",
       "      <td>NaN</td>\n",
       "      <td>0.000</td>\n",
       "      <td>NaN</td>\n",
       "      <td>NaN</td>\n",
       "      <td>NaN</td>\n",
       "      <td>0.0</td>\n",
       "      <td>injection</td>\n",
       "      <td>WI</td>\n",
       "    </tr>\n",
       "  </tbody>\n",
       "</table>\n",
       "</div>"
      ],
      "text/plain": [
       "         DATEPRD  NPD_WELL_BORE_CODE NPD_WELL_BORE_NAME  ON_STREAM_HRS  \\\n",
       "15629  14-Sep-16                5769           15/9-F-5            0.0   \n",
       "15630  15-Sep-16                5769           15/9-F-5            0.0   \n",
       "15631  16-Sep-16                5769           15/9-F-5            0.0   \n",
       "15632  17-Sep-16                5769           15/9-F-5            0.0   \n",
       "15633  18-Sep-16                5769           15/9-F-5            0.0   \n",
       "\n",
       "       AVG_DOWNHOLE_PRESSURE  AVG_DOWNHOLE_TEMPERATURE  AVG_DP_TUBING  \\\n",
       "15629                    NaN                       NaN            NaN   \n",
       "15630                    NaN                       NaN            NaN   \n",
       "15631                    NaN                       NaN            NaN   \n",
       "15632                    NaN                       NaN            NaN   \n",
       "15633                    NaN                       NaN            NaN   \n",
       "\n",
       "       AVG_ANNULUS_PRESS  AVG_CHOKE_SIZE_P AVG_CHOKE_UOM  AVG_WHP_P  \\\n",
       "15629              0.273           0.63609             %      0.078   \n",
       "15630              0.287           0.67079             %      0.085   \n",
       "15631              0.286           0.66439             %      0.085   \n",
       "15632              0.272           0.62466             %      0.075   \n",
       "15633                NaN               NaN           NaN        NaN   \n",
       "\n",
       "       AVG_WHT_P  DP_CHOKE_SIZE  BORE_OIL_VOL  BORE_GAS_VOL  BORE_WAT_VOL  \\\n",
       "15629      0.229          0.019           0.0           0.0           0.0   \n",
       "15630      0.229          0.006           0.0           0.0           0.0   \n",
       "15631      0.229          0.012           0.0           0.0           0.0   \n",
       "15632      0.228          0.026           0.0           0.0           0.0   \n",
       "15633        NaN          0.000           NaN           NaN           NaN   \n",
       "\n",
       "       BORE_WI_VOL   FLOW_KIND WELL_TYPE  \n",
       "15629          NaN  production        OP  \n",
       "15630          NaN  production        OP  \n",
       "15631          NaN  production        OP  \n",
       "15632          NaN  production        OP  \n",
       "15633          0.0   injection        WI  "
      ]
     },
     "execution_count": 7,
     "metadata": {},
     "output_type": "execute_result"
    }
   ],
   "source": [
    "df.tail()"
   ]
  },
  {
   "cell_type": "code",
   "execution_count": 4,
   "metadata": {},
   "outputs": [
    {
     "data": {
      "text/html": [
       "<div>\n",
       "<style scoped>\n",
       "    .dataframe tbody tr th:only-of-type {\n",
       "        vertical-align: middle;\n",
       "    }\n",
       "\n",
       "    .dataframe tbody tr th {\n",
       "        vertical-align: top;\n",
       "    }\n",
       "\n",
       "    .dataframe thead th {\n",
       "        text-align: right;\n",
       "    }\n",
       "</style>\n",
       "<table border=\"1\" class=\"dataframe\">\n",
       "  <thead>\n",
       "    <tr style=\"text-align: right;\">\n",
       "      <th></th>\n",
       "      <th>NPD_WELL_BORE_CODE</th>\n",
       "      <th>NPD_WELL_BORE_NAME</th>\n",
       "      <th>ON_STREAM_HRS</th>\n",
       "      <th>AVG_DOWNHOLE_PRESSURE</th>\n",
       "      <th>AVG_DOWNHOLE_TEMPERATURE</th>\n",
       "      <th>AVG_DP_TUBING</th>\n",
       "      <th>AVG_ANNULUS_PRESS</th>\n",
       "      <th>AVG_CHOKE_SIZE_P</th>\n",
       "      <th>AVG_CHOKE_UOM</th>\n",
       "      <th>AVG_WHP_P</th>\n",
       "      <th>AVG_WHT_P</th>\n",
       "      <th>DP_CHOKE_SIZE</th>\n",
       "      <th>BORE_OIL_VOL</th>\n",
       "      <th>BORE_GAS_VOL</th>\n",
       "      <th>BORE_WAT_VOL</th>\n",
       "      <th>BORE_WI_VOL</th>\n",
       "      <th>FLOW_KIND</th>\n",
       "      <th>WELL_TYPE</th>\n",
       "    </tr>\n",
       "    <tr>\n",
       "      <th>DATEPRD</th>\n",
       "      <th></th>\n",
       "      <th></th>\n",
       "      <th></th>\n",
       "      <th></th>\n",
       "      <th></th>\n",
       "      <th></th>\n",
       "      <th></th>\n",
       "      <th></th>\n",
       "      <th></th>\n",
       "      <th></th>\n",
       "      <th></th>\n",
       "      <th></th>\n",
       "      <th></th>\n",
       "      <th></th>\n",
       "      <th></th>\n",
       "      <th></th>\n",
       "      <th></th>\n",
       "      <th></th>\n",
       "    </tr>\n",
       "  </thead>\n",
       "  <tbody>\n",
       "    <tr>\n",
       "      <th>07-Apr-14</th>\n",
       "      <td>7405</td>\n",
       "      <td>15/9-F-1 C</td>\n",
       "      <td>0.0</td>\n",
       "      <td>0.000</td>\n",
       "      <td>0.000</td>\n",
       "      <td>0.000</td>\n",
       "      <td>0.000</td>\n",
       "      <td>0.00000</td>\n",
       "      <td>%</td>\n",
       "      <td>0.000</td>\n",
       "      <td>0.000</td>\n",
       "      <td>0.000</td>\n",
       "      <td>0.0</td>\n",
       "      <td>0.0</td>\n",
       "      <td>0.0</td>\n",
       "      <td>NaN</td>\n",
       "      <td>production</td>\n",
       "      <td>WI</td>\n",
       "    </tr>\n",
       "    <tr>\n",
       "      <th>08-Apr-14</th>\n",
       "      <td>7405</td>\n",
       "      <td>15/9-F-1 C</td>\n",
       "      <td>0.0</td>\n",
       "      <td>NaN</td>\n",
       "      <td>NaN</td>\n",
       "      <td>NaN</td>\n",
       "      <td>0.000</td>\n",
       "      <td>1.00306</td>\n",
       "      <td>%</td>\n",
       "      <td>0.000</td>\n",
       "      <td>0.000</td>\n",
       "      <td>0.000</td>\n",
       "      <td>0.0</td>\n",
       "      <td>0.0</td>\n",
       "      <td>0.0</td>\n",
       "      <td>NaN</td>\n",
       "      <td>production</td>\n",
       "      <td>OP</td>\n",
       "    </tr>\n",
       "    <tr>\n",
       "      <th>09-Apr-14</th>\n",
       "      <td>7405</td>\n",
       "      <td>15/9-F-1 C</td>\n",
       "      <td>0.0</td>\n",
       "      <td>NaN</td>\n",
       "      <td>NaN</td>\n",
       "      <td>NaN</td>\n",
       "      <td>0.000</td>\n",
       "      <td>0.97901</td>\n",
       "      <td>%</td>\n",
       "      <td>0.000</td>\n",
       "      <td>0.000</td>\n",
       "      <td>0.000</td>\n",
       "      <td>0.0</td>\n",
       "      <td>0.0</td>\n",
       "      <td>0.0</td>\n",
       "      <td>NaN</td>\n",
       "      <td>production</td>\n",
       "      <td>OP</td>\n",
       "    </tr>\n",
       "    <tr>\n",
       "      <th>10-Apr-14</th>\n",
       "      <td>7405</td>\n",
       "      <td>15/9-F-1 C</td>\n",
       "      <td>0.0</td>\n",
       "      <td>NaN</td>\n",
       "      <td>NaN</td>\n",
       "      <td>NaN</td>\n",
       "      <td>0.000</td>\n",
       "      <td>0.54576</td>\n",
       "      <td>%</td>\n",
       "      <td>0.000</td>\n",
       "      <td>0.000</td>\n",
       "      <td>0.000</td>\n",
       "      <td>0.0</td>\n",
       "      <td>0.0</td>\n",
       "      <td>0.0</td>\n",
       "      <td>NaN</td>\n",
       "      <td>production</td>\n",
       "      <td>OP</td>\n",
       "    </tr>\n",
       "    <tr>\n",
       "      <th>11-Apr-14</th>\n",
       "      <td>7405</td>\n",
       "      <td>15/9-F-1 C</td>\n",
       "      <td>0.0</td>\n",
       "      <td>310.376</td>\n",
       "      <td>96.876</td>\n",
       "      <td>277.278</td>\n",
       "      <td>0.000</td>\n",
       "      <td>1.21599</td>\n",
       "      <td>%</td>\n",
       "      <td>33.098</td>\n",
       "      <td>10.480</td>\n",
       "      <td>33.072</td>\n",
       "      <td>0.0</td>\n",
       "      <td>0.0</td>\n",
       "      <td>0.0</td>\n",
       "      <td>NaN</td>\n",
       "      <td>production</td>\n",
       "      <td>OP</td>\n",
       "    </tr>\n",
       "    <tr>\n",
       "      <th>...</th>\n",
       "      <td>...</td>\n",
       "      <td>...</td>\n",
       "      <td>...</td>\n",
       "      <td>...</td>\n",
       "      <td>...</td>\n",
       "      <td>...</td>\n",
       "      <td>...</td>\n",
       "      <td>...</td>\n",
       "      <td>...</td>\n",
       "      <td>...</td>\n",
       "      <td>...</td>\n",
       "      <td>...</td>\n",
       "      <td>...</td>\n",
       "      <td>...</td>\n",
       "      <td>...</td>\n",
       "      <td>...</td>\n",
       "      <td>...</td>\n",
       "      <td>...</td>\n",
       "    </tr>\n",
       "    <tr>\n",
       "      <th>14-Sep-16</th>\n",
       "      <td>5769</td>\n",
       "      <td>15/9-F-5</td>\n",
       "      <td>0.0</td>\n",
       "      <td>NaN</td>\n",
       "      <td>NaN</td>\n",
       "      <td>NaN</td>\n",
       "      <td>0.273</td>\n",
       "      <td>0.63609</td>\n",
       "      <td>%</td>\n",
       "      <td>0.078</td>\n",
       "      <td>0.229</td>\n",
       "      <td>0.019</td>\n",
       "      <td>0.0</td>\n",
       "      <td>0.0</td>\n",
       "      <td>0.0</td>\n",
       "      <td>NaN</td>\n",
       "      <td>production</td>\n",
       "      <td>OP</td>\n",
       "    </tr>\n",
       "    <tr>\n",
       "      <th>15-Sep-16</th>\n",
       "      <td>5769</td>\n",
       "      <td>15/9-F-5</td>\n",
       "      <td>0.0</td>\n",
       "      <td>NaN</td>\n",
       "      <td>NaN</td>\n",
       "      <td>NaN</td>\n",
       "      <td>0.287</td>\n",
       "      <td>0.67079</td>\n",
       "      <td>%</td>\n",
       "      <td>0.085</td>\n",
       "      <td>0.229</td>\n",
       "      <td>0.006</td>\n",
       "      <td>0.0</td>\n",
       "      <td>0.0</td>\n",
       "      <td>0.0</td>\n",
       "      <td>NaN</td>\n",
       "      <td>production</td>\n",
       "      <td>OP</td>\n",
       "    </tr>\n",
       "    <tr>\n",
       "      <th>16-Sep-16</th>\n",
       "      <td>5769</td>\n",
       "      <td>15/9-F-5</td>\n",
       "      <td>0.0</td>\n",
       "      <td>NaN</td>\n",
       "      <td>NaN</td>\n",
       "      <td>NaN</td>\n",
       "      <td>0.286</td>\n",
       "      <td>0.66439</td>\n",
       "      <td>%</td>\n",
       "      <td>0.085</td>\n",
       "      <td>0.229</td>\n",
       "      <td>0.012</td>\n",
       "      <td>0.0</td>\n",
       "      <td>0.0</td>\n",
       "      <td>0.0</td>\n",
       "      <td>NaN</td>\n",
       "      <td>production</td>\n",
       "      <td>OP</td>\n",
       "    </tr>\n",
       "    <tr>\n",
       "      <th>17-Sep-16</th>\n",
       "      <td>5769</td>\n",
       "      <td>15/9-F-5</td>\n",
       "      <td>0.0</td>\n",
       "      <td>NaN</td>\n",
       "      <td>NaN</td>\n",
       "      <td>NaN</td>\n",
       "      <td>0.272</td>\n",
       "      <td>0.62466</td>\n",
       "      <td>%</td>\n",
       "      <td>0.075</td>\n",
       "      <td>0.228</td>\n",
       "      <td>0.026</td>\n",
       "      <td>0.0</td>\n",
       "      <td>0.0</td>\n",
       "      <td>0.0</td>\n",
       "      <td>NaN</td>\n",
       "      <td>production</td>\n",
       "      <td>OP</td>\n",
       "    </tr>\n",
       "    <tr>\n",
       "      <th>18-Sep-16</th>\n",
       "      <td>5769</td>\n",
       "      <td>15/9-F-5</td>\n",
       "      <td>0.0</td>\n",
       "      <td>NaN</td>\n",
       "      <td>NaN</td>\n",
       "      <td>NaN</td>\n",
       "      <td>NaN</td>\n",
       "      <td>NaN</td>\n",
       "      <td>NaN</td>\n",
       "      <td>NaN</td>\n",
       "      <td>NaN</td>\n",
       "      <td>0.000</td>\n",
       "      <td>NaN</td>\n",
       "      <td>NaN</td>\n",
       "      <td>NaN</td>\n",
       "      <td>0.0</td>\n",
       "      <td>injection</td>\n",
       "      <td>WI</td>\n",
       "    </tr>\n",
       "  </tbody>\n",
       "</table>\n",
       "<p>15634 rows × 18 columns</p>\n",
       "</div>"
      ],
      "text/plain": [
       "           NPD_WELL_BORE_CODE NPD_WELL_BORE_NAME  ON_STREAM_HRS  \\\n",
       "DATEPRD                                                           \n",
       "07-Apr-14                7405         15/9-F-1 C            0.0   \n",
       "08-Apr-14                7405         15/9-F-1 C            0.0   \n",
       "09-Apr-14                7405         15/9-F-1 C            0.0   \n",
       "10-Apr-14                7405         15/9-F-1 C            0.0   \n",
       "11-Apr-14                7405         15/9-F-1 C            0.0   \n",
       "...                       ...                ...            ...   \n",
       "14-Sep-16                5769           15/9-F-5            0.0   \n",
       "15-Sep-16                5769           15/9-F-5            0.0   \n",
       "16-Sep-16                5769           15/9-F-5            0.0   \n",
       "17-Sep-16                5769           15/9-F-5            0.0   \n",
       "18-Sep-16                5769           15/9-F-5            0.0   \n",
       "\n",
       "           AVG_DOWNHOLE_PRESSURE  AVG_DOWNHOLE_TEMPERATURE  AVG_DP_TUBING  \\\n",
       "DATEPRD                                                                     \n",
       "07-Apr-14                  0.000                     0.000          0.000   \n",
       "08-Apr-14                    NaN                       NaN            NaN   \n",
       "09-Apr-14                    NaN                       NaN            NaN   \n",
       "10-Apr-14                    NaN                       NaN            NaN   \n",
       "11-Apr-14                310.376                    96.876        277.278   \n",
       "...                          ...                       ...            ...   \n",
       "14-Sep-16                    NaN                       NaN            NaN   \n",
       "15-Sep-16                    NaN                       NaN            NaN   \n",
       "16-Sep-16                    NaN                       NaN            NaN   \n",
       "17-Sep-16                    NaN                       NaN            NaN   \n",
       "18-Sep-16                    NaN                       NaN            NaN   \n",
       "\n",
       "           AVG_ANNULUS_PRESS  AVG_CHOKE_SIZE_P AVG_CHOKE_UOM  AVG_WHP_P  \\\n",
       "DATEPRD                                                                   \n",
       "07-Apr-14              0.000           0.00000             %      0.000   \n",
       "08-Apr-14              0.000           1.00306             %      0.000   \n",
       "09-Apr-14              0.000           0.97901             %      0.000   \n",
       "10-Apr-14              0.000           0.54576             %      0.000   \n",
       "11-Apr-14              0.000           1.21599             %     33.098   \n",
       "...                      ...               ...           ...        ...   \n",
       "14-Sep-16              0.273           0.63609             %      0.078   \n",
       "15-Sep-16              0.287           0.67079             %      0.085   \n",
       "16-Sep-16              0.286           0.66439             %      0.085   \n",
       "17-Sep-16              0.272           0.62466             %      0.075   \n",
       "18-Sep-16                NaN               NaN           NaN        NaN   \n",
       "\n",
       "           AVG_WHT_P  DP_CHOKE_SIZE  BORE_OIL_VOL  BORE_GAS_VOL  BORE_WAT_VOL  \\\n",
       "DATEPRD                                                                         \n",
       "07-Apr-14      0.000          0.000           0.0           0.0           0.0   \n",
       "08-Apr-14      0.000          0.000           0.0           0.0           0.0   \n",
       "09-Apr-14      0.000          0.000           0.0           0.0           0.0   \n",
       "10-Apr-14      0.000          0.000           0.0           0.0           0.0   \n",
       "11-Apr-14     10.480         33.072           0.0           0.0           0.0   \n",
       "...              ...            ...           ...           ...           ...   \n",
       "14-Sep-16      0.229          0.019           0.0           0.0           0.0   \n",
       "15-Sep-16      0.229          0.006           0.0           0.0           0.0   \n",
       "16-Sep-16      0.229          0.012           0.0           0.0           0.0   \n",
       "17-Sep-16      0.228          0.026           0.0           0.0           0.0   \n",
       "18-Sep-16        NaN          0.000           NaN           NaN           NaN   \n",
       "\n",
       "           BORE_WI_VOL   FLOW_KIND WELL_TYPE  \n",
       "DATEPRD                                       \n",
       "07-Apr-14          NaN  production        WI  \n",
       "08-Apr-14          NaN  production        OP  \n",
       "09-Apr-14          NaN  production        OP  \n",
       "10-Apr-14          NaN  production        OP  \n",
       "11-Apr-14          NaN  production        OP  \n",
       "...                ...         ...       ...  \n",
       "14-Sep-16          NaN  production        OP  \n",
       "15-Sep-16          NaN  production        OP  \n",
       "16-Sep-16          NaN  production        OP  \n",
       "17-Sep-16          NaN  production        OP  \n",
       "18-Sep-16          0.0   injection        WI  \n",
       "\n",
       "[15634 rows x 18 columns]"
      ]
     },
     "execution_count": 4,
     "metadata": {},
     "output_type": "execute_result"
    }
   ],
   "source": [
    "#Index Column\n",
    "pd.read_csv('vpd.csv',index_col='DATEPRD')"
   ]
  },
  {
   "cell_type": "code",
   "execution_count": 13,
   "metadata": {},
   "outputs": [
    {
     "data": {
      "text/html": [
       "<div>\n",
       "<style scoped>\n",
       "    .dataframe tbody tr th:only-of-type {\n",
       "        vertical-align: middle;\n",
       "    }\n",
       "\n",
       "    .dataframe tbody tr th {\n",
       "        vertical-align: top;\n",
       "    }\n",
       "\n",
       "    .dataframe thead th {\n",
       "        text-align: right;\n",
       "    }\n",
       "</style>\n",
       "<table border=\"1\" class=\"dataframe\">\n",
       "  <thead>\n",
       "    <tr style=\"text-align: right;\">\n",
       "      <th></th>\n",
       "      <th>0</th>\n",
       "      <th>1</th>\n",
       "      <th>2</th>\n",
       "      <th>3</th>\n",
       "      <th>4</th>\n",
       "      <th>5</th>\n",
       "      <th>6</th>\n",
       "      <th>7</th>\n",
       "      <th>8</th>\n",
       "      <th>9</th>\n",
       "      <th>10</th>\n",
       "      <th>11</th>\n",
       "      <th>12</th>\n",
       "      <th>13</th>\n",
       "      <th>14</th>\n",
       "      <th>15</th>\n",
       "      <th>16</th>\n",
       "      <th>17</th>\n",
       "      <th>18</th>\n",
       "    </tr>\n",
       "  </thead>\n",
       "  <tbody>\n",
       "    <tr>\n",
       "      <th>0</th>\n",
       "      <td>DATEPRD</td>\n",
       "      <td>NPD_WELL_BORE_CODE</td>\n",
       "      <td>NPD_WELL_BORE_NAME</td>\n",
       "      <td>ON_STREAM_HRS</td>\n",
       "      <td>AVG_DOWNHOLE_PRESSURE</td>\n",
       "      <td>AVG_DOWNHOLE_TEMPERATURE</td>\n",
       "      <td>AVG_DP_TUBING</td>\n",
       "      <td>AVG_ANNULUS_PRESS</td>\n",
       "      <td>AVG_CHOKE_SIZE_P</td>\n",
       "      <td>AVG_CHOKE_UOM</td>\n",
       "      <td>AVG_WHP_P</td>\n",
       "      <td>AVG_WHT_P</td>\n",
       "      <td>DP_CHOKE_SIZE</td>\n",
       "      <td>BORE_OIL_VOL</td>\n",
       "      <td>BORE_GAS_VOL</td>\n",
       "      <td>BORE_WAT_VOL</td>\n",
       "      <td>BORE_WI_VOL</td>\n",
       "      <td>FLOW_KIND</td>\n",
       "      <td>WELL_TYPE</td>\n",
       "    </tr>\n",
       "    <tr>\n",
       "      <th>1</th>\n",
       "      <td>07-Apr-14</td>\n",
       "      <td>7405</td>\n",
       "      <td>15/9-F-1 C</td>\n",
       "      <td>0</td>\n",
       "      <td>0</td>\n",
       "      <td>0</td>\n",
       "      <td>0</td>\n",
       "      <td>0</td>\n",
       "      <td>0</td>\n",
       "      <td>%</td>\n",
       "      <td>0</td>\n",
       "      <td>0</td>\n",
       "      <td>0</td>\n",
       "      <td>0</td>\n",
       "      <td>0</td>\n",
       "      <td>0</td>\n",
       "      <td>NaN</td>\n",
       "      <td>production</td>\n",
       "      <td>WI</td>\n",
       "    </tr>\n",
       "    <tr>\n",
       "      <th>2</th>\n",
       "      <td>08-Apr-14</td>\n",
       "      <td>7405</td>\n",
       "      <td>15/9-F-1 C</td>\n",
       "      <td>0</td>\n",
       "      <td>NaN</td>\n",
       "      <td>NaN</td>\n",
       "      <td>NaN</td>\n",
       "      <td>0</td>\n",
       "      <td>1.00306</td>\n",
       "      <td>%</td>\n",
       "      <td>0</td>\n",
       "      <td>0</td>\n",
       "      <td>0</td>\n",
       "      <td>0</td>\n",
       "      <td>0</td>\n",
       "      <td>0</td>\n",
       "      <td>NaN</td>\n",
       "      <td>production</td>\n",
       "      <td>OP</td>\n",
       "    </tr>\n",
       "    <tr>\n",
       "      <th>3</th>\n",
       "      <td>09-Apr-14</td>\n",
       "      <td>7405</td>\n",
       "      <td>15/9-F-1 C</td>\n",
       "      <td>0</td>\n",
       "      <td>NaN</td>\n",
       "      <td>NaN</td>\n",
       "      <td>NaN</td>\n",
       "      <td>0</td>\n",
       "      <td>0.97901</td>\n",
       "      <td>%</td>\n",
       "      <td>0</td>\n",
       "      <td>0</td>\n",
       "      <td>0</td>\n",
       "      <td>0</td>\n",
       "      <td>0</td>\n",
       "      <td>0</td>\n",
       "      <td>NaN</td>\n",
       "      <td>production</td>\n",
       "      <td>OP</td>\n",
       "    </tr>\n",
       "    <tr>\n",
       "      <th>4</th>\n",
       "      <td>10-Apr-14</td>\n",
       "      <td>7405</td>\n",
       "      <td>15/9-F-1 C</td>\n",
       "      <td>0</td>\n",
       "      <td>NaN</td>\n",
       "      <td>NaN</td>\n",
       "      <td>NaN</td>\n",
       "      <td>0</td>\n",
       "      <td>0.54576</td>\n",
       "      <td>%</td>\n",
       "      <td>0</td>\n",
       "      <td>0</td>\n",
       "      <td>0</td>\n",
       "      <td>0</td>\n",
       "      <td>0</td>\n",
       "      <td>0</td>\n",
       "      <td>NaN</td>\n",
       "      <td>production</td>\n",
       "      <td>OP</td>\n",
       "    </tr>\n",
       "    <tr>\n",
       "      <th>...</th>\n",
       "      <td>...</td>\n",
       "      <td>...</td>\n",
       "      <td>...</td>\n",
       "      <td>...</td>\n",
       "      <td>...</td>\n",
       "      <td>...</td>\n",
       "      <td>...</td>\n",
       "      <td>...</td>\n",
       "      <td>...</td>\n",
       "      <td>...</td>\n",
       "      <td>...</td>\n",
       "      <td>...</td>\n",
       "      <td>...</td>\n",
       "      <td>...</td>\n",
       "      <td>...</td>\n",
       "      <td>...</td>\n",
       "      <td>...</td>\n",
       "      <td>...</td>\n",
       "      <td>...</td>\n",
       "    </tr>\n",
       "    <tr>\n",
       "      <th>15630</th>\n",
       "      <td>14-Sep-16</td>\n",
       "      <td>5769</td>\n",
       "      <td>15/9-F-5</td>\n",
       "      <td>0</td>\n",
       "      <td>NaN</td>\n",
       "      <td>NaN</td>\n",
       "      <td>NaN</td>\n",
       "      <td>0.273</td>\n",
       "      <td>0.63609</td>\n",
       "      <td>%</td>\n",
       "      <td>0.078</td>\n",
       "      <td>0.229</td>\n",
       "      <td>0.019</td>\n",
       "      <td>0</td>\n",
       "      <td>0</td>\n",
       "      <td>0</td>\n",
       "      <td>NaN</td>\n",
       "      <td>production</td>\n",
       "      <td>OP</td>\n",
       "    </tr>\n",
       "    <tr>\n",
       "      <th>15631</th>\n",
       "      <td>15-Sep-16</td>\n",
       "      <td>5769</td>\n",
       "      <td>15/9-F-5</td>\n",
       "      <td>0</td>\n",
       "      <td>NaN</td>\n",
       "      <td>NaN</td>\n",
       "      <td>NaN</td>\n",
       "      <td>0.287</td>\n",
       "      <td>0.67079</td>\n",
       "      <td>%</td>\n",
       "      <td>0.085</td>\n",
       "      <td>0.229</td>\n",
       "      <td>0.006</td>\n",
       "      <td>0</td>\n",
       "      <td>0</td>\n",
       "      <td>0</td>\n",
       "      <td>NaN</td>\n",
       "      <td>production</td>\n",
       "      <td>OP</td>\n",
       "    </tr>\n",
       "    <tr>\n",
       "      <th>15632</th>\n",
       "      <td>16-Sep-16</td>\n",
       "      <td>5769</td>\n",
       "      <td>15/9-F-5</td>\n",
       "      <td>0</td>\n",
       "      <td>NaN</td>\n",
       "      <td>NaN</td>\n",
       "      <td>NaN</td>\n",
       "      <td>0.286</td>\n",
       "      <td>0.66439</td>\n",
       "      <td>%</td>\n",
       "      <td>0.085</td>\n",
       "      <td>0.229</td>\n",
       "      <td>0.012</td>\n",
       "      <td>0</td>\n",
       "      <td>0</td>\n",
       "      <td>0</td>\n",
       "      <td>NaN</td>\n",
       "      <td>production</td>\n",
       "      <td>OP</td>\n",
       "    </tr>\n",
       "    <tr>\n",
       "      <th>15633</th>\n",
       "      <td>17-Sep-16</td>\n",
       "      <td>5769</td>\n",
       "      <td>15/9-F-5</td>\n",
       "      <td>0</td>\n",
       "      <td>NaN</td>\n",
       "      <td>NaN</td>\n",
       "      <td>NaN</td>\n",
       "      <td>0.272</td>\n",
       "      <td>0.62466</td>\n",
       "      <td>%</td>\n",
       "      <td>0.075</td>\n",
       "      <td>0.228</td>\n",
       "      <td>0.026</td>\n",
       "      <td>0</td>\n",
       "      <td>0</td>\n",
       "      <td>0</td>\n",
       "      <td>NaN</td>\n",
       "      <td>production</td>\n",
       "      <td>OP</td>\n",
       "    </tr>\n",
       "    <tr>\n",
       "      <th>15634</th>\n",
       "      <td>18-Sep-16</td>\n",
       "      <td>5769</td>\n",
       "      <td>15/9-F-5</td>\n",
       "      <td>0</td>\n",
       "      <td>NaN</td>\n",
       "      <td>NaN</td>\n",
       "      <td>NaN</td>\n",
       "      <td>NaN</td>\n",
       "      <td>NaN</td>\n",
       "      <td>NaN</td>\n",
       "      <td>NaN</td>\n",
       "      <td>NaN</td>\n",
       "      <td>0</td>\n",
       "      <td>NaN</td>\n",
       "      <td>NaN</td>\n",
       "      <td>NaN</td>\n",
       "      <td>0</td>\n",
       "      <td>injection</td>\n",
       "      <td>WI</td>\n",
       "    </tr>\n",
       "  </tbody>\n",
       "</table>\n",
       "<p>15635 rows × 19 columns</p>\n",
       "</div>"
      ],
      "text/plain": [
       "              0                   1                   2              3   \\\n",
       "0        DATEPRD  NPD_WELL_BORE_CODE  NPD_WELL_BORE_NAME  ON_STREAM_HRS   \n",
       "1      07-Apr-14                7405          15/9-F-1 C              0   \n",
       "2      08-Apr-14                7405          15/9-F-1 C              0   \n",
       "3      09-Apr-14                7405          15/9-F-1 C              0   \n",
       "4      10-Apr-14                7405          15/9-F-1 C              0   \n",
       "...          ...                 ...                 ...            ...   \n",
       "15630  14-Sep-16                5769            15/9-F-5              0   \n",
       "15631  15-Sep-16                5769            15/9-F-5              0   \n",
       "15632  16-Sep-16                5769            15/9-F-5              0   \n",
       "15633  17-Sep-16                5769            15/9-F-5              0   \n",
       "15634  18-Sep-16                5769            15/9-F-5              0   \n",
       "\n",
       "                          4                         5              6   \\\n",
       "0      AVG_DOWNHOLE_PRESSURE  AVG_DOWNHOLE_TEMPERATURE  AVG_DP_TUBING   \n",
       "1                          0                         0              0   \n",
       "2                        NaN                       NaN            NaN   \n",
       "3                        NaN                       NaN            NaN   \n",
       "4                        NaN                       NaN            NaN   \n",
       "...                      ...                       ...            ...   \n",
       "15630                    NaN                       NaN            NaN   \n",
       "15631                    NaN                       NaN            NaN   \n",
       "15632                    NaN                       NaN            NaN   \n",
       "15633                    NaN                       NaN            NaN   \n",
       "15634                    NaN                       NaN            NaN   \n",
       "\n",
       "                      7                 8              9          10  \\\n",
       "0      AVG_ANNULUS_PRESS  AVG_CHOKE_SIZE_P  AVG_CHOKE_UOM  AVG_WHP_P   \n",
       "1                      0                 0              %          0   \n",
       "2                      0           1.00306              %          0   \n",
       "3                      0           0.97901              %          0   \n",
       "4                      0           0.54576              %          0   \n",
       "...                  ...               ...            ...        ...   \n",
       "15630              0.273           0.63609              %      0.078   \n",
       "15631              0.287           0.67079              %      0.085   \n",
       "15632              0.286           0.66439              %      0.085   \n",
       "15633              0.272           0.62466              %      0.075   \n",
       "15634                NaN               NaN            NaN        NaN   \n",
       "\n",
       "              11             12            13            14            15  \\\n",
       "0      AVG_WHT_P  DP_CHOKE_SIZE  BORE_OIL_VOL  BORE_GAS_VOL  BORE_WAT_VOL   \n",
       "1              0              0             0             0             0   \n",
       "2              0              0             0             0             0   \n",
       "3              0              0             0             0             0   \n",
       "4              0              0             0             0             0   \n",
       "...          ...            ...           ...           ...           ...   \n",
       "15630      0.229          0.019             0             0             0   \n",
       "15631      0.229          0.006             0             0             0   \n",
       "15632      0.229          0.012             0             0             0   \n",
       "15633      0.228          0.026             0             0             0   \n",
       "15634        NaN              0           NaN           NaN           NaN   \n",
       "\n",
       "                16          17         18  \n",
       "0      BORE_WI_VOL   FLOW_KIND  WELL_TYPE  \n",
       "1              NaN  production         WI  \n",
       "2              NaN  production         OP  \n",
       "3              NaN  production         OP  \n",
       "4              NaN  production         OP  \n",
       "...            ...         ...        ...  \n",
       "15630          NaN  production         OP  \n",
       "15631          NaN  production         OP  \n",
       "15632          NaN  production         OP  \n",
       "15633          NaN  production         OP  \n",
       "15634            0   injection         WI  \n",
       "\n",
       "[15635 rows x 19 columns]"
      ]
     },
     "execution_count": 13,
     "metadata": {},
     "output_type": "execute_result"
    }
   ],
   "source": [
    "#Which row it encounter at 1st that is considered as header\n",
    "pd.read_csv('vpd.csv',header=None)"
   ]
  },
  {
   "cell_type": "code",
   "execution_count": 19,
   "metadata": {},
   "outputs": [
    {
     "data": {
      "text/html": [
       "<div>\n",
       "<style scoped>\n",
       "    .dataframe tbody tr th:only-of-type {\n",
       "        vertical-align: middle;\n",
       "    }\n",
       "\n",
       "    .dataframe tbody tr th {\n",
       "        vertical-align: top;\n",
       "    }\n",
       "\n",
       "    .dataframe thead th {\n",
       "        text-align: right;\n",
       "    }\n",
       "</style>\n",
       "<table border=\"1\" class=\"dataframe\">\n",
       "  <thead>\n",
       "    <tr style=\"text-align: right;\">\n",
       "      <th></th>\n",
       "      <th>a</th>\n",
       "      <th>b</th>\n",
       "      <th>c</th>\n",
       "      <th>d</th>\n",
       "      <th>e</th>\n",
       "      <th>f</th>\n",
       "      <th>g</th>\n",
       "      <th>h</th>\n",
       "      <th>i</th>\n",
       "      <th>j</th>\n",
       "      <th>k</th>\n",
       "      <th>l</th>\n",
       "      <th>m</th>\n",
       "      <th>n</th>\n",
       "      <th>o</th>\n",
       "      <th>p</th>\n",
       "      <th>q</th>\n",
       "      <th>r</th>\n",
       "      <th>s</th>\n",
       "    </tr>\n",
       "  </thead>\n",
       "  <tbody>\n",
       "    <tr>\n",
       "      <th>0</th>\n",
       "      <td>DATEPRD</td>\n",
       "      <td>NPD_WELL_BORE_CODE</td>\n",
       "      <td>NPD_WELL_BORE_NAME</td>\n",
       "      <td>ON_STREAM_HRS</td>\n",
       "      <td>AVG_DOWNHOLE_PRESSURE</td>\n",
       "      <td>AVG_DOWNHOLE_TEMPERATURE</td>\n",
       "      <td>AVG_DP_TUBING</td>\n",
       "      <td>AVG_ANNULUS_PRESS</td>\n",
       "      <td>AVG_CHOKE_SIZE_P</td>\n",
       "      <td>AVG_CHOKE_UOM</td>\n",
       "      <td>AVG_WHP_P</td>\n",
       "      <td>AVG_WHT_P</td>\n",
       "      <td>DP_CHOKE_SIZE</td>\n",
       "      <td>BORE_OIL_VOL</td>\n",
       "      <td>BORE_GAS_VOL</td>\n",
       "      <td>BORE_WAT_VOL</td>\n",
       "      <td>BORE_WI_VOL</td>\n",
       "      <td>FLOW_KIND</td>\n",
       "      <td>WELL_TYPE</td>\n",
       "    </tr>\n",
       "    <tr>\n",
       "      <th>1</th>\n",
       "      <td>07-Apr-14</td>\n",
       "      <td>7405</td>\n",
       "      <td>15/9-F-1 C</td>\n",
       "      <td>0</td>\n",
       "      <td>0</td>\n",
       "      <td>0</td>\n",
       "      <td>0</td>\n",
       "      <td>0</td>\n",
       "      <td>0</td>\n",
       "      <td>%</td>\n",
       "      <td>0</td>\n",
       "      <td>0</td>\n",
       "      <td>0</td>\n",
       "      <td>0</td>\n",
       "      <td>0</td>\n",
       "      <td>0</td>\n",
       "      <td>NaN</td>\n",
       "      <td>production</td>\n",
       "      <td>WI</td>\n",
       "    </tr>\n",
       "    <tr>\n",
       "      <th>2</th>\n",
       "      <td>08-Apr-14</td>\n",
       "      <td>7405</td>\n",
       "      <td>15/9-F-1 C</td>\n",
       "      <td>0</td>\n",
       "      <td>NaN</td>\n",
       "      <td>NaN</td>\n",
       "      <td>NaN</td>\n",
       "      <td>0</td>\n",
       "      <td>1.00306</td>\n",
       "      <td>%</td>\n",
       "      <td>0</td>\n",
       "      <td>0</td>\n",
       "      <td>0</td>\n",
       "      <td>0</td>\n",
       "      <td>0</td>\n",
       "      <td>0</td>\n",
       "      <td>NaN</td>\n",
       "      <td>production</td>\n",
       "      <td>OP</td>\n",
       "    </tr>\n",
       "    <tr>\n",
       "      <th>3</th>\n",
       "      <td>09-Apr-14</td>\n",
       "      <td>7405</td>\n",
       "      <td>15/9-F-1 C</td>\n",
       "      <td>0</td>\n",
       "      <td>NaN</td>\n",
       "      <td>NaN</td>\n",
       "      <td>NaN</td>\n",
       "      <td>0</td>\n",
       "      <td>0.97901</td>\n",
       "      <td>%</td>\n",
       "      <td>0</td>\n",
       "      <td>0</td>\n",
       "      <td>0</td>\n",
       "      <td>0</td>\n",
       "      <td>0</td>\n",
       "      <td>0</td>\n",
       "      <td>NaN</td>\n",
       "      <td>production</td>\n",
       "      <td>OP</td>\n",
       "    </tr>\n",
       "    <tr>\n",
       "      <th>4</th>\n",
       "      <td>10-Apr-14</td>\n",
       "      <td>7405</td>\n",
       "      <td>15/9-F-1 C</td>\n",
       "      <td>0</td>\n",
       "      <td>NaN</td>\n",
       "      <td>NaN</td>\n",
       "      <td>NaN</td>\n",
       "      <td>0</td>\n",
       "      <td>0.54576</td>\n",
       "      <td>%</td>\n",
       "      <td>0</td>\n",
       "      <td>0</td>\n",
       "      <td>0</td>\n",
       "      <td>0</td>\n",
       "      <td>0</td>\n",
       "      <td>0</td>\n",
       "      <td>NaN</td>\n",
       "      <td>production</td>\n",
       "      <td>OP</td>\n",
       "    </tr>\n",
       "    <tr>\n",
       "      <th>...</th>\n",
       "      <td>...</td>\n",
       "      <td>...</td>\n",
       "      <td>...</td>\n",
       "      <td>...</td>\n",
       "      <td>...</td>\n",
       "      <td>...</td>\n",
       "      <td>...</td>\n",
       "      <td>...</td>\n",
       "      <td>...</td>\n",
       "      <td>...</td>\n",
       "      <td>...</td>\n",
       "      <td>...</td>\n",
       "      <td>...</td>\n",
       "      <td>...</td>\n",
       "      <td>...</td>\n",
       "      <td>...</td>\n",
       "      <td>...</td>\n",
       "      <td>...</td>\n",
       "      <td>...</td>\n",
       "    </tr>\n",
       "    <tr>\n",
       "      <th>15630</th>\n",
       "      <td>14-Sep-16</td>\n",
       "      <td>5769</td>\n",
       "      <td>15/9-F-5</td>\n",
       "      <td>0</td>\n",
       "      <td>NaN</td>\n",
       "      <td>NaN</td>\n",
       "      <td>NaN</td>\n",
       "      <td>0.273</td>\n",
       "      <td>0.63609</td>\n",
       "      <td>%</td>\n",
       "      <td>0.078</td>\n",
       "      <td>0.229</td>\n",
       "      <td>0.019</td>\n",
       "      <td>0</td>\n",
       "      <td>0</td>\n",
       "      <td>0</td>\n",
       "      <td>NaN</td>\n",
       "      <td>production</td>\n",
       "      <td>OP</td>\n",
       "    </tr>\n",
       "    <tr>\n",
       "      <th>15631</th>\n",
       "      <td>15-Sep-16</td>\n",
       "      <td>5769</td>\n",
       "      <td>15/9-F-5</td>\n",
       "      <td>0</td>\n",
       "      <td>NaN</td>\n",
       "      <td>NaN</td>\n",
       "      <td>NaN</td>\n",
       "      <td>0.287</td>\n",
       "      <td>0.67079</td>\n",
       "      <td>%</td>\n",
       "      <td>0.085</td>\n",
       "      <td>0.229</td>\n",
       "      <td>0.006</td>\n",
       "      <td>0</td>\n",
       "      <td>0</td>\n",
       "      <td>0</td>\n",
       "      <td>NaN</td>\n",
       "      <td>production</td>\n",
       "      <td>OP</td>\n",
       "    </tr>\n",
       "    <tr>\n",
       "      <th>15632</th>\n",
       "      <td>16-Sep-16</td>\n",
       "      <td>5769</td>\n",
       "      <td>15/9-F-5</td>\n",
       "      <td>0</td>\n",
       "      <td>NaN</td>\n",
       "      <td>NaN</td>\n",
       "      <td>NaN</td>\n",
       "      <td>0.286</td>\n",
       "      <td>0.66439</td>\n",
       "      <td>%</td>\n",
       "      <td>0.085</td>\n",
       "      <td>0.229</td>\n",
       "      <td>0.012</td>\n",
       "      <td>0</td>\n",
       "      <td>0</td>\n",
       "      <td>0</td>\n",
       "      <td>NaN</td>\n",
       "      <td>production</td>\n",
       "      <td>OP</td>\n",
       "    </tr>\n",
       "    <tr>\n",
       "      <th>15633</th>\n",
       "      <td>17-Sep-16</td>\n",
       "      <td>5769</td>\n",
       "      <td>15/9-F-5</td>\n",
       "      <td>0</td>\n",
       "      <td>NaN</td>\n",
       "      <td>NaN</td>\n",
       "      <td>NaN</td>\n",
       "      <td>0.272</td>\n",
       "      <td>0.62466</td>\n",
       "      <td>%</td>\n",
       "      <td>0.075</td>\n",
       "      <td>0.228</td>\n",
       "      <td>0.026</td>\n",
       "      <td>0</td>\n",
       "      <td>0</td>\n",
       "      <td>0</td>\n",
       "      <td>NaN</td>\n",
       "      <td>production</td>\n",
       "      <td>OP</td>\n",
       "    </tr>\n",
       "    <tr>\n",
       "      <th>15634</th>\n",
       "      <td>18-Sep-16</td>\n",
       "      <td>5769</td>\n",
       "      <td>15/9-F-5</td>\n",
       "      <td>0</td>\n",
       "      <td>NaN</td>\n",
       "      <td>NaN</td>\n",
       "      <td>NaN</td>\n",
       "      <td>NaN</td>\n",
       "      <td>NaN</td>\n",
       "      <td>NaN</td>\n",
       "      <td>NaN</td>\n",
       "      <td>NaN</td>\n",
       "      <td>0</td>\n",
       "      <td>NaN</td>\n",
       "      <td>NaN</td>\n",
       "      <td>NaN</td>\n",
       "      <td>0</td>\n",
       "      <td>injection</td>\n",
       "      <td>WI</td>\n",
       "    </tr>\n",
       "  </tbody>\n",
       "</table>\n",
       "<p>15635 rows × 19 columns</p>\n",
       "</div>"
      ],
      "text/plain": [
       "               a                   b                   c              d  \\\n",
       "0        DATEPRD  NPD_WELL_BORE_CODE  NPD_WELL_BORE_NAME  ON_STREAM_HRS   \n",
       "1      07-Apr-14                7405          15/9-F-1 C              0   \n",
       "2      08-Apr-14                7405          15/9-F-1 C              0   \n",
       "3      09-Apr-14                7405          15/9-F-1 C              0   \n",
       "4      10-Apr-14                7405          15/9-F-1 C              0   \n",
       "...          ...                 ...                 ...            ...   \n",
       "15630  14-Sep-16                5769            15/9-F-5              0   \n",
       "15631  15-Sep-16                5769            15/9-F-5              0   \n",
       "15632  16-Sep-16                5769            15/9-F-5              0   \n",
       "15633  17-Sep-16                5769            15/9-F-5              0   \n",
       "15634  18-Sep-16                5769            15/9-F-5              0   \n",
       "\n",
       "                           e                         f              g  \\\n",
       "0      AVG_DOWNHOLE_PRESSURE  AVG_DOWNHOLE_TEMPERATURE  AVG_DP_TUBING   \n",
       "1                          0                         0              0   \n",
       "2                        NaN                       NaN            NaN   \n",
       "3                        NaN                       NaN            NaN   \n",
       "4                        NaN                       NaN            NaN   \n",
       "...                      ...                       ...            ...   \n",
       "15630                    NaN                       NaN            NaN   \n",
       "15631                    NaN                       NaN            NaN   \n",
       "15632                    NaN                       NaN            NaN   \n",
       "15633                    NaN                       NaN            NaN   \n",
       "15634                    NaN                       NaN            NaN   \n",
       "\n",
       "                       h                 i              j          k  \\\n",
       "0      AVG_ANNULUS_PRESS  AVG_CHOKE_SIZE_P  AVG_CHOKE_UOM  AVG_WHP_P   \n",
       "1                      0                 0              %          0   \n",
       "2                      0           1.00306              %          0   \n",
       "3                      0           0.97901              %          0   \n",
       "4                      0           0.54576              %          0   \n",
       "...                  ...               ...            ...        ...   \n",
       "15630              0.273           0.63609              %      0.078   \n",
       "15631              0.287           0.67079              %      0.085   \n",
       "15632              0.286           0.66439              %      0.085   \n",
       "15633              0.272           0.62466              %      0.075   \n",
       "15634                NaN               NaN            NaN        NaN   \n",
       "\n",
       "               l              m             n             o             p  \\\n",
       "0      AVG_WHT_P  DP_CHOKE_SIZE  BORE_OIL_VOL  BORE_GAS_VOL  BORE_WAT_VOL   \n",
       "1              0              0             0             0             0   \n",
       "2              0              0             0             0             0   \n",
       "3              0              0             0             0             0   \n",
       "4              0              0             0             0             0   \n",
       "...          ...            ...           ...           ...           ...   \n",
       "15630      0.229          0.019             0             0             0   \n",
       "15631      0.229          0.006             0             0             0   \n",
       "15632      0.229          0.012             0             0             0   \n",
       "15633      0.228          0.026             0             0             0   \n",
       "15634        NaN              0           NaN           NaN           NaN   \n",
       "\n",
       "                 q           r          s  \n",
       "0      BORE_WI_VOL   FLOW_KIND  WELL_TYPE  \n",
       "1              NaN  production         WI  \n",
       "2              NaN  production         OP  \n",
       "3              NaN  production         OP  \n",
       "4              NaN  production         OP  \n",
       "...            ...         ...        ...  \n",
       "15630          NaN  production         OP  \n",
       "15631          NaN  production         OP  \n",
       "15632          NaN  production         OP  \n",
       "15633          NaN  production         OP  \n",
       "15634            0   injection         WI  \n",
       "\n",
       "[15635 rows x 19 columns]"
      ]
     },
     "execution_count": 19,
     "metadata": {},
     "output_type": "execute_result"
    }
   ],
   "source": [
    "# Giving your own column names\n",
    "pd.read_csv('vpd.csv', names=['a','b','c','d','e','f','g','h','i','j','k','l','m','n','o','p','q','r','s'])"
   ]
  },
  {
   "cell_type": "code",
   "execution_count": 22,
   "metadata": {},
   "outputs": [
    {
     "data": {
      "text/html": [
       "<div>\n",
       "<style scoped>\n",
       "    .dataframe tbody tr th:only-of-type {\n",
       "        vertical-align: middle;\n",
       "    }\n",
       "\n",
       "    .dataframe tbody tr th {\n",
       "        vertical-align: top;\n",
       "    }\n",
       "\n",
       "    .dataframe thead th {\n",
       "        text-align: right;\n",
       "    }\n",
       "</style>\n",
       "<table border=\"1\" class=\"dataframe\">\n",
       "  <thead>\n",
       "    <tr style=\"text-align: right;\">\n",
       "      <th></th>\n",
       "      <th>DATEPRD</th>\n",
       "      <th>NPD_WELL_BORE_CODE</th>\n",
       "      <th>NPD_WELL_BORE_NAME</th>\n",
       "      <th>ON_STREAM_HRS</th>\n",
       "      <th>AVG_DOWNHOLE_PRESSURE</th>\n",
       "      <th>AVG_DOWNHOLE_TEMPERATURE</th>\n",
       "      <th>AVG_DP_TUBING</th>\n",
       "      <th>AVG_ANNULUS_PRESS</th>\n",
       "      <th>AVG_CHOKE_SIZE_P</th>\n",
       "      <th>AVG_CHOKE_UOM</th>\n",
       "      <th>AVG_WHP_P</th>\n",
       "      <th>AVG_WHT_P</th>\n",
       "      <th>DP_CHOKE_SIZE</th>\n",
       "      <th>BORE_OIL_VOL</th>\n",
       "      <th>BORE_GAS_VOL</th>\n",
       "      <th>BORE_WAT_VOL</th>\n",
       "      <th>BORE_WI_VOL</th>\n",
       "      <th>FLOW_KIND</th>\n",
       "      <th>WELL_TYPE</th>\n",
       "    </tr>\n",
       "  </thead>\n",
       "  <tbody>\n",
       "    <tr>\n",
       "      <th>0</th>\n",
       "      <td>09-Apr-14</td>\n",
       "      <td>7405</td>\n",
       "      <td>15/9-F-1 C</td>\n",
       "      <td>0.0</td>\n",
       "      <td>NaN</td>\n",
       "      <td>NaN</td>\n",
       "      <td>NaN</td>\n",
       "      <td>0.000</td>\n",
       "      <td>0.97901</td>\n",
       "      <td>%</td>\n",
       "      <td>0.000</td>\n",
       "      <td>0.000</td>\n",
       "      <td>0.000</td>\n",
       "      <td>0.0</td>\n",
       "      <td>0.0</td>\n",
       "      <td>0.0</td>\n",
       "      <td>NaN</td>\n",
       "      <td>production</td>\n",
       "      <td>OP</td>\n",
       "    </tr>\n",
       "    <tr>\n",
       "      <th>1</th>\n",
       "      <td>10-Apr-14</td>\n",
       "      <td>7405</td>\n",
       "      <td>15/9-F-1 C</td>\n",
       "      <td>0.0</td>\n",
       "      <td>NaN</td>\n",
       "      <td>NaN</td>\n",
       "      <td>NaN</td>\n",
       "      <td>0.000</td>\n",
       "      <td>0.54576</td>\n",
       "      <td>%</td>\n",
       "      <td>0.000</td>\n",
       "      <td>0.000</td>\n",
       "      <td>0.000</td>\n",
       "      <td>0.0</td>\n",
       "      <td>0.0</td>\n",
       "      <td>0.0</td>\n",
       "      <td>NaN</td>\n",
       "      <td>production</td>\n",
       "      <td>OP</td>\n",
       "    </tr>\n",
       "    <tr>\n",
       "      <th>2</th>\n",
       "      <td>12-Apr-14</td>\n",
       "      <td>7405</td>\n",
       "      <td>15/9-F-1 C</td>\n",
       "      <td>0.0</td>\n",
       "      <td>303.501</td>\n",
       "      <td>96.923</td>\n",
       "      <td>281.447</td>\n",
       "      <td>0.000</td>\n",
       "      <td>3.08702</td>\n",
       "      <td>%</td>\n",
       "      <td>22.053</td>\n",
       "      <td>8.704</td>\n",
       "      <td>22.053</td>\n",
       "      <td>0.0</td>\n",
       "      <td>0.0</td>\n",
       "      <td>0.0</td>\n",
       "      <td>NaN</td>\n",
       "      <td>production</td>\n",
       "      <td>OP</td>\n",
       "    </tr>\n",
       "    <tr>\n",
       "      <th>3</th>\n",
       "      <td>13-Apr-14</td>\n",
       "      <td>7405</td>\n",
       "      <td>15/9-F-1 C</td>\n",
       "      <td>0.0</td>\n",
       "      <td>303.535</td>\n",
       "      <td>96.959</td>\n",
       "      <td>276.032</td>\n",
       "      <td>0.000</td>\n",
       "      <td>1.96237</td>\n",
       "      <td>%</td>\n",
       "      <td>27.503</td>\n",
       "      <td>9.423</td>\n",
       "      <td>16.163</td>\n",
       "      <td>0.0</td>\n",
       "      <td>0.0</td>\n",
       "      <td>0.0</td>\n",
       "      <td>NaN</td>\n",
       "      <td>production</td>\n",
       "      <td>OP</td>\n",
       "    </tr>\n",
       "    <tr>\n",
       "      <th>4</th>\n",
       "      <td>14-Apr-14</td>\n",
       "      <td>7405</td>\n",
       "      <td>15/9-F-1 C</td>\n",
       "      <td>0.0</td>\n",
       "      <td>303.782</td>\n",
       "      <td>96.969</td>\n",
       "      <td>282.787</td>\n",
       "      <td>0.000</td>\n",
       "      <td>0.00000</td>\n",
       "      <td>%</td>\n",
       "      <td>20.996</td>\n",
       "      <td>8.131</td>\n",
       "      <td>20.737</td>\n",
       "      <td>0.0</td>\n",
       "      <td>0.0</td>\n",
       "      <td>0.0</td>\n",
       "      <td>NaN</td>\n",
       "      <td>production</td>\n",
       "      <td>OP</td>\n",
       "    </tr>\n",
       "    <tr>\n",
       "      <th>...</th>\n",
       "      <td>...</td>\n",
       "      <td>...</td>\n",
       "      <td>...</td>\n",
       "      <td>...</td>\n",
       "      <td>...</td>\n",
       "      <td>...</td>\n",
       "      <td>...</td>\n",
       "      <td>...</td>\n",
       "      <td>...</td>\n",
       "      <td>...</td>\n",
       "      <td>...</td>\n",
       "      <td>...</td>\n",
       "      <td>...</td>\n",
       "      <td>...</td>\n",
       "      <td>...</td>\n",
       "      <td>...</td>\n",
       "      <td>...</td>\n",
       "      <td>...</td>\n",
       "      <td>...</td>\n",
       "    </tr>\n",
       "    <tr>\n",
       "      <th>15625</th>\n",
       "      <td>14-Sep-16</td>\n",
       "      <td>5769</td>\n",
       "      <td>15/9-F-5</td>\n",
       "      <td>0.0</td>\n",
       "      <td>NaN</td>\n",
       "      <td>NaN</td>\n",
       "      <td>NaN</td>\n",
       "      <td>0.273</td>\n",
       "      <td>0.63609</td>\n",
       "      <td>%</td>\n",
       "      <td>0.078</td>\n",
       "      <td>0.229</td>\n",
       "      <td>0.019</td>\n",
       "      <td>0.0</td>\n",
       "      <td>0.0</td>\n",
       "      <td>0.0</td>\n",
       "      <td>NaN</td>\n",
       "      <td>production</td>\n",
       "      <td>OP</td>\n",
       "    </tr>\n",
       "    <tr>\n",
       "      <th>15626</th>\n",
       "      <td>15-Sep-16</td>\n",
       "      <td>5769</td>\n",
       "      <td>15/9-F-5</td>\n",
       "      <td>0.0</td>\n",
       "      <td>NaN</td>\n",
       "      <td>NaN</td>\n",
       "      <td>NaN</td>\n",
       "      <td>0.287</td>\n",
       "      <td>0.67079</td>\n",
       "      <td>%</td>\n",
       "      <td>0.085</td>\n",
       "      <td>0.229</td>\n",
       "      <td>0.006</td>\n",
       "      <td>0.0</td>\n",
       "      <td>0.0</td>\n",
       "      <td>0.0</td>\n",
       "      <td>NaN</td>\n",
       "      <td>production</td>\n",
       "      <td>OP</td>\n",
       "    </tr>\n",
       "    <tr>\n",
       "      <th>15627</th>\n",
       "      <td>16-Sep-16</td>\n",
       "      <td>5769</td>\n",
       "      <td>15/9-F-5</td>\n",
       "      <td>0.0</td>\n",
       "      <td>NaN</td>\n",
       "      <td>NaN</td>\n",
       "      <td>NaN</td>\n",
       "      <td>0.286</td>\n",
       "      <td>0.66439</td>\n",
       "      <td>%</td>\n",
       "      <td>0.085</td>\n",
       "      <td>0.229</td>\n",
       "      <td>0.012</td>\n",
       "      <td>0.0</td>\n",
       "      <td>0.0</td>\n",
       "      <td>0.0</td>\n",
       "      <td>NaN</td>\n",
       "      <td>production</td>\n",
       "      <td>OP</td>\n",
       "    </tr>\n",
       "    <tr>\n",
       "      <th>15628</th>\n",
       "      <td>17-Sep-16</td>\n",
       "      <td>5769</td>\n",
       "      <td>15/9-F-5</td>\n",
       "      <td>0.0</td>\n",
       "      <td>NaN</td>\n",
       "      <td>NaN</td>\n",
       "      <td>NaN</td>\n",
       "      <td>0.272</td>\n",
       "      <td>0.62466</td>\n",
       "      <td>%</td>\n",
       "      <td>0.075</td>\n",
       "      <td>0.228</td>\n",
       "      <td>0.026</td>\n",
       "      <td>0.0</td>\n",
       "      <td>0.0</td>\n",
       "      <td>0.0</td>\n",
       "      <td>NaN</td>\n",
       "      <td>production</td>\n",
       "      <td>OP</td>\n",
       "    </tr>\n",
       "    <tr>\n",
       "      <th>15629</th>\n",
       "      <td>18-Sep-16</td>\n",
       "      <td>5769</td>\n",
       "      <td>15/9-F-5</td>\n",
       "      <td>0.0</td>\n",
       "      <td>NaN</td>\n",
       "      <td>NaN</td>\n",
       "      <td>NaN</td>\n",
       "      <td>NaN</td>\n",
       "      <td>NaN</td>\n",
       "      <td>NaN</td>\n",
       "      <td>NaN</td>\n",
       "      <td>NaN</td>\n",
       "      <td>0.000</td>\n",
       "      <td>NaN</td>\n",
       "      <td>NaN</td>\n",
       "      <td>NaN</td>\n",
       "      <td>0.0</td>\n",
       "      <td>injection</td>\n",
       "      <td>WI</td>\n",
       "    </tr>\n",
       "  </tbody>\n",
       "</table>\n",
       "<p>15630 rows × 19 columns</p>\n",
       "</div>"
      ],
      "text/plain": [
       "         DATEPRD  NPD_WELL_BORE_CODE NPD_WELL_BORE_NAME  ON_STREAM_HRS  \\\n",
       "0      09-Apr-14                7405         15/9-F-1 C            0.0   \n",
       "1      10-Apr-14                7405         15/9-F-1 C            0.0   \n",
       "2      12-Apr-14                7405         15/9-F-1 C            0.0   \n",
       "3      13-Apr-14                7405         15/9-F-1 C            0.0   \n",
       "4      14-Apr-14                7405         15/9-F-1 C            0.0   \n",
       "...          ...                 ...                ...            ...   \n",
       "15625  14-Sep-16                5769           15/9-F-5            0.0   \n",
       "15626  15-Sep-16                5769           15/9-F-5            0.0   \n",
       "15627  16-Sep-16                5769           15/9-F-5            0.0   \n",
       "15628  17-Sep-16                5769           15/9-F-5            0.0   \n",
       "15629  18-Sep-16                5769           15/9-F-5            0.0   \n",
       "\n",
       "       AVG_DOWNHOLE_PRESSURE  AVG_DOWNHOLE_TEMPERATURE  AVG_DP_TUBING  \\\n",
       "0                        NaN                       NaN            NaN   \n",
       "1                        NaN                       NaN            NaN   \n",
       "2                    303.501                    96.923        281.447   \n",
       "3                    303.535                    96.959        276.032   \n",
       "4                    303.782                    96.969        282.787   \n",
       "...                      ...                       ...            ...   \n",
       "15625                    NaN                       NaN            NaN   \n",
       "15626                    NaN                       NaN            NaN   \n",
       "15627                    NaN                       NaN            NaN   \n",
       "15628                    NaN                       NaN            NaN   \n",
       "15629                    NaN                       NaN            NaN   \n",
       "\n",
       "       AVG_ANNULUS_PRESS  AVG_CHOKE_SIZE_P AVG_CHOKE_UOM  AVG_WHP_P  \\\n",
       "0                  0.000           0.97901             %      0.000   \n",
       "1                  0.000           0.54576             %      0.000   \n",
       "2                  0.000           3.08702             %     22.053   \n",
       "3                  0.000           1.96237             %     27.503   \n",
       "4                  0.000           0.00000             %     20.996   \n",
       "...                  ...               ...           ...        ...   \n",
       "15625              0.273           0.63609             %      0.078   \n",
       "15626              0.287           0.67079             %      0.085   \n",
       "15627              0.286           0.66439             %      0.085   \n",
       "15628              0.272           0.62466             %      0.075   \n",
       "15629                NaN               NaN           NaN        NaN   \n",
       "\n",
       "       AVG_WHT_P  DP_CHOKE_SIZE  BORE_OIL_VOL  BORE_GAS_VOL  BORE_WAT_VOL  \\\n",
       "0          0.000          0.000           0.0           0.0           0.0   \n",
       "1          0.000          0.000           0.0           0.0           0.0   \n",
       "2          8.704         22.053           0.0           0.0           0.0   \n",
       "3          9.423         16.163           0.0           0.0           0.0   \n",
       "4          8.131         20.737           0.0           0.0           0.0   \n",
       "...          ...            ...           ...           ...           ...   \n",
       "15625      0.229          0.019           0.0           0.0           0.0   \n",
       "15626      0.229          0.006           0.0           0.0           0.0   \n",
       "15627      0.229          0.012           0.0           0.0           0.0   \n",
       "15628      0.228          0.026           0.0           0.0           0.0   \n",
       "15629        NaN          0.000           NaN           NaN           NaN   \n",
       "\n",
       "       BORE_WI_VOL   FLOW_KIND WELL_TYPE  \n",
       "0              NaN  production        OP  \n",
       "1              NaN  production        OP  \n",
       "2              NaN  production        OP  \n",
       "3              NaN  production        OP  \n",
       "4              NaN  production        OP  \n",
       "...            ...         ...       ...  \n",
       "15625          NaN  production        OP  \n",
       "15626          NaN  production        OP  \n",
       "15627          NaN  production        OP  \n",
       "15628          NaN  production        OP  \n",
       "15629          0.0   injection        WI  \n",
       "\n",
       "[15630 rows x 19 columns]"
      ]
     },
     "execution_count": 22,
     "metadata": {},
     "output_type": "execute_result"
    }
   ],
   "source": [
    "# Skipping rows\n",
    "pd.read_csv('vpd.csv',skiprows=[1,2,34,5])"
   ]
  },
  {
   "cell_type": "code",
   "execution_count": 33,
   "metadata": {},
   "outputs": [
    {
     "data": {
      "text/html": [
       "<div>\n",
       "<style scoped>\n",
       "    .dataframe tbody tr th:only-of-type {\n",
       "        vertical-align: middle;\n",
       "    }\n",
       "\n",
       "    .dataframe tbody tr th {\n",
       "        vertical-align: top;\n",
       "    }\n",
       "\n",
       "    .dataframe thead th {\n",
       "        text-align: right;\n",
       "    }\n",
       "</style>\n",
       "<table border=\"1\" class=\"dataframe\">\n",
       "  <thead>\n",
       "    <tr style=\"text-align: right;\">\n",
       "      <th></th>\n",
       "      <th>DATEPRD</th>\n",
       "      <th>NPD_WELL_BORE_CODE</th>\n",
       "      <th>NPD_WELL_BORE_NAME</th>\n",
       "      <th>ON_STREAM_HRS</th>\n",
       "      <th>AVG_DOWNHOLE_PRESSURE</th>\n",
       "      <th>AVG_DOWNHOLE_TEMPERATURE</th>\n",
       "      <th>AVG_DP_TUBING</th>\n",
       "      <th>AVG_ANNULUS_PRESS</th>\n",
       "      <th>AVG_CHOKE_SIZE_P</th>\n",
       "      <th>AVG_CHOKE_UOM</th>\n",
       "      <th>AVG_WHP_P</th>\n",
       "      <th>AVG_WHT_P</th>\n",
       "      <th>DP_CHOKE_SIZE</th>\n",
       "      <th>BORE_OIL_VOL</th>\n",
       "      <th>BORE_GAS_VOL</th>\n",
       "      <th>BORE_WAT_VOL</th>\n",
       "      <th>BORE_WI_VOL</th>\n",
       "      <th>FLOW_KIND</th>\n",
       "      <th>WELL_TYPE</th>\n",
       "    </tr>\n",
       "  </thead>\n",
       "  <tbody>\n",
       "    <tr>\n",
       "      <th>0</th>\n",
       "      <td>2014-04-07</td>\n",
       "      <td>7405</td>\n",
       "      <td>15/9-F-1 C</td>\n",
       "      <td>0.0</td>\n",
       "      <td>0.000</td>\n",
       "      <td>0.000</td>\n",
       "      <td>0.000</td>\n",
       "      <td>0.000</td>\n",
       "      <td>0.00000</td>\n",
       "      <td>%</td>\n",
       "      <td>0.000</td>\n",
       "      <td>0.000</td>\n",
       "      <td>0.000</td>\n",
       "      <td>0.0</td>\n",
       "      <td>0.0</td>\n",
       "      <td>0.0</td>\n",
       "      <td>NaN</td>\n",
       "      <td>production</td>\n",
       "      <td>WI</td>\n",
       "    </tr>\n",
       "    <tr>\n",
       "      <th>1</th>\n",
       "      <td>2014-04-08</td>\n",
       "      <td>7405</td>\n",
       "      <td>15/9-F-1 C</td>\n",
       "      <td>0.0</td>\n",
       "      <td>NaN</td>\n",
       "      <td>NaN</td>\n",
       "      <td>NaN</td>\n",
       "      <td>0.000</td>\n",
       "      <td>1.00306</td>\n",
       "      <td>%</td>\n",
       "      <td>0.000</td>\n",
       "      <td>0.000</td>\n",
       "      <td>0.000</td>\n",
       "      <td>0.0</td>\n",
       "      <td>0.0</td>\n",
       "      <td>0.0</td>\n",
       "      <td>NaN</td>\n",
       "      <td>production</td>\n",
       "      <td>OP</td>\n",
       "    </tr>\n",
       "    <tr>\n",
       "      <th>2</th>\n",
       "      <td>2014-04-09</td>\n",
       "      <td>7405</td>\n",
       "      <td>15/9-F-1 C</td>\n",
       "      <td>0.0</td>\n",
       "      <td>NaN</td>\n",
       "      <td>NaN</td>\n",
       "      <td>NaN</td>\n",
       "      <td>0.000</td>\n",
       "      <td>0.97901</td>\n",
       "      <td>%</td>\n",
       "      <td>0.000</td>\n",
       "      <td>0.000</td>\n",
       "      <td>0.000</td>\n",
       "      <td>0.0</td>\n",
       "      <td>0.0</td>\n",
       "      <td>0.0</td>\n",
       "      <td>NaN</td>\n",
       "      <td>production</td>\n",
       "      <td>OP</td>\n",
       "    </tr>\n",
       "    <tr>\n",
       "      <th>3</th>\n",
       "      <td>2014-04-10</td>\n",
       "      <td>7405</td>\n",
       "      <td>15/9-F-1 C</td>\n",
       "      <td>0.0</td>\n",
       "      <td>NaN</td>\n",
       "      <td>NaN</td>\n",
       "      <td>NaN</td>\n",
       "      <td>0.000</td>\n",
       "      <td>0.54576</td>\n",
       "      <td>%</td>\n",
       "      <td>0.000</td>\n",
       "      <td>0.000</td>\n",
       "      <td>0.000</td>\n",
       "      <td>0.0</td>\n",
       "      <td>0.0</td>\n",
       "      <td>0.0</td>\n",
       "      <td>NaN</td>\n",
       "      <td>production</td>\n",
       "      <td>OP</td>\n",
       "    </tr>\n",
       "    <tr>\n",
       "      <th>4</th>\n",
       "      <td>2014-04-11</td>\n",
       "      <td>7405</td>\n",
       "      <td>15/9-F-1 C</td>\n",
       "      <td>0.0</td>\n",
       "      <td>310.376</td>\n",
       "      <td>96.876</td>\n",
       "      <td>277.278</td>\n",
       "      <td>0.000</td>\n",
       "      <td>1.21599</td>\n",
       "      <td>%</td>\n",
       "      <td>33.098</td>\n",
       "      <td>10.480</td>\n",
       "      <td>33.072</td>\n",
       "      <td>0.0</td>\n",
       "      <td>0.0</td>\n",
       "      <td>0.0</td>\n",
       "      <td>NaN</td>\n",
       "      <td>production</td>\n",
       "      <td>OP</td>\n",
       "    </tr>\n",
       "    <tr>\n",
       "      <th>...</th>\n",
       "      <td>...</td>\n",
       "      <td>...</td>\n",
       "      <td>...</td>\n",
       "      <td>...</td>\n",
       "      <td>...</td>\n",
       "      <td>...</td>\n",
       "      <td>...</td>\n",
       "      <td>...</td>\n",
       "      <td>...</td>\n",
       "      <td>...</td>\n",
       "      <td>...</td>\n",
       "      <td>...</td>\n",
       "      <td>...</td>\n",
       "      <td>...</td>\n",
       "      <td>...</td>\n",
       "      <td>...</td>\n",
       "      <td>...</td>\n",
       "      <td>...</td>\n",
       "      <td>...</td>\n",
       "    </tr>\n",
       "    <tr>\n",
       "      <th>15629</th>\n",
       "      <td>2016-09-14</td>\n",
       "      <td>5769</td>\n",
       "      <td>15/9-F-5</td>\n",
       "      <td>0.0</td>\n",
       "      <td>NaN</td>\n",
       "      <td>NaN</td>\n",
       "      <td>NaN</td>\n",
       "      <td>0.273</td>\n",
       "      <td>0.63609</td>\n",
       "      <td>%</td>\n",
       "      <td>0.078</td>\n",
       "      <td>0.229</td>\n",
       "      <td>0.019</td>\n",
       "      <td>0.0</td>\n",
       "      <td>0.0</td>\n",
       "      <td>0.0</td>\n",
       "      <td>NaN</td>\n",
       "      <td>production</td>\n",
       "      <td>OP</td>\n",
       "    </tr>\n",
       "    <tr>\n",
       "      <th>15630</th>\n",
       "      <td>2016-09-15</td>\n",
       "      <td>5769</td>\n",
       "      <td>15/9-F-5</td>\n",
       "      <td>0.0</td>\n",
       "      <td>NaN</td>\n",
       "      <td>NaN</td>\n",
       "      <td>NaN</td>\n",
       "      <td>0.287</td>\n",
       "      <td>0.67079</td>\n",
       "      <td>%</td>\n",
       "      <td>0.085</td>\n",
       "      <td>0.229</td>\n",
       "      <td>0.006</td>\n",
       "      <td>0.0</td>\n",
       "      <td>0.0</td>\n",
       "      <td>0.0</td>\n",
       "      <td>NaN</td>\n",
       "      <td>production</td>\n",
       "      <td>OP</td>\n",
       "    </tr>\n",
       "    <tr>\n",
       "      <th>15631</th>\n",
       "      <td>2016-09-16</td>\n",
       "      <td>5769</td>\n",
       "      <td>15/9-F-5</td>\n",
       "      <td>0.0</td>\n",
       "      <td>NaN</td>\n",
       "      <td>NaN</td>\n",
       "      <td>NaN</td>\n",
       "      <td>0.286</td>\n",
       "      <td>0.66439</td>\n",
       "      <td>%</td>\n",
       "      <td>0.085</td>\n",
       "      <td>0.229</td>\n",
       "      <td>0.012</td>\n",
       "      <td>0.0</td>\n",
       "      <td>0.0</td>\n",
       "      <td>0.0</td>\n",
       "      <td>NaN</td>\n",
       "      <td>production</td>\n",
       "      <td>OP</td>\n",
       "    </tr>\n",
       "    <tr>\n",
       "      <th>15632</th>\n",
       "      <td>2016-09-17</td>\n",
       "      <td>5769</td>\n",
       "      <td>15/9-F-5</td>\n",
       "      <td>0.0</td>\n",
       "      <td>NaN</td>\n",
       "      <td>NaN</td>\n",
       "      <td>NaN</td>\n",
       "      <td>0.272</td>\n",
       "      <td>0.62466</td>\n",
       "      <td>%</td>\n",
       "      <td>0.075</td>\n",
       "      <td>0.228</td>\n",
       "      <td>0.026</td>\n",
       "      <td>0.0</td>\n",
       "      <td>0.0</td>\n",
       "      <td>0.0</td>\n",
       "      <td>NaN</td>\n",
       "      <td>production</td>\n",
       "      <td>OP</td>\n",
       "    </tr>\n",
       "    <tr>\n",
       "      <th>15633</th>\n",
       "      <td>2016-09-18</td>\n",
       "      <td>5769</td>\n",
       "      <td>15/9-F-5</td>\n",
       "      <td>0.0</td>\n",
       "      <td>NaN</td>\n",
       "      <td>NaN</td>\n",
       "      <td>NaN</td>\n",
       "      <td>NaN</td>\n",
       "      <td>NaN</td>\n",
       "      <td>NaN</td>\n",
       "      <td>NaN</td>\n",
       "      <td>NaN</td>\n",
       "      <td>0.000</td>\n",
       "      <td>NaN</td>\n",
       "      <td>NaN</td>\n",
       "      <td>NaN</td>\n",
       "      <td>0.0</td>\n",
       "      <td>injection</td>\n",
       "      <td>WI</td>\n",
       "    </tr>\n",
       "  </tbody>\n",
       "</table>\n",
       "<p>15634 rows × 19 columns</p>\n",
       "</div>"
      ],
      "text/plain": [
       "         DATEPRD  NPD_WELL_BORE_CODE NPD_WELL_BORE_NAME  ON_STREAM_HRS  \\\n",
       "0     2014-04-07                7405         15/9-F-1 C            0.0   \n",
       "1     2014-04-08                7405         15/9-F-1 C            0.0   \n",
       "2     2014-04-09                7405         15/9-F-1 C            0.0   \n",
       "3     2014-04-10                7405         15/9-F-1 C            0.0   \n",
       "4     2014-04-11                7405         15/9-F-1 C            0.0   \n",
       "...          ...                 ...                ...            ...   \n",
       "15629 2016-09-14                5769           15/9-F-5            0.0   \n",
       "15630 2016-09-15                5769           15/9-F-5            0.0   \n",
       "15631 2016-09-16                5769           15/9-F-5            0.0   \n",
       "15632 2016-09-17                5769           15/9-F-5            0.0   \n",
       "15633 2016-09-18                5769           15/9-F-5            0.0   \n",
       "\n",
       "       AVG_DOWNHOLE_PRESSURE  AVG_DOWNHOLE_TEMPERATURE  AVG_DP_TUBING  \\\n",
       "0                      0.000                     0.000          0.000   \n",
       "1                        NaN                       NaN            NaN   \n",
       "2                        NaN                       NaN            NaN   \n",
       "3                        NaN                       NaN            NaN   \n",
       "4                    310.376                    96.876        277.278   \n",
       "...                      ...                       ...            ...   \n",
       "15629                    NaN                       NaN            NaN   \n",
       "15630                    NaN                       NaN            NaN   \n",
       "15631                    NaN                       NaN            NaN   \n",
       "15632                    NaN                       NaN            NaN   \n",
       "15633                    NaN                       NaN            NaN   \n",
       "\n",
       "       AVG_ANNULUS_PRESS  AVG_CHOKE_SIZE_P AVG_CHOKE_UOM  AVG_WHP_P  \\\n",
       "0                  0.000           0.00000             %      0.000   \n",
       "1                  0.000           1.00306             %      0.000   \n",
       "2                  0.000           0.97901             %      0.000   \n",
       "3                  0.000           0.54576             %      0.000   \n",
       "4                  0.000           1.21599             %     33.098   \n",
       "...                  ...               ...           ...        ...   \n",
       "15629              0.273           0.63609             %      0.078   \n",
       "15630              0.287           0.67079             %      0.085   \n",
       "15631              0.286           0.66439             %      0.085   \n",
       "15632              0.272           0.62466             %      0.075   \n",
       "15633                NaN               NaN           NaN        NaN   \n",
       "\n",
       "       AVG_WHT_P  DP_CHOKE_SIZE  BORE_OIL_VOL  BORE_GAS_VOL  BORE_WAT_VOL  \\\n",
       "0          0.000          0.000           0.0           0.0           0.0   \n",
       "1          0.000          0.000           0.0           0.0           0.0   \n",
       "2          0.000          0.000           0.0           0.0           0.0   \n",
       "3          0.000          0.000           0.0           0.0           0.0   \n",
       "4         10.480         33.072           0.0           0.0           0.0   \n",
       "...          ...            ...           ...           ...           ...   \n",
       "15629      0.229          0.019           0.0           0.0           0.0   \n",
       "15630      0.229          0.006           0.0           0.0           0.0   \n",
       "15631      0.229          0.012           0.0           0.0           0.0   \n",
       "15632      0.228          0.026           0.0           0.0           0.0   \n",
       "15633        NaN          0.000           NaN           NaN           NaN   \n",
       "\n",
       "       BORE_WI_VOL   FLOW_KIND WELL_TYPE  \n",
       "0              NaN  production        WI  \n",
       "1              NaN  production        OP  \n",
       "2              NaN  production        OP  \n",
       "3              NaN  production        OP  \n",
       "4              NaN  production        OP  \n",
       "...            ...         ...       ...  \n",
       "15629          NaN  production        OP  \n",
       "15630          NaN  production        OP  \n",
       "15631          NaN  production        OP  \n",
       "15632          NaN  production        OP  \n",
       "15633          0.0   injection        WI  \n",
       "\n",
       "[15634 rows x 19 columns]"
      ]
     },
     "execution_count": 33,
     "metadata": {},
     "output_type": "execute_result"
    }
   ],
   "source": [
    "pd.read_csv('vpd.csv',parse_dates=[0])"
   ]
  },
  {
   "cell_type": "code",
   "execution_count": 34,
   "metadata": {},
   "outputs": [
    {
     "ename": "FileNotFoundError",
     "evalue": "[Errno 2] No such file or directory: 'vpd.xlsx'",
     "output_type": "error",
     "traceback": [
      "\u001b[1;31m---------------------------------------------------------------------------\u001b[0m",
      "\u001b[1;31mFileNotFoundError\u001b[0m                         Traceback (most recent call last)",
      "\u001b[1;32m<ipython-input-34-c1872a0fc485>\u001b[0m in \u001b[0;36m<module>\u001b[1;34m\u001b[0m\n\u001b[1;32m----> 1\u001b[1;33m \u001b[0mpd\u001b[0m\u001b[1;33m.\u001b[0m\u001b[0mread_excel\u001b[0m\u001b[1;33m(\u001b[0m\u001b[1;34m'vpd.xlsx'\u001b[0m\u001b[1;33m)\u001b[0m\u001b[1;33m\u001b[0m\u001b[1;33m\u001b[0m\u001b[0m\n\u001b[0m",
      "\u001b[1;32m~\\Anaconda3\\lib\\site-packages\\pandas\\util\\_decorators.py\u001b[0m in \u001b[0;36mwrapper\u001b[1;34m(*args, **kwargs)\u001b[0m\n\u001b[0;32m    297\u001b[0m                 )\n\u001b[0;32m    298\u001b[0m                 \u001b[0mwarnings\u001b[0m\u001b[1;33m.\u001b[0m\u001b[0mwarn\u001b[0m\u001b[1;33m(\u001b[0m\u001b[0mmsg\u001b[0m\u001b[1;33m,\u001b[0m \u001b[0mFutureWarning\u001b[0m\u001b[1;33m,\u001b[0m \u001b[0mstacklevel\u001b[0m\u001b[1;33m=\u001b[0m\u001b[0mstacklevel\u001b[0m\u001b[1;33m)\u001b[0m\u001b[1;33m\u001b[0m\u001b[1;33m\u001b[0m\u001b[0m\n\u001b[1;32m--> 299\u001b[1;33m             \u001b[1;32mreturn\u001b[0m \u001b[0mfunc\u001b[0m\u001b[1;33m(\u001b[0m\u001b[1;33m*\u001b[0m\u001b[0margs\u001b[0m\u001b[1;33m,\u001b[0m \u001b[1;33m**\u001b[0m\u001b[0mkwargs\u001b[0m\u001b[1;33m)\u001b[0m\u001b[1;33m\u001b[0m\u001b[1;33m\u001b[0m\u001b[0m\n\u001b[0m\u001b[0;32m    300\u001b[0m \u001b[1;33m\u001b[0m\u001b[0m\n\u001b[0;32m    301\u001b[0m         \u001b[1;32mreturn\u001b[0m \u001b[0mwrapper\u001b[0m\u001b[1;33m\u001b[0m\u001b[1;33m\u001b[0m\u001b[0m\n",
      "\u001b[1;32m~\\Anaconda3\\lib\\site-packages\\pandas\\io\\excel\\_base.py\u001b[0m in \u001b[0;36mread_excel\u001b[1;34m(io, sheet_name, header, names, index_col, usecols, squeeze, dtype, engine, converters, true_values, false_values, skiprows, nrows, na_values, keep_default_na, na_filter, verbose, parse_dates, date_parser, thousands, comment, skipfooter, convert_float, mangle_dupe_cols, storage_options)\u001b[0m\n\u001b[0;32m    334\u001b[0m     \u001b[1;32mif\u001b[0m \u001b[1;32mnot\u001b[0m \u001b[0misinstance\u001b[0m\u001b[1;33m(\u001b[0m\u001b[0mio\u001b[0m\u001b[1;33m,\u001b[0m \u001b[0mExcelFile\u001b[0m\u001b[1;33m)\u001b[0m\u001b[1;33m:\u001b[0m\u001b[1;33m\u001b[0m\u001b[1;33m\u001b[0m\u001b[0m\n\u001b[0;32m    335\u001b[0m         \u001b[0mshould_close\u001b[0m \u001b[1;33m=\u001b[0m \u001b[1;32mTrue\u001b[0m\u001b[1;33m\u001b[0m\u001b[1;33m\u001b[0m\u001b[0m\n\u001b[1;32m--> 336\u001b[1;33m         \u001b[0mio\u001b[0m \u001b[1;33m=\u001b[0m \u001b[0mExcelFile\u001b[0m\u001b[1;33m(\u001b[0m\u001b[0mio\u001b[0m\u001b[1;33m,\u001b[0m \u001b[0mstorage_options\u001b[0m\u001b[1;33m=\u001b[0m\u001b[0mstorage_options\u001b[0m\u001b[1;33m,\u001b[0m \u001b[0mengine\u001b[0m\u001b[1;33m=\u001b[0m\u001b[0mengine\u001b[0m\u001b[1;33m)\u001b[0m\u001b[1;33m\u001b[0m\u001b[1;33m\u001b[0m\u001b[0m\n\u001b[0m\u001b[0;32m    337\u001b[0m     \u001b[1;32melif\u001b[0m \u001b[0mengine\u001b[0m \u001b[1;32mand\u001b[0m \u001b[0mengine\u001b[0m \u001b[1;33m!=\u001b[0m \u001b[0mio\u001b[0m\u001b[1;33m.\u001b[0m\u001b[0mengine\u001b[0m\u001b[1;33m:\u001b[0m\u001b[1;33m\u001b[0m\u001b[1;33m\u001b[0m\u001b[0m\n\u001b[0;32m    338\u001b[0m         raise ValueError(\n",
      "\u001b[1;32m~\\Anaconda3\\lib\\site-packages\\pandas\\io\\excel\\_base.py\u001b[0m in \u001b[0;36m__init__\u001b[1;34m(self, path_or_buffer, engine, storage_options)\u001b[0m\n\u001b[0;32m   1060\u001b[0m         \u001b[1;32melse\u001b[0m\u001b[1;33m:\u001b[0m\u001b[1;33m\u001b[0m\u001b[1;33m\u001b[0m\u001b[0m\n\u001b[0;32m   1061\u001b[0m             \u001b[1;31m# path_or_buffer is path-like, use stringified path\u001b[0m\u001b[1;33m\u001b[0m\u001b[1;33m\u001b[0m\u001b[1;33m\u001b[0m\u001b[0m\n\u001b[1;32m-> 1062\u001b[1;33m             ext = inspect_excel_format(\n\u001b[0m\u001b[0;32m   1063\u001b[0m                 \u001b[0mpath\u001b[0m\u001b[1;33m=\u001b[0m\u001b[0mstr\u001b[0m\u001b[1;33m(\u001b[0m\u001b[0mself\u001b[0m\u001b[1;33m.\u001b[0m\u001b[0m_io\u001b[0m\u001b[1;33m)\u001b[0m\u001b[1;33m,\u001b[0m \u001b[0mstorage_options\u001b[0m\u001b[1;33m=\u001b[0m\u001b[0mstorage_options\u001b[0m\u001b[1;33m\u001b[0m\u001b[1;33m\u001b[0m\u001b[0m\n\u001b[0;32m   1064\u001b[0m             )\n",
      "\u001b[1;32m~\\Anaconda3\\lib\\site-packages\\pandas\\io\\excel\\_base.py\u001b[0m in \u001b[0;36minspect_excel_format\u001b[1;34m(path, content, storage_options)\u001b[0m\n\u001b[0;32m    936\u001b[0m     \u001b[1;32massert\u001b[0m \u001b[0mcontent_or_path\u001b[0m \u001b[1;32mis\u001b[0m \u001b[1;32mnot\u001b[0m \u001b[1;32mNone\u001b[0m\u001b[1;33m\u001b[0m\u001b[1;33m\u001b[0m\u001b[0m\n\u001b[0;32m    937\u001b[0m \u001b[1;33m\u001b[0m\u001b[0m\n\u001b[1;32m--> 938\u001b[1;33m     with get_handle(\n\u001b[0m\u001b[0;32m    939\u001b[0m         \u001b[0mcontent_or_path\u001b[0m\u001b[1;33m,\u001b[0m \u001b[1;34m\"rb\"\u001b[0m\u001b[1;33m,\u001b[0m \u001b[0mstorage_options\u001b[0m\u001b[1;33m=\u001b[0m\u001b[0mstorage_options\u001b[0m\u001b[1;33m,\u001b[0m \u001b[0mis_text\u001b[0m\u001b[1;33m=\u001b[0m\u001b[1;32mFalse\u001b[0m\u001b[1;33m\u001b[0m\u001b[1;33m\u001b[0m\u001b[0m\n\u001b[0;32m    940\u001b[0m     ) as handle:\n",
      "\u001b[1;32m~\\Anaconda3\\lib\\site-packages\\pandas\\io\\common.py\u001b[0m in \u001b[0;36mget_handle\u001b[1;34m(path_or_buf, mode, encoding, compression, memory_map, is_text, errors, storage_options)\u001b[0m\n\u001b[0;32m    646\u001b[0m         \u001b[1;32melse\u001b[0m\u001b[1;33m:\u001b[0m\u001b[1;33m\u001b[0m\u001b[1;33m\u001b[0m\u001b[0m\n\u001b[0;32m    647\u001b[0m             \u001b[1;31m# Binary mode\u001b[0m\u001b[1;33m\u001b[0m\u001b[1;33m\u001b[0m\u001b[1;33m\u001b[0m\u001b[0m\n\u001b[1;32m--> 648\u001b[1;33m             \u001b[0mhandle\u001b[0m \u001b[1;33m=\u001b[0m \u001b[0mopen\u001b[0m\u001b[1;33m(\u001b[0m\u001b[0mhandle\u001b[0m\u001b[1;33m,\u001b[0m \u001b[0mioargs\u001b[0m\u001b[1;33m.\u001b[0m\u001b[0mmode\u001b[0m\u001b[1;33m)\u001b[0m\u001b[1;33m\u001b[0m\u001b[1;33m\u001b[0m\u001b[0m\n\u001b[0m\u001b[0;32m    649\u001b[0m         \u001b[0mhandles\u001b[0m\u001b[1;33m.\u001b[0m\u001b[0mappend\u001b[0m\u001b[1;33m(\u001b[0m\u001b[0mhandle\u001b[0m\u001b[1;33m)\u001b[0m\u001b[1;33m\u001b[0m\u001b[1;33m\u001b[0m\u001b[0m\n\u001b[0;32m    650\u001b[0m \u001b[1;33m\u001b[0m\u001b[0m\n",
      "\u001b[1;31mFileNotFoundError\u001b[0m: [Errno 2] No such file or directory: 'vpd.xlsx'"
     ]
    }
   ],
   "source": [
    "pd.read_excel('vpd.xlsx')"
   ]
  },
  {
   "cell_type": "code",
   "execution_count": 61,
   "metadata": {},
   "outputs": [
    {
     "data": {
      "text/html": [
       "<div>\n",
       "<style scoped>\n",
       "    .dataframe tbody tr th:only-of-type {\n",
       "        vertical-align: middle;\n",
       "    }\n",
       "\n",
       "    .dataframe tbody tr th {\n",
       "        vertical-align: top;\n",
       "    }\n",
       "\n",
       "    .dataframe thead th {\n",
       "        text-align: right;\n",
       "    }\n",
       "</style>\n",
       "<table border=\"1\" class=\"dataframe\">\n",
       "  <thead>\n",
       "    <tr style=\"text-align: right;\">\n",
       "      <th></th>\n",
       "      <th>id;name;email;amount;date;sent</th>\n",
       "    </tr>\n",
       "  </thead>\n",
       "  <tbody>\n",
       "    <tr>\n",
       "      <th>0</th>\n",
       "      <td>1;Hopper;email-address;269;03 Sep at 21:14;False</td>\n",
       "    </tr>\n",
       "    <tr>\n",
       "      <th>1</th>\n",
       "      <td>2;Drake;email-address;690;03 Sep at 21:14;False</td>\n",
       "    </tr>\n",
       "    <tr>\n",
       "      <th>2</th>\n",
       "      <td>3;Adam;email-address;20;03 Sep at 21:14;False</td>\n",
       "    </tr>\n",
       "    <tr>\n",
       "      <th>3</th>\n",
       "      <td>4;Justin;email-addres;199;03 Sep at 21:14;False</td>\n",
       "    </tr>\n",
       "  </tbody>\n",
       "</table>\n",
       "</div>"
      ],
      "text/plain": [
       "                     id;name;email;amount;date;sent\n",
       "0  1;Hopper;email-address;269;03 Sep at 21:14;False\n",
       "1   2;Drake;email-address;690;03 Sep at 21:14;False\n",
       "2     3;Adam;email-address;20;03 Sep at 21:14;False\n",
       "3   4;Justin;email-addres;199;03 Sep at 21:14;False"
      ]
     },
     "execution_count": 61,
     "metadata": {},
     "output_type": "execute_result"
    }
   ],
   "source": [
    "pd.read_csv('s.csv')"
   ]
  },
  {
   "cell_type": "code",
   "execution_count": 62,
   "metadata": {},
   "outputs": [
    {
     "data": {
      "text/html": [
       "<div>\n",
       "<style scoped>\n",
       "    .dataframe tbody tr th:only-of-type {\n",
       "        vertical-align: middle;\n",
       "    }\n",
       "\n",
       "    .dataframe tbody tr th {\n",
       "        vertical-align: top;\n",
       "    }\n",
       "\n",
       "    .dataframe thead th {\n",
       "        text-align: right;\n",
       "    }\n",
       "</style>\n",
       "<table border=\"1\" class=\"dataframe\">\n",
       "  <thead>\n",
       "    <tr style=\"text-align: right;\">\n",
       "      <th></th>\n",
       "      <th>id</th>\n",
       "      <th>name</th>\n",
       "      <th>email</th>\n",
       "      <th>amount</th>\n",
       "      <th>date</th>\n",
       "      <th>sent</th>\n",
       "    </tr>\n",
       "  </thead>\n",
       "  <tbody>\n",
       "    <tr>\n",
       "      <th>0</th>\n",
       "      <td>1</td>\n",
       "      <td>Hopper</td>\n",
       "      <td>email-address</td>\n",
       "      <td>269</td>\n",
       "      <td>03 Sep at 21:14</td>\n",
       "      <td>False</td>\n",
       "    </tr>\n",
       "    <tr>\n",
       "      <th>1</th>\n",
       "      <td>2</td>\n",
       "      <td>Drake</td>\n",
       "      <td>email-address</td>\n",
       "      <td>690</td>\n",
       "      <td>03 Sep at 21:14</td>\n",
       "      <td>False</td>\n",
       "    </tr>\n",
       "    <tr>\n",
       "      <th>2</th>\n",
       "      <td>3</td>\n",
       "      <td>Adam</td>\n",
       "      <td>email-address</td>\n",
       "      <td>20</td>\n",
       "      <td>03 Sep at 21:14</td>\n",
       "      <td>False</td>\n",
       "    </tr>\n",
       "    <tr>\n",
       "      <th>3</th>\n",
       "      <td>4</td>\n",
       "      <td>Justin</td>\n",
       "      <td>email-addres</td>\n",
       "      <td>199</td>\n",
       "      <td>03 Sep at 21:14</td>\n",
       "      <td>False</td>\n",
       "    </tr>\n",
       "  </tbody>\n",
       "</table>\n",
       "</div>"
      ],
      "text/plain": [
       "   id    name          email  amount             date   sent\n",
       "0   1  Hopper  email-address     269  03 Sep at 21:14  False\n",
       "1   2   Drake  email-address     690  03 Sep at 21:14  False\n",
       "2   3    Adam  email-address      20  03 Sep at 21:14  False\n",
       "3   4  Justin   email-addres     199  03 Sep at 21:14  False"
      ]
     },
     "execution_count": 62,
     "metadata": {},
     "output_type": "execute_result"
    }
   ],
   "source": [
    "pd.read_csv('s.csv',sep =\";\")"
   ]
  },
  {
   "cell_type": "markdown",
   "metadata": {},
   "source": [
    "### Reading HTML:  Fetching Tabular data from given website link"
   ]
  },
  {
   "cell_type": "markdown",
   "metadata": {},
   "source": [
    "### Reading HTML:  Fetching Tabular data from given website link"
   ]
  },
  {
   "cell_type": "code",
   "execution_count": 2,
   "metadata": {},
   "outputs": [],
   "source": [
    "import pandas as pd"
   ]
  },
  {
   "cell_type": "code",
   "execution_count": 3,
   "metadata": {},
   "outputs": [
    {
     "data": {
      "text/plain": [
       "[   Crude Oil Prices - Historical Annual Data                                 \\\n",
       "                                         Year AverageClosing Price Year Open   \n",
       " 0                                       2022               $77.60    $76.08   \n",
       " 1                                       2021               $68.17    $47.62   \n",
       " 2                                       2020               $39.68    $61.17   \n",
       " 3                                       2019               $56.99    $46.31   \n",
       " 4                                       2018               $65.23    $60.37   \n",
       " 5                                       2017               $50.80    $52.36   \n",
       " 6                                       2016               $43.29    $36.81   \n",
       " 7                                       2015               $48.66    $52.72   \n",
       " 8                                       2014               $93.17    $95.14   \n",
       " 9                                       2013               $97.98    $93.14   \n",
       " 10                                      2012               $94.05   $102.96   \n",
       " 11                                      2011               $94.88    $91.59   \n",
       " 12                                      2010               $79.48    $81.52   \n",
       " 13                                      2009               $61.95    $46.17   \n",
       " 14                                      2008               $99.67    $99.64   \n",
       " 15                                      2007               $72.34    $60.77   \n",
       " 16                                      2006               $66.05    $63.11   \n",
       " 17                                      2005               $56.64    $42.16   \n",
       " 18                                      2004               $41.51    $33.71   \n",
       " 19                                      2003               $31.08    $31.97   \n",
       " 20                                      2002               $26.19    $21.13   \n",
       " 21                                      2001               $25.98    $27.29   \n",
       " 22                                      2000               $30.38    $25.56   \n",
       " 23                                      1999               $19.35    $12.42   \n",
       " 24                                      1998               $14.42    $17.41   \n",
       " 25                                      1997               $20.61    $25.55   \n",
       " 26                                      1996               $22.12    $19.83   \n",
       " 27                                      1995               $18.43    $17.45   \n",
       " 28                                      1994               $17.20    $14.52   \n",
       " 29                                      1993               $18.43    $19.03   \n",
       " 30                                      1992               $20.58    $19.43   \n",
       " 31                                      1991               $21.54    $26.53   \n",
       " 32                                      1990               $24.53    $22.88   \n",
       " 33                                      1989               $19.64    $17.38   \n",
       " 34                                      1988               $15.97    $17.77   \n",
       " 35                                      1987               $19.20    $18.13   \n",
       " \n",
       "                                                  \n",
       "    Year High Year Low Year Close Annual% Change  \n",
       " 0     $79.46   $76.08     $79.46          5.65%  \n",
       " 1     $84.65   $47.62     $75.21         55.01%  \n",
       " 2     $63.27   $11.26     $48.52        -20.64%  \n",
       " 3     $66.24   $46.31     $61.14         35.42%  \n",
       " 4     $77.41   $44.48     $45.15        -25.32%  \n",
       " 5     $60.46   $42.48     $60.46         12.48%  \n",
       " 6     $54.01   $26.19     $53.75         44.76%  \n",
       " 7     $61.36   $34.55     $37.13        -30.53%  \n",
       " 8    $107.95   $53.45     $53.45        -45.55%  \n",
       " 9    $110.62   $86.65     $98.17          6.90%  \n",
       " 10   $109.39   $77.72     $91.83         -7.08%  \n",
       " 11   $113.39   $75.40     $98.83          8.15%  \n",
       " 12    $91.48   $64.78     $91.38         15.10%  \n",
       " 13    $81.03   $34.03     $79.39         78.00%  \n",
       " 14   $145.31   $30.28     $44.60        -53.52%  \n",
       " 15    $99.16   $50.51     $95.95         57.68%  \n",
       " 16    $77.05   $55.90     $60.85         -0.34%  \n",
       " 17    $69.91   $42.16     $61.06         40.82%  \n",
       " 18    $56.37   $32.49     $43.36         33.37%  \n",
       " 19    $37.96   $25.25     $32.51          4.17%  \n",
       " 20    $32.68   $18.02     $31.21         56.36%  \n",
       " 21    $32.21   $17.50     $19.96        -25.30%  \n",
       " 22    $37.22   $23.91     $26.72          3.73%  \n",
       " 23    $28.03   $11.38     $25.76        112.19%  \n",
       " 24    $17.93   $10.82     $12.14        -31.22%  \n",
       " 25    $26.55   $17.60     $17.65        -31.85%  \n",
       " 26    $26.55   $17.33     $25.90         32.55%  \n",
       " 27    $20.53   $16.86     $19.54          9.96%  \n",
       " 28    $20.72   $13.89     $17.77         25.23%  \n",
       " 29    $21.05   $13.98     $14.19        -27.19%  \n",
       " 30    $23.03   $17.89     $19.49          1.78%  \n",
       " 31    $32.25   $17.43     $19.15        -32.76%  \n",
       " 32    $41.07   $15.43     $28.48         30.40%  \n",
       " 33    $24.62   $16.99     $21.84         27.57%  \n",
       " 34    $18.54   $12.58     $17.12          2.27%  \n",
       " 35    $22.44   $15.12     $16.74         -6.64%  ,\n",
       "                                   Link Preview  HTML Code (Click to Copy)\n",
       " 0  Crude Oil Prices - 70 Year Historical Chart                        NaN\n",
       " 1                                  Macrotrends                        NaN\n",
       " 2                                       Source                        NaN,\n",
       "                                   Link Preview  HTML Code (Click to Copy)\n",
       " 0  Crude Oil Prices - 70 Year Historical Chart                        NaN\n",
       " 1                                  Macrotrends                        NaN\n",
       " 2                                       Source                        NaN]"
      ]
     },
     "execution_count": 3,
     "metadata": {},
     "output_type": "execute_result"
    }
   ],
   "source": [
    "pd.read_html('https://www.macrotrends.net/1369/crude-oil-price-history-chart?q=')"
   ]
  },
  {
   "cell_type": "code",
   "execution_count": 4,
   "metadata": {},
   "outputs": [],
   "source": [
    "s = pd.read_html('https://www.macrotrends.net/1369/crude-oil-price-history-chart?q=')"
   ]
  },
  {
   "cell_type": "markdown",
   "metadata": {},
   "source": [
    "### When we read HTM there is possibility that multiple tables are available on website, and red htm will fetch all the table and store these Dataframes in a list"
   ]
  },
  {
   "cell_type": "code",
   "execution_count": 5,
   "metadata": {},
   "outputs": [
    {
     "data": {
      "text/plain": [
       "3"
      ]
     },
     "execution_count": 5,
     "metadata": {},
     "output_type": "execute_result"
    }
   ],
   "source": [
    "len(s)"
   ]
  },
  {
   "cell_type": "code",
   "execution_count": 6,
   "metadata": {},
   "outputs": [],
   "source": [
    "df = s[0]"
   ]
  },
  {
   "cell_type": "code",
   "execution_count": 7,
   "metadata": {},
   "outputs": [
    {
     "data": {
      "text/html": [
       "<div>\n",
       "<style scoped>\n",
       "    .dataframe tbody tr th:only-of-type {\n",
       "        vertical-align: middle;\n",
       "    }\n",
       "\n",
       "    .dataframe tbody tr th {\n",
       "        vertical-align: top;\n",
       "    }\n",
       "\n",
       "    .dataframe thead th {\n",
       "        text-align: right;\n",
       "    }\n",
       "</style>\n",
       "<table border=\"1\" class=\"dataframe\">\n",
       "  <thead>\n",
       "    <tr style=\"text-align: right;\">\n",
       "      <th></th>\n",
       "      <th>Link Preview</th>\n",
       "      <th>HTML Code (Click to Copy)</th>\n",
       "    </tr>\n",
       "  </thead>\n",
       "  <tbody>\n",
       "    <tr>\n",
       "      <th>0</th>\n",
       "      <td>Crude Oil Prices - 70 Year Historical Chart</td>\n",
       "      <td>NaN</td>\n",
       "    </tr>\n",
       "    <tr>\n",
       "      <th>1</th>\n",
       "      <td>Macrotrends</td>\n",
       "      <td>NaN</td>\n",
       "    </tr>\n",
       "    <tr>\n",
       "      <th>2</th>\n",
       "      <td>Source</td>\n",
       "      <td>NaN</td>\n",
       "    </tr>\n",
       "  </tbody>\n",
       "</table>\n",
       "</div>"
      ],
      "text/plain": [
       "                                  Link Preview  HTML Code (Click to Copy)\n",
       "0  Crude Oil Prices - 70 Year Historical Chart                        NaN\n",
       "1                                  Macrotrends                        NaN\n",
       "2                                       Source                        NaN"
      ]
     },
     "execution_count": 7,
     "metadata": {},
     "output_type": "execute_result"
    }
   ],
   "source": [
    "s[1]"
   ]
  },
  {
   "cell_type": "code",
   "execution_count": 8,
   "metadata": {},
   "outputs": [
    {
     "data": {
      "text/html": [
       "<div>\n",
       "<style scoped>\n",
       "    .dataframe tbody tr th:only-of-type {\n",
       "        vertical-align: middle;\n",
       "    }\n",
       "\n",
       "    .dataframe tbody tr th {\n",
       "        vertical-align: top;\n",
       "    }\n",
       "\n",
       "    .dataframe thead th {\n",
       "        text-align: right;\n",
       "    }\n",
       "</style>\n",
       "<table border=\"1\" class=\"dataframe\">\n",
       "  <thead>\n",
       "    <tr style=\"text-align: right;\">\n",
       "      <th></th>\n",
       "      <th>Link Preview</th>\n",
       "      <th>HTML Code (Click to Copy)</th>\n",
       "    </tr>\n",
       "  </thead>\n",
       "  <tbody>\n",
       "    <tr>\n",
       "      <th>0</th>\n",
       "      <td>Crude Oil Prices - 70 Year Historical Chart</td>\n",
       "      <td>NaN</td>\n",
       "    </tr>\n",
       "    <tr>\n",
       "      <th>1</th>\n",
       "      <td>Macrotrends</td>\n",
       "      <td>NaN</td>\n",
       "    </tr>\n",
       "    <tr>\n",
       "      <th>2</th>\n",
       "      <td>Source</td>\n",
       "      <td>NaN</td>\n",
       "    </tr>\n",
       "  </tbody>\n",
       "</table>\n",
       "</div>"
      ],
      "text/plain": [
       "                                  Link Preview  HTML Code (Click to Copy)\n",
       "0  Crude Oil Prices - 70 Year Historical Chart                        NaN\n",
       "1                                  Macrotrends                        NaN\n",
       "2                                       Source                        NaN"
      ]
     },
     "execution_count": 8,
     "metadata": {},
     "output_type": "execute_result"
    }
   ],
   "source": [
    "s[2]"
   ]
  },
  {
   "cell_type": "code",
   "execution_count": 9,
   "metadata": {},
   "outputs": [
    {
     "data": {
      "text/html": [
       "<div>\n",
       "<style scoped>\n",
       "    .dataframe tbody tr th:only-of-type {\n",
       "        vertical-align: middle;\n",
       "    }\n",
       "\n",
       "    .dataframe tbody tr th {\n",
       "        vertical-align: top;\n",
       "    }\n",
       "\n",
       "    .dataframe thead tr th {\n",
       "        text-align: left;\n",
       "    }\n",
       "</style>\n",
       "<table border=\"1\" class=\"dataframe\">\n",
       "  <thead>\n",
       "    <tr>\n",
       "      <th></th>\n",
       "      <th colspan=\"7\" halign=\"left\">Crude Oil Prices - Historical Annual Data</th>\n",
       "    </tr>\n",
       "    <tr>\n",
       "      <th></th>\n",
       "      <th>Year</th>\n",
       "      <th>AverageClosing Price</th>\n",
       "      <th>Year Open</th>\n",
       "      <th>Year High</th>\n",
       "      <th>Year Low</th>\n",
       "      <th>Year Close</th>\n",
       "      <th>Annual% Change</th>\n",
       "    </tr>\n",
       "  </thead>\n",
       "  <tbody>\n",
       "    <tr>\n",
       "      <th>0</th>\n",
       "      <td>2022</td>\n",
       "      <td>$77.60</td>\n",
       "      <td>$76.08</td>\n",
       "      <td>$79.46</td>\n",
       "      <td>$76.08</td>\n",
       "      <td>$79.46</td>\n",
       "      <td>5.65%</td>\n",
       "    </tr>\n",
       "    <tr>\n",
       "      <th>1</th>\n",
       "      <td>2021</td>\n",
       "      <td>$68.17</td>\n",
       "      <td>$47.62</td>\n",
       "      <td>$84.65</td>\n",
       "      <td>$47.62</td>\n",
       "      <td>$75.21</td>\n",
       "      <td>55.01%</td>\n",
       "    </tr>\n",
       "    <tr>\n",
       "      <th>2</th>\n",
       "      <td>2020</td>\n",
       "      <td>$39.68</td>\n",
       "      <td>$61.17</td>\n",
       "      <td>$63.27</td>\n",
       "      <td>$11.26</td>\n",
       "      <td>$48.52</td>\n",
       "      <td>-20.64%</td>\n",
       "    </tr>\n",
       "    <tr>\n",
       "      <th>3</th>\n",
       "      <td>2019</td>\n",
       "      <td>$56.99</td>\n",
       "      <td>$46.31</td>\n",
       "      <td>$66.24</td>\n",
       "      <td>$46.31</td>\n",
       "      <td>$61.14</td>\n",
       "      <td>35.42%</td>\n",
       "    </tr>\n",
       "    <tr>\n",
       "      <th>4</th>\n",
       "      <td>2018</td>\n",
       "      <td>$65.23</td>\n",
       "      <td>$60.37</td>\n",
       "      <td>$77.41</td>\n",
       "      <td>$44.48</td>\n",
       "      <td>$45.15</td>\n",
       "      <td>-25.32%</td>\n",
       "    </tr>\n",
       "    <tr>\n",
       "      <th>5</th>\n",
       "      <td>2017</td>\n",
       "      <td>$50.80</td>\n",
       "      <td>$52.36</td>\n",
       "      <td>$60.46</td>\n",
       "      <td>$42.48</td>\n",
       "      <td>$60.46</td>\n",
       "      <td>12.48%</td>\n",
       "    </tr>\n",
       "    <tr>\n",
       "      <th>6</th>\n",
       "      <td>2016</td>\n",
       "      <td>$43.29</td>\n",
       "      <td>$36.81</td>\n",
       "      <td>$54.01</td>\n",
       "      <td>$26.19</td>\n",
       "      <td>$53.75</td>\n",
       "      <td>44.76%</td>\n",
       "    </tr>\n",
       "    <tr>\n",
       "      <th>7</th>\n",
       "      <td>2015</td>\n",
       "      <td>$48.66</td>\n",
       "      <td>$52.72</td>\n",
       "      <td>$61.36</td>\n",
       "      <td>$34.55</td>\n",
       "      <td>$37.13</td>\n",
       "      <td>-30.53%</td>\n",
       "    </tr>\n",
       "    <tr>\n",
       "      <th>8</th>\n",
       "      <td>2014</td>\n",
       "      <td>$93.17</td>\n",
       "      <td>$95.14</td>\n",
       "      <td>$107.95</td>\n",
       "      <td>$53.45</td>\n",
       "      <td>$53.45</td>\n",
       "      <td>-45.55%</td>\n",
       "    </tr>\n",
       "    <tr>\n",
       "      <th>9</th>\n",
       "      <td>2013</td>\n",
       "      <td>$97.98</td>\n",
       "      <td>$93.14</td>\n",
       "      <td>$110.62</td>\n",
       "      <td>$86.65</td>\n",
       "      <td>$98.17</td>\n",
       "      <td>6.90%</td>\n",
       "    </tr>\n",
       "    <tr>\n",
       "      <th>10</th>\n",
       "      <td>2012</td>\n",
       "      <td>$94.05</td>\n",
       "      <td>$102.96</td>\n",
       "      <td>$109.39</td>\n",
       "      <td>$77.72</td>\n",
       "      <td>$91.83</td>\n",
       "      <td>-7.08%</td>\n",
       "    </tr>\n",
       "    <tr>\n",
       "      <th>11</th>\n",
       "      <td>2011</td>\n",
       "      <td>$94.88</td>\n",
       "      <td>$91.59</td>\n",
       "      <td>$113.39</td>\n",
       "      <td>$75.40</td>\n",
       "      <td>$98.83</td>\n",
       "      <td>8.15%</td>\n",
       "    </tr>\n",
       "    <tr>\n",
       "      <th>12</th>\n",
       "      <td>2010</td>\n",
       "      <td>$79.48</td>\n",
       "      <td>$81.52</td>\n",
       "      <td>$91.48</td>\n",
       "      <td>$64.78</td>\n",
       "      <td>$91.38</td>\n",
       "      <td>15.10%</td>\n",
       "    </tr>\n",
       "    <tr>\n",
       "      <th>13</th>\n",
       "      <td>2009</td>\n",
       "      <td>$61.95</td>\n",
       "      <td>$46.17</td>\n",
       "      <td>$81.03</td>\n",
       "      <td>$34.03</td>\n",
       "      <td>$79.39</td>\n",
       "      <td>78.00%</td>\n",
       "    </tr>\n",
       "    <tr>\n",
       "      <th>14</th>\n",
       "      <td>2008</td>\n",
       "      <td>$99.67</td>\n",
       "      <td>$99.64</td>\n",
       "      <td>$145.31</td>\n",
       "      <td>$30.28</td>\n",
       "      <td>$44.60</td>\n",
       "      <td>-53.52%</td>\n",
       "    </tr>\n",
       "    <tr>\n",
       "      <th>15</th>\n",
       "      <td>2007</td>\n",
       "      <td>$72.34</td>\n",
       "      <td>$60.77</td>\n",
       "      <td>$99.16</td>\n",
       "      <td>$50.51</td>\n",
       "      <td>$95.95</td>\n",
       "      <td>57.68%</td>\n",
       "    </tr>\n",
       "    <tr>\n",
       "      <th>16</th>\n",
       "      <td>2006</td>\n",
       "      <td>$66.05</td>\n",
       "      <td>$63.11</td>\n",
       "      <td>$77.05</td>\n",
       "      <td>$55.90</td>\n",
       "      <td>$60.85</td>\n",
       "      <td>-0.34%</td>\n",
       "    </tr>\n",
       "    <tr>\n",
       "      <th>17</th>\n",
       "      <td>2005</td>\n",
       "      <td>$56.64</td>\n",
       "      <td>$42.16</td>\n",
       "      <td>$69.91</td>\n",
       "      <td>$42.16</td>\n",
       "      <td>$61.06</td>\n",
       "      <td>40.82%</td>\n",
       "    </tr>\n",
       "    <tr>\n",
       "      <th>18</th>\n",
       "      <td>2004</td>\n",
       "      <td>$41.51</td>\n",
       "      <td>$33.71</td>\n",
       "      <td>$56.37</td>\n",
       "      <td>$32.49</td>\n",
       "      <td>$43.36</td>\n",
       "      <td>33.37%</td>\n",
       "    </tr>\n",
       "    <tr>\n",
       "      <th>19</th>\n",
       "      <td>2003</td>\n",
       "      <td>$31.08</td>\n",
       "      <td>$31.97</td>\n",
       "      <td>$37.96</td>\n",
       "      <td>$25.25</td>\n",
       "      <td>$32.51</td>\n",
       "      <td>4.17%</td>\n",
       "    </tr>\n",
       "    <tr>\n",
       "      <th>20</th>\n",
       "      <td>2002</td>\n",
       "      <td>$26.19</td>\n",
       "      <td>$21.13</td>\n",
       "      <td>$32.68</td>\n",
       "      <td>$18.02</td>\n",
       "      <td>$31.21</td>\n",
       "      <td>56.36%</td>\n",
       "    </tr>\n",
       "    <tr>\n",
       "      <th>21</th>\n",
       "      <td>2001</td>\n",
       "      <td>$25.98</td>\n",
       "      <td>$27.29</td>\n",
       "      <td>$32.21</td>\n",
       "      <td>$17.50</td>\n",
       "      <td>$19.96</td>\n",
       "      <td>-25.30%</td>\n",
       "    </tr>\n",
       "    <tr>\n",
       "      <th>22</th>\n",
       "      <td>2000</td>\n",
       "      <td>$30.38</td>\n",
       "      <td>$25.56</td>\n",
       "      <td>$37.22</td>\n",
       "      <td>$23.91</td>\n",
       "      <td>$26.72</td>\n",
       "      <td>3.73%</td>\n",
       "    </tr>\n",
       "    <tr>\n",
       "      <th>23</th>\n",
       "      <td>1999</td>\n",
       "      <td>$19.35</td>\n",
       "      <td>$12.42</td>\n",
       "      <td>$28.03</td>\n",
       "      <td>$11.38</td>\n",
       "      <td>$25.76</td>\n",
       "      <td>112.19%</td>\n",
       "    </tr>\n",
       "    <tr>\n",
       "      <th>24</th>\n",
       "      <td>1998</td>\n",
       "      <td>$14.42</td>\n",
       "      <td>$17.41</td>\n",
       "      <td>$17.93</td>\n",
       "      <td>$10.82</td>\n",
       "      <td>$12.14</td>\n",
       "      <td>-31.22%</td>\n",
       "    </tr>\n",
       "    <tr>\n",
       "      <th>25</th>\n",
       "      <td>1997</td>\n",
       "      <td>$20.61</td>\n",
       "      <td>$25.55</td>\n",
       "      <td>$26.55</td>\n",
       "      <td>$17.60</td>\n",
       "      <td>$17.65</td>\n",
       "      <td>-31.85%</td>\n",
       "    </tr>\n",
       "    <tr>\n",
       "      <th>26</th>\n",
       "      <td>1996</td>\n",
       "      <td>$22.12</td>\n",
       "      <td>$19.83</td>\n",
       "      <td>$26.55</td>\n",
       "      <td>$17.33</td>\n",
       "      <td>$25.90</td>\n",
       "      <td>32.55%</td>\n",
       "    </tr>\n",
       "    <tr>\n",
       "      <th>27</th>\n",
       "      <td>1995</td>\n",
       "      <td>$18.43</td>\n",
       "      <td>$17.45</td>\n",
       "      <td>$20.53</td>\n",
       "      <td>$16.86</td>\n",
       "      <td>$19.54</td>\n",
       "      <td>9.96%</td>\n",
       "    </tr>\n",
       "    <tr>\n",
       "      <th>28</th>\n",
       "      <td>1994</td>\n",
       "      <td>$17.20</td>\n",
       "      <td>$14.52</td>\n",
       "      <td>$20.72</td>\n",
       "      <td>$13.89</td>\n",
       "      <td>$17.77</td>\n",
       "      <td>25.23%</td>\n",
       "    </tr>\n",
       "    <tr>\n",
       "      <th>29</th>\n",
       "      <td>1993</td>\n",
       "      <td>$18.43</td>\n",
       "      <td>$19.03</td>\n",
       "      <td>$21.05</td>\n",
       "      <td>$13.98</td>\n",
       "      <td>$14.19</td>\n",
       "      <td>-27.19%</td>\n",
       "    </tr>\n",
       "    <tr>\n",
       "      <th>30</th>\n",
       "      <td>1992</td>\n",
       "      <td>$20.58</td>\n",
       "      <td>$19.43</td>\n",
       "      <td>$23.03</td>\n",
       "      <td>$17.89</td>\n",
       "      <td>$19.49</td>\n",
       "      <td>1.78%</td>\n",
       "    </tr>\n",
       "    <tr>\n",
       "      <th>31</th>\n",
       "      <td>1991</td>\n",
       "      <td>$21.54</td>\n",
       "      <td>$26.53</td>\n",
       "      <td>$32.25</td>\n",
       "      <td>$17.43</td>\n",
       "      <td>$19.15</td>\n",
       "      <td>-32.76%</td>\n",
       "    </tr>\n",
       "    <tr>\n",
       "      <th>32</th>\n",
       "      <td>1990</td>\n",
       "      <td>$24.53</td>\n",
       "      <td>$22.88</td>\n",
       "      <td>$41.07</td>\n",
       "      <td>$15.43</td>\n",
       "      <td>$28.48</td>\n",
       "      <td>30.40%</td>\n",
       "    </tr>\n",
       "    <tr>\n",
       "      <th>33</th>\n",
       "      <td>1989</td>\n",
       "      <td>$19.64</td>\n",
       "      <td>$17.38</td>\n",
       "      <td>$24.62</td>\n",
       "      <td>$16.99</td>\n",
       "      <td>$21.84</td>\n",
       "      <td>27.57%</td>\n",
       "    </tr>\n",
       "    <tr>\n",
       "      <th>34</th>\n",
       "      <td>1988</td>\n",
       "      <td>$15.97</td>\n",
       "      <td>$17.77</td>\n",
       "      <td>$18.54</td>\n",
       "      <td>$12.58</td>\n",
       "      <td>$17.12</td>\n",
       "      <td>2.27%</td>\n",
       "    </tr>\n",
       "    <tr>\n",
       "      <th>35</th>\n",
       "      <td>1987</td>\n",
       "      <td>$19.20</td>\n",
       "      <td>$18.13</td>\n",
       "      <td>$22.44</td>\n",
       "      <td>$15.12</td>\n",
       "      <td>$16.74</td>\n",
       "      <td>-6.64%</td>\n",
       "    </tr>\n",
       "  </tbody>\n",
       "</table>\n",
       "</div>"
      ],
      "text/plain": [
       "   Crude Oil Prices - Historical Annual Data                                 \\\n",
       "                                        Year AverageClosing Price Year Open   \n",
       "0                                       2022               $77.60    $76.08   \n",
       "1                                       2021               $68.17    $47.62   \n",
       "2                                       2020               $39.68    $61.17   \n",
       "3                                       2019               $56.99    $46.31   \n",
       "4                                       2018               $65.23    $60.37   \n",
       "5                                       2017               $50.80    $52.36   \n",
       "6                                       2016               $43.29    $36.81   \n",
       "7                                       2015               $48.66    $52.72   \n",
       "8                                       2014               $93.17    $95.14   \n",
       "9                                       2013               $97.98    $93.14   \n",
       "10                                      2012               $94.05   $102.96   \n",
       "11                                      2011               $94.88    $91.59   \n",
       "12                                      2010               $79.48    $81.52   \n",
       "13                                      2009               $61.95    $46.17   \n",
       "14                                      2008               $99.67    $99.64   \n",
       "15                                      2007               $72.34    $60.77   \n",
       "16                                      2006               $66.05    $63.11   \n",
       "17                                      2005               $56.64    $42.16   \n",
       "18                                      2004               $41.51    $33.71   \n",
       "19                                      2003               $31.08    $31.97   \n",
       "20                                      2002               $26.19    $21.13   \n",
       "21                                      2001               $25.98    $27.29   \n",
       "22                                      2000               $30.38    $25.56   \n",
       "23                                      1999               $19.35    $12.42   \n",
       "24                                      1998               $14.42    $17.41   \n",
       "25                                      1997               $20.61    $25.55   \n",
       "26                                      1996               $22.12    $19.83   \n",
       "27                                      1995               $18.43    $17.45   \n",
       "28                                      1994               $17.20    $14.52   \n",
       "29                                      1993               $18.43    $19.03   \n",
       "30                                      1992               $20.58    $19.43   \n",
       "31                                      1991               $21.54    $26.53   \n",
       "32                                      1990               $24.53    $22.88   \n",
       "33                                      1989               $19.64    $17.38   \n",
       "34                                      1988               $15.97    $17.77   \n",
       "35                                      1987               $19.20    $18.13   \n",
       "\n",
       "                                                 \n",
       "   Year High Year Low Year Close Annual% Change  \n",
       "0     $79.46   $76.08     $79.46          5.65%  \n",
       "1     $84.65   $47.62     $75.21         55.01%  \n",
       "2     $63.27   $11.26     $48.52        -20.64%  \n",
       "3     $66.24   $46.31     $61.14         35.42%  \n",
       "4     $77.41   $44.48     $45.15        -25.32%  \n",
       "5     $60.46   $42.48     $60.46         12.48%  \n",
       "6     $54.01   $26.19     $53.75         44.76%  \n",
       "7     $61.36   $34.55     $37.13        -30.53%  \n",
       "8    $107.95   $53.45     $53.45        -45.55%  \n",
       "9    $110.62   $86.65     $98.17          6.90%  \n",
       "10   $109.39   $77.72     $91.83         -7.08%  \n",
       "11   $113.39   $75.40     $98.83          8.15%  \n",
       "12    $91.48   $64.78     $91.38         15.10%  \n",
       "13    $81.03   $34.03     $79.39         78.00%  \n",
       "14   $145.31   $30.28     $44.60        -53.52%  \n",
       "15    $99.16   $50.51     $95.95         57.68%  \n",
       "16    $77.05   $55.90     $60.85         -0.34%  \n",
       "17    $69.91   $42.16     $61.06         40.82%  \n",
       "18    $56.37   $32.49     $43.36         33.37%  \n",
       "19    $37.96   $25.25     $32.51          4.17%  \n",
       "20    $32.68   $18.02     $31.21         56.36%  \n",
       "21    $32.21   $17.50     $19.96        -25.30%  \n",
       "22    $37.22   $23.91     $26.72          3.73%  \n",
       "23    $28.03   $11.38     $25.76        112.19%  \n",
       "24    $17.93   $10.82     $12.14        -31.22%  \n",
       "25    $26.55   $17.60     $17.65        -31.85%  \n",
       "26    $26.55   $17.33     $25.90         32.55%  \n",
       "27    $20.53   $16.86     $19.54          9.96%  \n",
       "28    $20.72   $13.89     $17.77         25.23%  \n",
       "29    $21.05   $13.98     $14.19        -27.19%  \n",
       "30    $23.03   $17.89     $19.49          1.78%  \n",
       "31    $32.25   $17.43     $19.15        -32.76%  \n",
       "32    $41.07   $15.43     $28.48         30.40%  \n",
       "33    $24.62   $16.99     $21.84         27.57%  \n",
       "34    $18.54   $12.58     $17.12          2.27%  \n",
       "35    $22.44   $15.12     $16.74         -6.64%  "
      ]
     },
     "execution_count": 9,
     "metadata": {},
     "output_type": "execute_result"
    }
   ],
   "source": [
    "df"
   ]
  },
  {
   "cell_type": "code",
   "execution_count": 10,
   "metadata": {},
   "outputs": [
    {
     "data": {
      "text/plain": [
       "(36, 7)"
      ]
     },
     "execution_count": 10,
     "metadata": {},
     "output_type": "execute_result"
    }
   ],
   "source": [
    "df.shape"
   ]
  },
  {
   "cell_type": "code",
   "execution_count": 11,
   "metadata": {},
   "outputs": [
    {
     "data": {
      "text/plain": [
       "7"
      ]
     },
     "execution_count": 11,
     "metadata": {},
     "output_type": "execute_result"
    }
   ],
   "source": [
    "len(df.columns)\n"
   ]
  },
  {
   "cell_type": "code",
   "execution_count": 13,
   "metadata": {},
   "outputs": [],
   "source": [
    "name = []\n",
    "\n",
    "for i in df.columns:\n",
    "    a = i[1]\n",
    "    name.append(a)"
   ]
  },
  {
   "cell_type": "code",
   "execution_count": 14,
   "metadata": {},
   "outputs": [],
   "source": [
    "df.columns = name"
   ]
  },
  {
   "cell_type": "code",
   "execution_count": null,
   "metadata": {},
   "outputs": [],
   "source": []
  }
 ],
 "metadata": {
  "kernelspec": {
   "display_name": "Python 3",
   "language": "python",
   "name": "python3"
  },
  "language_info": {
   "codemirror_mode": {
    "name": "ipython",
    "version": 3
   },
   "file_extension": ".py",
   "mimetype": "text/x-python",
   "name": "python",
   "nbconvert_exporter": "python",
   "pygments_lexer": "ipython3",
   "version": "3.8.8"
  }
 },
 "nbformat": 4,
 "nbformat_minor": 2
}
